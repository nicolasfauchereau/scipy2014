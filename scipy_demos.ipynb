{
 "metadata": {
  "name": "",
  "signature": "sha256:4e51d7aaa90f12531ce9a5d168c6764275a4396bbd65395079c620f29deb8f4f"
 },
 "nbformat": 3,
 "nbformat_minor": 0,
 "worksheets": [
  {
   "cells": [
    {
     "cell_type": "heading",
     "level": 1,
     "metadata": {},
     "source": [
      "Demos for Scipy 2014"
     ]
    },
    {
     "cell_type": "markdown",
     "metadata": {},
     "source": [
      "+ [IPython widgets](./IPython_widgets.ipynb)  \n",
      "<br>\n",
      "+ [Iris and Cartopy](./iris_cartopy.ipynb)  \n",
      "<br>    \n",
      "+ [Interactive plots in the browser](./Interactive_plots.ipynb)"
     ]
    }
   ],
   "metadata": {}
  }
 ]
}