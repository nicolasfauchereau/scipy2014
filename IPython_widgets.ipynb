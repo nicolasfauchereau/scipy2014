{
 "metadata": {
  "name": "",
  "signature": "sha256:059797a0b8e346758aeab330b83b947d58f7f364af031ba66a2da19212baeac6"
 },
 "nbformat": 3,
 "nbformat_minor": 0,
 "worksheets": [
  {
   "cells": [
    {
     "cell_type": "code",
     "collapsed": false,
     "input": [
      "%load_ext load_style\n",
      "%load_style talk.css"
     ],
     "language": "python",
     "metadata": {},
     "outputs": []
    },
    {
     "cell_type": "heading",
     "level": 1,
     "metadata": {},
     "source": [
      "What is IPython and the IPython notebook ? "
     ]
    },
    {
     "cell_type": "markdown",
     "metadata": {},
     "source": [
      "[IPython](http://ipython.org/) is a enhanced Python shell giving many niceties (interactive help, code introspection, etc)"
     ]
    },
    {
     "cell_type": "markdown",
     "metadata": {},
     "source": [
      "The [IPython notebook](http://ipython.org/notebook.html) is a Web Notebook (running in the browser) connected to an IPython engine "
     ]
    },
    {
     "cell_type": "markdown",
     "metadata": {},
     "source": [
      "From the website: \n",
      "\n",
      "    The IPython Notebook is a web-based interactive computational environment where you can combine code execution, text, mathematics, plots and rich media into a single document"
     ]
    },
    {
     "cell_type": "heading",
     "level": 3,
     "metadata": {},
     "source": [
      "executable code "
     ]
    },
    {
     "cell_type": "code",
     "collapsed": false,
     "input": [
      "### This is a code cell, containing python code, it is executed by <shift>-<enter> or <alt>-<enter>\n",
      "\n",
      "def func(x): \n",
      "    return x**2\n",
      "\n",
      "[func(x) for x in xrange(10)]"
     ],
     "language": "python",
     "metadata": {},
     "outputs": []
    },
    {
     "cell_type": "code",
     "collapsed": false,
     "input": [
      "%matplotlib inline"
     ],
     "language": "python",
     "metadata": {},
     "outputs": []
    },
    {
     "cell_type": "code",
     "collapsed": false,
     "input": [
      "import numpy as np\n",
      "import matplotlib.pyplot as plt\n",
      "t = np.linspace(0, 2*np.pi, 100)\n",
      "plt.plot(np.sin(t))\n",
      "plt.grid()"
     ],
     "language": "python",
     "metadata": {},
     "outputs": []
    },
    {
     "cell_type": "heading",
     "level": 3,
     "metadata": {},
     "source": [
      "[Markdown](http://daringfireball.net/projects/markdown/) cell"
     ]
    },
    {
     "cell_type": "markdown",
     "metadata": {},
     "source": [
      "This is a **markdown** cell, I can [link to stuff](http://daringfireball.net/projects/markdown/), make lists\n",
      "\n",
      "+ one item \n",
      "+ anoter item\n",
      "\n",
      "and more generally use all [Markdown syntax](http://daringfireball.net/projects/markdown/syntax) elements\n",
      "\n",
      "I can also embed images such as this one directly into the cell, and if needed can use straight HTML tags\n",
      "\n",
      "\n",
      "![this is an image](files/images/presentation.png)"
     ]
    },
    {
     "cell_type": "markdown",
     "metadata": {},
     "source": [
      "Thanks to [MathJax](www.wikipedia/mathjax), you can include mathematical expressions in a markdown cell using Latex syntax both inline and displayed: \n",
      "\n",
      "For example ```$e^{i\\pi} + 1 = 0$``` becomes $e^{i\\pi} + 1 = 0$ \n",
      "\n",
      "and \n",
      "\n",
      "```$$e^x=\\sum_{i=0}^\\infty \\frac{1}{i!}x^i$$```\n",
      "\n",
      "becomes: \n",
      "\n",
      "$$e^x=\\sum_{i=0}^\\infty \\frac{1}{i!}x^i$$\n",
      "\n",
      "You can also do much more, if interested into the IPython notebook you can check out [my github repository](https://github.com/nicolasfauchereau/NIWA_Python_seminars) especially [this section](http://nbviewer.ipython.org/github/nicolasfauchereau/NIWA_Python_seminars/blob/master/1_Overview_IPython.ipynb)"
     ]
    },
    {
     "cell_type": "markdown",
     "metadata": {},
     "source": [
      "<hr size=5>"
     ]
    },
    {
     "cell_type": "heading",
     "level": 2,
     "metadata": {},
     "source": [
      "A short demo of the IPython notebook widgets"
     ]
    },
    {
     "cell_type": "code",
     "collapsed": false,
     "input": [
      "from IPython.html.widgets import interact, interactive, fixed\n",
      "from IPython.html import widgets"
     ],
     "language": "python",
     "metadata": {},
     "outputs": []
    },
    {
     "cell_type": "heading",
     "level": 3,
     "metadata": {},
     "source": [
      "simple function that just prints its argument"
     ]
    },
    {
     "cell_type": "code",
     "collapsed": false,
     "input": [
      "def f(x):\n",
      "    print(x)"
     ],
     "language": "python",
     "metadata": {},
     "outputs": []
    },
    {
     "cell_type": "heading",
     "level": 3,
     "metadata": {},
     "source": [
      "if x is a integer, a widget slider will be created"
     ]
    },
    {
     "cell_type": "code",
     "collapsed": false,
     "input": [
      "interact(f, x=10); "
     ],
     "language": "python",
     "metadata": {},
     "outputs": []
    },
    {
     "cell_type": "heading",
     "level": 4,
     "metadata": {},
     "source": [
      "you can also use a python `decorator` syntax"
     ]
    },
    {
     "cell_type": "code",
     "collapsed": false,
     "input": [
      "@interact(x=2)\n",
      "def f(x):\n",
      "    print(x)"
     ],
     "language": "python",
     "metadata": {},
     "outputs": []
    },
    {
     "cell_type": "heading",
     "level": 3,
     "metadata": {},
     "source": [
      "If x is Boolean (True / False), a checkbox is created"
     ]
    },
    {
     "cell_type": "code",
     "collapsed": false,
     "input": [
      "interact(f, x=True); "
     ],
     "language": "python",
     "metadata": {},
     "outputs": []
    },
    {
     "cell_type": "heading",
     "level": 3,
     "metadata": {},
     "source": [
      "If x is a string: text box"
     ]
    },
    {
     "cell_type": "code",
     "collapsed": false,
     "input": [
      "interact(f, x='Hi there!');"
     ],
     "language": "python",
     "metadata": {},
     "outputs": []
    },
    {
     "cell_type": "heading",
     "level": 3,
     "metadata": {},
     "source": [
      "Widgets can be called with arguments to customize them"
     ]
    },
    {
     "cell_type": "code",
     "collapsed": false,
     "input": [
      "interact(f, x=widgets.IntSliderWidget(min=-20,max=40,step=2,value=10));"
     ],
     "language": "python",
     "metadata": {},
     "outputs": []
    },
    {
     "cell_type": "heading",
     "level": 3,
     "metadata": {},
     "source": [
      "And you can completely override the defaults widget by defining what you want"
     ]
    },
    {
     "cell_type": "code",
     "collapsed": false,
     "input": [
      "interact(f, x=widgets.DropdownWidget(\n",
      "    values=range(1,10),\n",
      "    value=2\n",
      ")); "
     ],
     "language": "python",
     "metadata": {},
     "outputs": []
    },
    {
     "cell_type": "heading",
     "level": 3,
     "metadata": {},
     "source": [
      "An example with plot"
     ]
    },
    {
     "cell_type": "code",
     "collapsed": false,
     "input": [
      "import pandas as pd"
     ],
     "language": "python",
     "metadata": {},
     "outputs": []
    },
    {
     "cell_type": "heading",
     "level": 4,
     "metadata": {},
     "source": [
      "2 variables: just random gaussian noise"
     ]
    },
    {
     "cell_type": "code",
     "collapsed": false,
     "input": [
      "xdf = pd.DataFrame(np.random.normal(size=(100,2)), columns=['A','B'])"
     ],
     "language": "python",
     "metadata": {},
     "outputs": []
    },
    {
     "cell_type": "code",
     "collapsed": false,
     "input": [
      "xdf.plot()"
     ],
     "language": "python",
     "metadata": {},
     "outputs": []
    },
    {
     "cell_type": "code",
     "collapsed": false,
     "input": [
      "def plot_x(x, variable='A'):\n",
      "    f, ax = plt.subplots(figsize=(10,5))\n",
      "    x[variable].plot(ax=ax, label=variable, lw=2)\n",
      "    ax.set_ylim(-3, 3)\n",
      "    plt.legend()\n",
      "    plt.show()"
     ],
     "language": "python",
     "metadata": {},
     "outputs": []
    },
    {
     "cell_type": "code",
     "collapsed": false,
     "input": [
      "interact(plot_x, x=fixed(xdf), variable=widgets.SelectWidget(\n",
      "    #values=['A','B', ['A','B']]\n",
      "    values={'A': 'A', 'B': 'B', 'A and B': ['A','B']}, value=['A','B']\n",
      ")); "
     ],
     "language": "python",
     "metadata": {},
     "outputs": []
    },
    {
     "cell_type": "code",
     "collapsed": false,
     "input": [
      "interact(plot_x, x=fixed(xdf), variable=widgets.RadioButtonsWidget(\n",
      "    values={'A': 'A', 'B': 'B', 'A and B': ['A','B']}, value=['A','B']\n",
      ")); "
     ],
     "language": "python",
     "metadata": {},
     "outputs": []
    },
    {
     "cell_type": "code",
     "collapsed": false,
     "input": [],
     "language": "python",
     "metadata": {},
     "outputs": []
    }
   ],
   "metadata": {}
  }
 ]
}