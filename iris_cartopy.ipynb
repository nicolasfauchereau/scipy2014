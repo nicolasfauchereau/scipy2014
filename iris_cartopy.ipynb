{
 "metadata": {
  "name": "",
  "signature": "sha256:e254a25cc92a4353756386c5f951aed6e1363a6b8e4a60ce4531beb1ad7cfbf4"
 },
 "nbformat": 3,
 "nbformat_minor": 0,
 "worksheets": [
  {
   "cells": [
    {
     "cell_type": "code",
     "collapsed": false,
     "input": [
      "%load_ext load_style\n",
      "%load_style talk.css"
     ],
     "language": "python",
     "metadata": {},
     "outputs": []
    },
    {
     "cell_type": "heading",
     "level": 1,
     "metadata": {},
     "source": [
      "Iris and Cartopy"
     ]
    },
    {
     "cell_type": "markdown",
     "metadata": {},
     "source": [
      "[iris](http://scitools.org.uk/iris/index.html) and [cartopy](http://scitools.org.uk/cartopy/index.html) are developed by the [UK Met. Office](http://scitools.org.uk/).\n",
      "\n",
      "+ [iris](http://scitools.org.uk/iris/index.html) is a Python package for analysing and visualising meteorological and oceanographic data sets\n",
      "+ [cartopy](http://scitools.org.uk/cartopy/index.html) is a Python package for advanced map generation with a simple matplotlib interface.\n",
      "<br>\n",
      "<br>"
     ]
    },
    {
     "cell_type": "code",
     "collapsed": false,
     "input": [
      "import numpy as np\n",
      "import matplotlib\n",
      "import matplotlib.pyplot as plt\n",
      "import datetime as dt"
     ],
     "language": "python",
     "metadata": {},
     "outputs": []
    },
    {
     "cell_type": "code",
     "collapsed": false,
     "input": [
      "%matplotlib inline"
     ],
     "language": "python",
     "metadata": {},
     "outputs": []
    },
    {
     "cell_type": "code",
     "collapsed": false,
     "input": [
      "matplotlib.rcParams['figure.figsize'] = (10.0, 8.0)"
     ],
     "language": "python",
     "metadata": {},
     "outputs": []
    },
    {
     "cell_type": "code",
     "collapsed": false,
     "input": [
      "import iris"
     ],
     "language": "python",
     "metadata": {},
     "outputs": []
    },
    {
     "cell_type": "code",
     "collapsed": false,
     "input": [
      "import cartopy.crs as ccrs"
     ],
     "language": "python",
     "metadata": {},
     "outputs": []
    },
    {
     "cell_type": "code",
     "collapsed": false,
     "input": [
      "import iris.quickplot as qplt"
     ],
     "language": "python",
     "metadata": {},
     "outputs": []
    },
    {
     "cell_type": "heading",
     "level": 3,
     "metadata": {},
     "source": [
      "loading one day of Tropical Rainfall Measurement Mission (TRMM) rainfall (mm)"
     ]
    },
    {
     "cell_type": "code",
     "collapsed": false,
     "input": [
      "date = dt.datetime(2014,07,21)"
     ],
     "language": "python",
     "metadata": {},
     "outputs": []
    },
    {
     "cell_type": "code",
     "collapsed": false,
     "input": [
      "fname = '3B42RT_daily.{}.nc'.format(date.strftime('%Y.%m.%d'))"
     ],
     "language": "python",
     "metadata": {},
     "outputs": []
    },
    {
     "cell_type": "code",
     "collapsed": false,
     "input": [
      "trmm = iris.load_cube(fname)"
     ],
     "language": "python",
     "metadata": {},
     "outputs": []
    },
    {
     "cell_type": "code",
     "collapsed": false,
     "input": [
      "lats = trmm.coord('latitude').points\n",
      "lons = trmm.coord('longitude').points"
     ],
     "language": "python",
     "metadata": {},
     "outputs": []
    },
    {
     "cell_type": "code",
     "collapsed": false,
     "input": [
      "print(trmm)"
     ],
     "language": "python",
     "metadata": {},
     "outputs": []
    },
    {
     "cell_type": "code",
     "collapsed": false,
     "input": [
      "plt.imshow(trmm[0].data)"
     ],
     "language": "python",
     "metadata": {},
     "outputs": []
    },
    {
     "cell_type": "heading",
     "level": 2,
     "metadata": {},
     "source": [
      "quick and dirty mapping using the cartopy `qplt` function"
     ]
    },
    {
     "cell_type": "code",
     "collapsed": false,
     "input": [
      "proj = ccrs.PlateCarree(central_longitude=-180.0)"
     ],
     "language": "python",
     "metadata": {},
     "outputs": []
    },
    {
     "cell_type": "code",
     "collapsed": false,
     "input": [
      "import cartopy.crs as ccrs\n",
      "import matplotlib.pyplot as plt\n",
      "\n",
      "ax = plt.axes(projection=proj)\n",
      "ax.coastlines()\n",
      "\n",
      "qplt.contourf(trmm[0],  np.arange(5,50,5), cmap=plt.get_cmap('Blues'), extend='max')\n",
      "\n",
      "plt.show()"
     ],
     "language": "python",
     "metadata": {},
     "outputs": []
    },
    {
     "cell_type": "heading",
     "level": 2,
     "metadata": {},
     "source": [
      "if you want more control, use the `matplotlib` interface"
     ]
    },
    {
     "cell_type": "markdown",
     "metadata": {},
     "source": [
      "The line below makes accessible some `features` that you may want to add to your map  \n",
      "\n",
      "see [The cartopy Feature interface doc](http://scitools.org.uk/cartopy/docs/latest/matplotlib/feature_interface.html) for more information"
     ]
    },
    {
     "cell_type": "code",
     "collapsed": false,
     "input": [
      "import cartopy.feature as cfeature "
     ],
     "language": "python",
     "metadata": {},
     "outputs": []
    },
    {
     "cell_type": "code",
     "collapsed": false,
     "input": [
      "f = plt.figure()\n",
      "\n",
      "ax = plt.axes(projection=proj)\n",
      "\n",
      "im = ax.contourf(lons, lats, trmm[0].data, np.arange(5,50,5),\n",
      "             transform=ccrs.PlateCarree(), cmap=plt.get_cmap('Blues'), extend='max')\n",
      "\n",
      "ax.coastlines(linewidth=1.5)\n",
      "ax.gridlines(crs=proj, draw_labels=True)\n",
      "cb = plt.colorbar(im, orientation='horizontal', pad=0.05)\n",
      "cb.set_label('TRMM rainfall for {}: mm/day'.format(date.strftime('%Y/%m/%d')), fontsize=14)\n",
      "\n",
      "ax.add_feature(cfeature.LAND, alpha=0.3); "
     ],
     "language": "python",
     "metadata": {},
     "outputs": []
    },
    {
     "cell_type": "code",
     "collapsed": false,
     "input": [
      "f = plt.figure()\n",
      "\n",
      "ax = plt.axes(projection=proj)\n",
      "\n",
      "im = ax.contourf(lons, lats, trmm[0].data, np.arange(5,50,5),\n",
      "             transform=ccrs.PlateCarree(), cmap=plt.get_cmap('Blues'), extend='max')\n",
      "\n",
      "ax.coastlines(lw=0.5)\n",
      "ax.gridlines(crs=proj, draw_labels=True)\n",
      "cb = plt.colorbar(im, orientation='horizontal', pad=0.05)\n",
      "cb.set_label('TRMM rainfall for {}: mm/day'.format(date.strftime('%Y/%m/%d')), fontsize=14)\n",
      "\n",
      "ax.stock_img()"
     ],
     "language": "python",
     "metadata": {},
     "outputs": []
    }
   ],
   "metadata": {}
  }
 ]
}