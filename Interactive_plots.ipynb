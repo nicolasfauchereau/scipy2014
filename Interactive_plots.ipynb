{
 "metadata": {
  "name": "",
  "signature": "sha256:710b81a659c005d6a0e8f548f2567a4470c66b8ee561f4ce9765e7d6242ac590"
 },
 "nbformat": 3,
 "nbformat_minor": 0,
 "worksheets": [
  {
   "cells": [
    {
     "cell_type": "code",
     "collapsed": false,
     "input": [
      "%load_ext load_style\n",
      "%load_style talk.css"
     ],
     "language": "python",
     "metadata": {},
     "outputs": [
      {
       "html": [
        "<style>\n",
        "\n",
        ".rendered_html {\n",
        "    font-family: \"proxima-nova\", helvetica;\n",
        "    font-size: 130%;\n",
        "    line-height: 1.5;\n",
        "}\n",
        "\n",
        ".rendered_html h1 {\n",
        "    margin: 0.25em 0em 0.5em;\n",
        "    color: #015C9C;\n",
        "    text-align: center;\n",
        "    line-height: 1.2; \n",
        "    page-break-before: always;\n",
        "}\n",
        "\n",
        ".rendered_html h2 {\n",
        "    margin: 1.1em 0em 0.5em;\n",
        "    color: #26465D;\n",
        "    line-height: 1.2;\n",
        "}\n",
        "\n",
        ".rendered_html h3 {\n",
        "    margin: 1.1em 0em 0.5em;\n",
        "    color: #002845;\n",
        "    line-height: 1.2;\n",
        "}\n",
        "\n",
        ".rendered_html li {\n",
        "    line-height: 1.5; \n",
        "}\n",
        "\n",
        "/*.prompt {\n",
        "    font-size: 120%; \n",
        "}*/\n",
        "\n",
        ".CodeMirror-lines {\n",
        "    font-size: 110%; \n",
        "}\n",
        "\n",
        "/*.output_area {\n",
        "    font-size: 120%; \n",
        "}*/\n",
        "\n",
        "/*#notebook {\n",
        "    background-image: url('files/images/witewall_3.png');\n",
        "}*/\n",
        "\n",
        "h1.bigtitle {\n",
        "    margin: 4cm 1cm 4cm 1cm;\n",
        "    font-size: 300%;\n",
        "}\n",
        "\n",
        "h3.point {\n",
        "    font-size: 200%;\n",
        "    text-align: center;\n",
        "    margin: 2em 0em 2em 0em;\n",
        "    #26465D\n",
        "}\n",
        "\n",
        ".logo {\n",
        "    margin: 20px 0 20px 0;\n",
        "}\n",
        "\n",
        "a.anchor-link {\n",
        "    display: none;\n",
        "}\n",
        "\n",
        "h1.title { \n",
        "    font-size: 250%;\n",
        "}\n",
        "\n",
        "</style>"
       ],
       "metadata": {},
       "output_type": "display_data",
       "text": [
        "<IPython.core.display.HTML at 0x102b97bd0>"
       ]
      }
     ],
     "prompt_number": 1
    },
    {
     "cell_type": "heading",
     "level": 1,
     "metadata": {},
     "source": [
      "Interactive visualisations in the browser with Python"
     ]
    },
    {
     "cell_type": "markdown",
     "metadata": {},
     "source": [
      "In the past few years, the python (scientific) ecosystem has seen intense development of solutions aimed at bringing interactive data visualisation in the browser, through a set of libraries which basically interface with powerful JavaScript visualisations libraries such as `D3.js`, `rickshaw.js`, `leaflet.js` etc. \n",
      "\n",
      "In this demo we will see: \n",
      "\n",
      "+ [MPLd3](http://mpld3.github.io/)\n",
      "+ [bokeh](http://bokeh.pydata.org/)\n",
      "+ [bearcart](https://github.com/wrobstory/bearcart)\n",
      "+ [folium](https://github.com/wrobstory/folium)"
     ]
    },
    {
     "cell_type": "code",
     "collapsed": false,
     "input": [
      "import os, sys\n",
      "import pandas as pd\n",
      "import numpy as np\n",
      "from numpy import ma\n",
      "import matplotlib.pyplot as plt"
     ],
     "language": "python",
     "metadata": {},
     "outputs": [],
     "prompt_number": 4
    },
    {
     "cell_type": "code",
     "collapsed": false,
     "input": [
      "%matplotlib inline"
     ],
     "language": "python",
     "metadata": {},
     "outputs": [],
     "prompt_number": 5
    },
    {
     "cell_type": "markdown",
     "metadata": {},
     "source": [
      "<hr size=6>"
     ]
    },
    {
     "cell_type": "heading",
     "level": 2,
     "metadata": {},
     "source": [
      "MPLD3"
     ]
    },
    {
     "cell_type": "markdown",
     "metadata": {},
     "source": [
      "[MPLd3](http://mpld3.github.io/) is developed by [Jake VanderPlas](http://www.astro.washington.edu/users/vanderplas/)  \n",
      "\n",
      "MPLD3 provides a simple API for exporting [matplotlib](http://matplotlib.org) graphics to HTML code which can be used within the browser, within standard web pages, blogs, or tools such as the IPython notebook."
     ]
    },
    {
     "cell_type": "code",
     "collapsed": false,
     "input": [
      "import mpld3\n",
      "from mpld3 import plugins\n",
      "mpld3.enable_notebook()"
     ],
     "language": "python",
     "metadata": {},
     "outputs": [],
     "prompt_number": 6
    },
    {
     "cell_type": "code",
     "collapsed": false,
     "input": [
      "xdf = pd.DataFrame(np.random.normal(size=(100)), columns=['A'])"
     ],
     "language": "python",
     "metadata": {},
     "outputs": [],
     "prompt_number": 7
    },
    {
     "cell_type": "code",
     "collapsed": false,
     "input": [
      "f, ax= plt.subplots(figsize=(8,4)); \n",
      "ax.plot(xdf.index, xdf['A'], lw=2, color='b');\n",
      "ax.set_xlim(40,80)\n",
      "ax.grid(color='0.8')"
     ],
     "language": "python",
     "metadata": {},
     "outputs": [
      {
       "html": [
        "\n",
        "\n",
        "<style>\n",
        "\n",
        "</style>\n",
        "\n",
        "<div id=\"fig_el38044190684323330917661\"></div>\n",
        "<script>\n",
        "function mpld3_load_lib(url, callback){\n",
        "  var s = document.createElement('script');\n",
        "  s.src = url;\n",
        "  s.async = true;\n",
        "  s.onreadystatechange = s.onload = callback;\n",
        "  s.onerror = function(){console.warn(\"failed to load library \" + url);};\n",
        "  document.getElementsByTagName(\"head\")[0].appendChild(s);\n",
        "}\n",
        "\n",
        "if(typeof(mpld3) !== \"undefined\" && mpld3._mpld3IsLoaded){\n",
        "   // already loaded: just create the figure\n",
        "   !function(mpld3){\n",
        "       \n",
        "       mpld3.draw_figure(\"fig_el38044190684323330917661\", {\"axes\": [{\"xlim\": [40.0, 80.0], \"yscale\": \"linear\", \"axesbg\": \"#FFFFFF\", \"texts\": [], \"zoomable\": true, \"images\": [], \"xdomain\": [40.0, 80.0], \"ylim\": [-2.0, 4.0], \"paths\": [], \"sharey\": [], \"sharex\": [], \"axesbgalpha\": null, \"axes\": [{\"scale\": \"linear\", \"tickformat\": null, \"grid\": {\"color\": \"#CCCCCC\", \"alpha\": 1.0, \"dasharray\": \"2,2\", \"gridOn\": true}, \"fontsize\": 10.0, \"position\": \"bottom\", \"nticks\": 9, \"tickvalues\": null}, {\"scale\": \"linear\", \"tickformat\": null, \"grid\": {\"color\": \"#CCCCCC\", \"alpha\": 1.0, \"dasharray\": \"2,2\", \"gridOn\": true}, \"fontsize\": 10.0, \"position\": \"left\", \"nticks\": 7, \"tickvalues\": null}], \"lines\": [{\"color\": \"#0000FF\", \"yindex\": 1, \"coordinates\": \"data\", \"dasharray\": \"10,0\", \"zorder\": 2, \"alpha\": 1, \"xindex\": 0, \"linewidth\": 2, \"data\": \"data01\", \"id\": \"el3804420973072\"}], \"markers\": [], \"id\": \"el3804419069904\", \"ydomain\": [-2.0, 4.0], \"collections\": [], \"xscale\": \"linear\", \"bbox\": [0.125, 0.125, 0.77500000000000002, 0.77500000000000002]}], \"height\": 320.0, \"width\": 640.0, \"plugins\": [{\"type\": \"reset\"}, {\"enabled\": false, \"button\": true, \"type\": \"zoom\"}, {\"enabled\": false, \"button\": true, \"type\": \"boxzoom\"}], \"data\": {\"data01\": [[0.0, 1.7622048749486254], [1.0, -0.3832671431313509], [2.0, -0.09517273988952041], [3.0, 0.08957926017755055], [4.0, 1.3248400815362], [5.0, -0.5550295769852125], [6.0, -0.32977555804122494], [7.0, -1.2403863898016037], [8.0, -1.54033596920356], [9.0, 0.8619227520796233], [10.0, 0.37474148056652967], [11.0, 0.3492325200898253], [12.0, 1.3409037238218477], [13.0, -0.666179673239147], [14.0, 1.1496942430815265], [15.0, 1.056629167601399], [16.0, 0.6533743074759544], [17.0, 0.41422824153602034], [18.0, 0.3308549367119851], [19.0, 0.202524654584133], [20.0, 0.1607155272619572], [21.0, -0.20513724157818636], [22.0, -0.6130332913053137], [23.0, 0.3981442864898153], [24.0, -0.8272917569291506], [25.0, -1.2302885754299842], [26.0, 1.1268546851582955], [27.0, 1.2362899980389028], [28.0, -1.9306569424169255], [29.0, 0.9197841673387931], [30.0, 0.7184560062078189], [31.0, -0.6156079519606183], [32.0, -0.9336165654730958], [33.0, -1.493566277745062], [34.0, 1.264946806420277], [35.0, -1.5362129711036754], [36.0, 1.3577993939763742], [37.0, 0.3240784428754454], [38.0, -0.1355813875494825], [39.0, 0.2228488055512723], [40.0, 0.1333787173590744], [41.0, -1.8313550521325108], [42.0, 0.8090401055444207], [43.0, -1.3929438933318128], [44.0, 0.05469833741344987], [45.0, -1.8677175406194133], [46.0, 0.8006682807363504], [47.0, 0.7820174334034689], [48.0, -0.9127763750250074], [49.0, -0.40629184667383905], [50.0, 1.3639923287251738], [51.0, -0.6331262291426667], [52.0, -0.16828695515667447], [53.0, 1.0916266823606084], [54.0, -0.2567823460965169], [55.0, -0.575202785840744], [56.0, 0.30618902700915257], [57.0, 0.2905454113609136], [58.0, 0.2211640609892298], [59.0, -0.1385443642622117], [60.0, -0.865452388514833], [61.0, -0.8484957022382477], [62.0, 1.6452187674504386], [63.0, -1.2205124800955025], [64.0, -1.061818873190968], [65.0, 0.16548542773009878], [66.0, 1.845824476095236], [67.0, -0.16266197992738174], [68.0, -1.479204980292071], [69.0, -0.9526513814072377], [70.0, -1.0529565216397851], [71.0, 0.16788867336764665], [72.0, -0.5258197177860755], [73.0, -1.0795135299883767], [74.0, -0.25528036380519364], [75.0, -0.6996430570897162], [76.0, -1.1832461836688857], [77.0, 1.3075192389163588], [78.0, 1.8180494680003039], [79.0, 0.4551552600805424], [80.0, -1.011235044118869], [81.0, -0.3908849576963849], [82.0, -0.6795601571853394], [83.0, -0.28068807670271095], [84.0, -0.6445282355248384], [85.0, -0.07540134358047307], [86.0, 3.4416466580718743], [87.0, 0.29741592230727143], [88.0, -0.17595982563614226], [89.0, -1.143244683289376], [90.0, 1.2293703433692849], [91.0, -0.5947179059719575], [92.0, -1.1009083994713453], [93.0, -1.5223637930654317], [94.0, 1.2130767642907518], [95.0, 1.0616091878176834], [96.0, -0.5950847985748671], [97.0, -0.45019441271278166], [98.0, 0.030354919338790178], [99.0, 0.47130878344808447]]}, \"id\": \"el3804419068432\"});\n",
        "   }(mpld3);\n",
        "}else if(typeof define === \"function\" && define.amd){\n",
        "   // require.js is available: use it to load d3/mpld3\n",
        "   require.config({paths: {d3: \"https://mpld3.github.io/js/d3.v3.min\"}});\n",
        "   require([\"d3\"], function(d3){\n",
        "      window.d3 = d3;\n",
        "      mpld3_load_lib(\"https://mpld3.github.io/js/mpld3.v0.2.js\", function(){\n",
        "         \n",
        "         mpld3.draw_figure(\"fig_el38044190684323330917661\", {\"axes\": [{\"xlim\": [40.0, 80.0], \"yscale\": \"linear\", \"axesbg\": \"#FFFFFF\", \"texts\": [], \"zoomable\": true, \"images\": [], \"xdomain\": [40.0, 80.0], \"ylim\": [-2.0, 4.0], \"paths\": [], \"sharey\": [], \"sharex\": [], \"axesbgalpha\": null, \"axes\": [{\"scale\": \"linear\", \"tickformat\": null, \"grid\": {\"color\": \"#CCCCCC\", \"alpha\": 1.0, \"dasharray\": \"2,2\", \"gridOn\": true}, \"fontsize\": 10.0, \"position\": \"bottom\", \"nticks\": 9, \"tickvalues\": null}, {\"scale\": \"linear\", \"tickformat\": null, \"grid\": {\"color\": \"#CCCCCC\", \"alpha\": 1.0, \"dasharray\": \"2,2\", \"gridOn\": true}, \"fontsize\": 10.0, \"position\": \"left\", \"nticks\": 7, \"tickvalues\": null}], \"lines\": [{\"color\": \"#0000FF\", \"yindex\": 1, \"coordinates\": \"data\", \"dasharray\": \"10,0\", \"zorder\": 2, \"alpha\": 1, \"xindex\": 0, \"linewidth\": 2, \"data\": \"data01\", \"id\": \"el3804420973072\"}], \"markers\": [], \"id\": \"el3804419069904\", \"ydomain\": [-2.0, 4.0], \"collections\": [], \"xscale\": \"linear\", \"bbox\": [0.125, 0.125, 0.77500000000000002, 0.77500000000000002]}], \"height\": 320.0, \"width\": 640.0, \"plugins\": [{\"type\": \"reset\"}, {\"enabled\": false, \"button\": true, \"type\": \"zoom\"}, {\"enabled\": false, \"button\": true, \"type\": \"boxzoom\"}], \"data\": {\"data01\": [[0.0, 1.7622048749486254], [1.0, -0.3832671431313509], [2.0, -0.09517273988952041], [3.0, 0.08957926017755055], [4.0, 1.3248400815362], [5.0, -0.5550295769852125], [6.0, -0.32977555804122494], [7.0, -1.2403863898016037], [8.0, -1.54033596920356], [9.0, 0.8619227520796233], [10.0, 0.37474148056652967], [11.0, 0.3492325200898253], [12.0, 1.3409037238218477], [13.0, -0.666179673239147], [14.0, 1.1496942430815265], [15.0, 1.056629167601399], [16.0, 0.6533743074759544], [17.0, 0.41422824153602034], [18.0, 0.3308549367119851], [19.0, 0.202524654584133], [20.0, 0.1607155272619572], [21.0, -0.20513724157818636], [22.0, -0.6130332913053137], [23.0, 0.3981442864898153], [24.0, -0.8272917569291506], [25.0, -1.2302885754299842], [26.0, 1.1268546851582955], [27.0, 1.2362899980389028], [28.0, -1.9306569424169255], [29.0, 0.9197841673387931], [30.0, 0.7184560062078189], [31.0, -0.6156079519606183], [32.0, -0.9336165654730958], [33.0, -1.493566277745062], [34.0, 1.264946806420277], [35.0, -1.5362129711036754], [36.0, 1.3577993939763742], [37.0, 0.3240784428754454], [38.0, -0.1355813875494825], [39.0, 0.2228488055512723], [40.0, 0.1333787173590744], [41.0, -1.8313550521325108], [42.0, 0.8090401055444207], [43.0, -1.3929438933318128], [44.0, 0.05469833741344987], [45.0, -1.8677175406194133], [46.0, 0.8006682807363504], [47.0, 0.7820174334034689], [48.0, -0.9127763750250074], [49.0, -0.40629184667383905], [50.0, 1.3639923287251738], [51.0, -0.6331262291426667], [52.0, -0.16828695515667447], [53.0, 1.0916266823606084], [54.0, -0.2567823460965169], [55.0, -0.575202785840744], [56.0, 0.30618902700915257], [57.0, 0.2905454113609136], [58.0, 0.2211640609892298], [59.0, -0.1385443642622117], [60.0, -0.865452388514833], [61.0, -0.8484957022382477], [62.0, 1.6452187674504386], [63.0, -1.2205124800955025], [64.0, -1.061818873190968], [65.0, 0.16548542773009878], [66.0, 1.845824476095236], [67.0, -0.16266197992738174], [68.0, -1.479204980292071], [69.0, -0.9526513814072377], [70.0, -1.0529565216397851], [71.0, 0.16788867336764665], [72.0, -0.5258197177860755], [73.0, -1.0795135299883767], [74.0, -0.25528036380519364], [75.0, -0.6996430570897162], [76.0, -1.1832461836688857], [77.0, 1.3075192389163588], [78.0, 1.8180494680003039], [79.0, 0.4551552600805424], [80.0, -1.011235044118869], [81.0, -0.3908849576963849], [82.0, -0.6795601571853394], [83.0, -0.28068807670271095], [84.0, -0.6445282355248384], [85.0, -0.07540134358047307], [86.0, 3.4416466580718743], [87.0, 0.29741592230727143], [88.0, -0.17595982563614226], [89.0, -1.143244683289376], [90.0, 1.2293703433692849], [91.0, -0.5947179059719575], [92.0, -1.1009083994713453], [93.0, -1.5223637930654317], [94.0, 1.2130767642907518], [95.0, 1.0616091878176834], [96.0, -0.5950847985748671], [97.0, -0.45019441271278166], [98.0, 0.030354919338790178], [99.0, 0.47130878344808447]]}, \"id\": \"el3804419068432\"});\n",
        "      });\n",
        "    });\n",
        "}else{\n",
        "    // require.js not available: dynamically load d3 & mpld3\n",
        "    mpld3_load_lib(\"https://mpld3.github.io/js/d3.v3.min.js\", function(){\n",
        "         mpld3_load_lib(\"https://mpld3.github.io/js/mpld3.v0.2.js\", function(){\n",
        "                 \n",
        "                 mpld3.draw_figure(\"fig_el38044190684323330917661\", {\"axes\": [{\"xlim\": [40.0, 80.0], \"yscale\": \"linear\", \"axesbg\": \"#FFFFFF\", \"texts\": [], \"zoomable\": true, \"images\": [], \"xdomain\": [40.0, 80.0], \"ylim\": [-2.0, 4.0], \"paths\": [], \"sharey\": [], \"sharex\": [], \"axesbgalpha\": null, \"axes\": [{\"scale\": \"linear\", \"tickformat\": null, \"grid\": {\"color\": \"#CCCCCC\", \"alpha\": 1.0, \"dasharray\": \"2,2\", \"gridOn\": true}, \"fontsize\": 10.0, \"position\": \"bottom\", \"nticks\": 9, \"tickvalues\": null}, {\"scale\": \"linear\", \"tickformat\": null, \"grid\": {\"color\": \"#CCCCCC\", \"alpha\": 1.0, \"dasharray\": \"2,2\", \"gridOn\": true}, \"fontsize\": 10.0, \"position\": \"left\", \"nticks\": 7, \"tickvalues\": null}], \"lines\": [{\"color\": \"#0000FF\", \"yindex\": 1, \"coordinates\": \"data\", \"dasharray\": \"10,0\", \"zorder\": 2, \"alpha\": 1, \"xindex\": 0, \"linewidth\": 2, \"data\": \"data01\", \"id\": \"el3804420973072\"}], \"markers\": [], \"id\": \"el3804419069904\", \"ydomain\": [-2.0, 4.0], \"collections\": [], \"xscale\": \"linear\", \"bbox\": [0.125, 0.125, 0.77500000000000002, 0.77500000000000002]}], \"height\": 320.0, \"width\": 640.0, \"plugins\": [{\"type\": \"reset\"}, {\"enabled\": false, \"button\": true, \"type\": \"zoom\"}, {\"enabled\": false, \"button\": true, \"type\": \"boxzoom\"}], \"data\": {\"data01\": [[0.0, 1.7622048749486254], [1.0, -0.3832671431313509], [2.0, -0.09517273988952041], [3.0, 0.08957926017755055], [4.0, 1.3248400815362], [5.0, -0.5550295769852125], [6.0, -0.32977555804122494], [7.0, -1.2403863898016037], [8.0, -1.54033596920356], [9.0, 0.8619227520796233], [10.0, 0.37474148056652967], [11.0, 0.3492325200898253], [12.0, 1.3409037238218477], [13.0, -0.666179673239147], [14.0, 1.1496942430815265], [15.0, 1.056629167601399], [16.0, 0.6533743074759544], [17.0, 0.41422824153602034], [18.0, 0.3308549367119851], [19.0, 0.202524654584133], [20.0, 0.1607155272619572], [21.0, -0.20513724157818636], [22.0, -0.6130332913053137], [23.0, 0.3981442864898153], [24.0, -0.8272917569291506], [25.0, -1.2302885754299842], [26.0, 1.1268546851582955], [27.0, 1.2362899980389028], [28.0, -1.9306569424169255], [29.0, 0.9197841673387931], [30.0, 0.7184560062078189], [31.0, -0.6156079519606183], [32.0, -0.9336165654730958], [33.0, -1.493566277745062], [34.0, 1.264946806420277], [35.0, -1.5362129711036754], [36.0, 1.3577993939763742], [37.0, 0.3240784428754454], [38.0, -0.1355813875494825], [39.0, 0.2228488055512723], [40.0, 0.1333787173590744], [41.0, -1.8313550521325108], [42.0, 0.8090401055444207], [43.0, -1.3929438933318128], [44.0, 0.05469833741344987], [45.0, -1.8677175406194133], [46.0, 0.8006682807363504], [47.0, 0.7820174334034689], [48.0, -0.9127763750250074], [49.0, -0.40629184667383905], [50.0, 1.3639923287251738], [51.0, -0.6331262291426667], [52.0, -0.16828695515667447], [53.0, 1.0916266823606084], [54.0, -0.2567823460965169], [55.0, -0.575202785840744], [56.0, 0.30618902700915257], [57.0, 0.2905454113609136], [58.0, 0.2211640609892298], [59.0, -0.1385443642622117], [60.0, -0.865452388514833], [61.0, -0.8484957022382477], [62.0, 1.6452187674504386], [63.0, -1.2205124800955025], [64.0, -1.061818873190968], [65.0, 0.16548542773009878], [66.0, 1.845824476095236], [67.0, -0.16266197992738174], [68.0, -1.479204980292071], [69.0, -0.9526513814072377], [70.0, -1.0529565216397851], [71.0, 0.16788867336764665], [72.0, -0.5258197177860755], [73.0, -1.0795135299883767], [74.0, -0.25528036380519364], [75.0, -0.6996430570897162], [76.0, -1.1832461836688857], [77.0, 1.3075192389163588], [78.0, 1.8180494680003039], [79.0, 0.4551552600805424], [80.0, -1.011235044118869], [81.0, -0.3908849576963849], [82.0, -0.6795601571853394], [83.0, -0.28068807670271095], [84.0, -0.6445282355248384], [85.0, -0.07540134358047307], [86.0, 3.4416466580718743], [87.0, 0.29741592230727143], [88.0, -0.17595982563614226], [89.0, -1.143244683289376], [90.0, 1.2293703433692849], [91.0, -0.5947179059719575], [92.0, -1.1009083994713453], [93.0, -1.5223637930654317], [94.0, 1.2130767642907518], [95.0, 1.0616091878176834], [96.0, -0.5950847985748671], [97.0, -0.45019441271278166], [98.0, 0.030354919338790178], [99.0, 0.47130878344808447]]}, \"id\": \"el3804419068432\"});\n",
        "            })\n",
        "         });\n",
        "}\n",
        "</script>"
       ],
       "metadata": {},
       "output_type": "display_data",
       "png": "[encoded data removed]",
       "text": [
        "<matplotlib.figure.Figure at 0x10765a210>"
       ]
      }
     ],
     "prompt_number": 8
    },
    {
     "cell_type": "heading",
     "level": 3,
     "metadata": {},
     "source": [
      "you can connect ```plugins``` to the figure"
     ]
    },
    {
     "cell_type": "code",
     "collapsed": false,
     "input": [
      "f, ax= plt.subplots(figsize=(8,4)); \n",
      "plt.plot(xdf.index, xdf['A'], lw=2, color='b');\n",
      "ax.set_xlim(40,80)\n",
      "ax.grid(color='0.8')\n",
      "plugins.connect(f, plugins.MousePosition(fontsize=16))"
     ],
     "language": "python",
     "metadata": {},
     "outputs": [
      {
       "html": [
        "\n",
        "\n",
        "<style>\n",
        "\n",
        "</style>\n",
        "\n",
        "<div id=\"fig_el38044214011044294776614\"></div>\n",
        "<script>\n",
        "function mpld3_load_lib(url, callback){\n",
        "  var s = document.createElement('script');\n",
        "  s.src = url;\n",
        "  s.async = true;\n",
        "  s.onreadystatechange = s.onload = callback;\n",
        "  s.onerror = function(){console.warn(\"failed to load library \" + url);};\n",
        "  document.getElementsByTagName(\"head\")[0].appendChild(s);\n",
        "}\n",
        "\n",
        "if(typeof(mpld3) !== \"undefined\" && mpld3._mpld3IsLoaded){\n",
        "   // already loaded: just create the figure\n",
        "   !function(mpld3){\n",
        "       \n",
        "       mpld3.draw_figure(\"fig_el38044214011044294776614\", {\"axes\": [{\"xlim\": [40.0, 80.0], \"yscale\": \"linear\", \"axesbg\": \"#FFFFFF\", \"texts\": [], \"zoomable\": true, \"images\": [], \"xdomain\": [40.0, 80.0], \"ylim\": [-2.0, 4.0], \"paths\": [], \"sharey\": [], \"sharex\": [], \"axesbgalpha\": null, \"axes\": [{\"scale\": \"linear\", \"tickformat\": null, \"grid\": {\"color\": \"#CCCCCC\", \"alpha\": 1.0, \"dasharray\": \"2,2\", \"gridOn\": true}, \"fontsize\": 10.0, \"position\": \"bottom\", \"nticks\": 9, \"tickvalues\": null}, {\"scale\": \"linear\", \"tickformat\": null, \"grid\": {\"color\": \"#CCCCCC\", \"alpha\": 1.0, \"dasharray\": \"2,2\", \"gridOn\": true}, \"fontsize\": 10.0, \"position\": \"left\", \"nticks\": 7, \"tickvalues\": null}], \"lines\": [{\"color\": \"#0000FF\", \"yindex\": 1, \"coordinates\": \"data\", \"dasharray\": \"10,0\", \"zorder\": 2, \"alpha\": 1, \"xindex\": 0, \"linewidth\": 2, \"data\": \"data01\", \"id\": \"el3804423656656\"}], \"markers\": [], \"id\": \"el3804419441040\", \"ydomain\": [-2.0, 4.0], \"collections\": [], \"xscale\": \"linear\", \"bbox\": [0.125, 0.125, 0.77500000000000002, 0.77500000000000002]}], \"height\": 320.0, \"width\": 640.0, \"plugins\": [{\"type\": \"reset\"}, {\"enabled\": false, \"button\": true, \"type\": \"zoom\"}, {\"enabled\": false, \"button\": true, \"type\": \"boxzoom\"}, {\"fontsize\": 16, \"fmt\": \".3g\", \"type\": \"mouseposition\"}], \"data\": {\"data01\": [[0.0, 1.7622048749486254], [1.0, -0.3832671431313509], [2.0, -0.09517273988952041], [3.0, 0.08957926017755055], [4.0, 1.3248400815362], [5.0, -0.5550295769852125], [6.0, -0.32977555804122494], [7.0, -1.2403863898016037], [8.0, -1.54033596920356], [9.0, 0.8619227520796233], [10.0, 0.37474148056652967], [11.0, 0.3492325200898253], [12.0, 1.3409037238218477], [13.0, -0.666179673239147], [14.0, 1.1496942430815265], [15.0, 1.056629167601399], [16.0, 0.6533743074759544], [17.0, 0.41422824153602034], [18.0, 0.3308549367119851], [19.0, 0.202524654584133], [20.0, 0.1607155272619572], [21.0, -0.20513724157818636], [22.0, -0.6130332913053137], [23.0, 0.3981442864898153], [24.0, -0.8272917569291506], [25.0, -1.2302885754299842], [26.0, 1.1268546851582955], [27.0, 1.2362899980389028], [28.0, -1.9306569424169255], [29.0, 0.9197841673387931], [30.0, 0.7184560062078189], [31.0, -0.6156079519606183], [32.0, -0.9336165654730958], [33.0, -1.493566277745062], [34.0, 1.264946806420277], [35.0, -1.5362129711036754], [36.0, 1.3577993939763742], [37.0, 0.3240784428754454], [38.0, -0.1355813875494825], [39.0, 0.2228488055512723], [40.0, 0.1333787173590744], [41.0, -1.8313550521325108], [42.0, 0.8090401055444207], [43.0, -1.3929438933318128], [44.0, 0.05469833741344987], [45.0, -1.8677175406194133], [46.0, 0.8006682807363504], [47.0, 0.7820174334034689], [48.0, -0.9127763750250074], [49.0, -0.40629184667383905], [50.0, 1.3639923287251738], [51.0, -0.6331262291426667], [52.0, -0.16828695515667447], [53.0, 1.0916266823606084], [54.0, -0.2567823460965169], [55.0, -0.575202785840744], [56.0, 0.30618902700915257], [57.0, 0.2905454113609136], [58.0, 0.2211640609892298], [59.0, -0.1385443642622117], [60.0, -0.865452388514833], [61.0, -0.8484957022382477], [62.0, 1.6452187674504386], [63.0, -1.2205124800955025], [64.0, -1.061818873190968], [65.0, 0.16548542773009878], [66.0, 1.845824476095236], [67.0, -0.16266197992738174], [68.0, -1.479204980292071], [69.0, -0.9526513814072377], [70.0, -1.0529565216397851], [71.0, 0.16788867336764665], [72.0, -0.5258197177860755], [73.0, -1.0795135299883767], [74.0, -0.25528036380519364], [75.0, -0.6996430570897162], [76.0, -1.1832461836688857], [77.0, 1.3075192389163588], [78.0, 1.8180494680003039], [79.0, 0.4551552600805424], [80.0, -1.011235044118869], [81.0, -0.3908849576963849], [82.0, -0.6795601571853394], [83.0, -0.28068807670271095], [84.0, -0.6445282355248384], [85.0, -0.07540134358047307], [86.0, 3.4416466580718743], [87.0, 0.29741592230727143], [88.0, -0.17595982563614226], [89.0, -1.143244683289376], [90.0, 1.2293703433692849], [91.0, -0.5947179059719575], [92.0, -1.1009083994713453], [93.0, -1.5223637930654317], [94.0, 1.2130767642907518], [95.0, 1.0616091878176834], [96.0, -0.5950847985748671], [97.0, -0.45019441271278166], [98.0, 0.030354919338790178], [99.0, 0.47130878344808447]]}, \"id\": \"el3804421401104\"});\n",
        "   }(mpld3);\n",
        "}else if(typeof define === \"function\" && define.amd){\n",
        "   // require.js is available: use it to load d3/mpld3\n",
        "   require.config({paths: {d3: \"https://mpld3.github.io/js/d3.v3.min\"}});\n",
        "   require([\"d3\"], function(d3){\n",
        "      window.d3 = d3;\n",
        "      mpld3_load_lib(\"https://mpld3.github.io/js/mpld3.v0.2.js\", function(){\n",
        "         \n",
        "         mpld3.draw_figure(\"fig_el38044214011044294776614\", {\"axes\": [{\"xlim\": [40.0, 80.0], \"yscale\": \"linear\", \"axesbg\": \"#FFFFFF\", \"texts\": [], \"zoomable\": true, \"images\": [], \"xdomain\": [40.0, 80.0], \"ylim\": [-2.0, 4.0], \"paths\": [], \"sharey\": [], \"sharex\": [], \"axesbgalpha\": null, \"axes\": [{\"scale\": \"linear\", \"tickformat\": null, \"grid\": {\"color\": \"#CCCCCC\", \"alpha\": 1.0, \"dasharray\": \"2,2\", \"gridOn\": true}, \"fontsize\": 10.0, \"position\": \"bottom\", \"nticks\": 9, \"tickvalues\": null}, {\"scale\": \"linear\", \"tickformat\": null, \"grid\": {\"color\": \"#CCCCCC\", \"alpha\": 1.0, \"dasharray\": \"2,2\", \"gridOn\": true}, \"fontsize\": 10.0, \"position\": \"left\", \"nticks\": 7, \"tickvalues\": null}], \"lines\": [{\"color\": \"#0000FF\", \"yindex\": 1, \"coordinates\": \"data\", \"dasharray\": \"10,0\", \"zorder\": 2, \"alpha\": 1, \"xindex\": 0, \"linewidth\": 2, \"data\": \"data01\", \"id\": \"el3804423656656\"}], \"markers\": [], \"id\": \"el3804419441040\", \"ydomain\": [-2.0, 4.0], \"collections\": [], \"xscale\": \"linear\", \"bbox\": [0.125, 0.125, 0.77500000000000002, 0.77500000000000002]}], \"height\": 320.0, \"width\": 640.0, \"plugins\": [{\"type\": \"reset\"}, {\"enabled\": false, \"button\": true, \"type\": \"zoom\"}, {\"enabled\": false, \"button\": true, \"type\": \"boxzoom\"}, {\"fontsize\": 16, \"fmt\": \".3g\", \"type\": \"mouseposition\"}], \"data\": {\"data01\": [[0.0, 1.7622048749486254], [1.0, -0.3832671431313509], [2.0, -0.09517273988952041], [3.0, 0.08957926017755055], [4.0, 1.3248400815362], [5.0, -0.5550295769852125], [6.0, -0.32977555804122494], [7.0, -1.2403863898016037], [8.0, -1.54033596920356], [9.0, 0.8619227520796233], [10.0, 0.37474148056652967], [11.0, 0.3492325200898253], [12.0, 1.3409037238218477], [13.0, -0.666179673239147], [14.0, 1.1496942430815265], [15.0, 1.056629167601399], [16.0, 0.6533743074759544], [17.0, 0.41422824153602034], [18.0, 0.3308549367119851], [19.0, 0.202524654584133], [20.0, 0.1607155272619572], [21.0, -0.20513724157818636], [22.0, -0.6130332913053137], [23.0, 0.3981442864898153], [24.0, -0.8272917569291506], [25.0, -1.2302885754299842], [26.0, 1.1268546851582955], [27.0, 1.2362899980389028], [28.0, -1.9306569424169255], [29.0, 0.9197841673387931], [30.0, 0.7184560062078189], [31.0, -0.6156079519606183], [32.0, -0.9336165654730958], [33.0, -1.493566277745062], [34.0, 1.264946806420277], [35.0, -1.5362129711036754], [36.0, 1.3577993939763742], [37.0, 0.3240784428754454], [38.0, -0.1355813875494825], [39.0, 0.2228488055512723], [40.0, 0.1333787173590744], [41.0, -1.8313550521325108], [42.0, 0.8090401055444207], [43.0, -1.3929438933318128], [44.0, 0.05469833741344987], [45.0, -1.8677175406194133], [46.0, 0.8006682807363504], [47.0, 0.7820174334034689], [48.0, -0.9127763750250074], [49.0, -0.40629184667383905], [50.0, 1.3639923287251738], [51.0, -0.6331262291426667], [52.0, -0.16828695515667447], [53.0, 1.0916266823606084], [54.0, -0.2567823460965169], [55.0, -0.575202785840744], [56.0, 0.30618902700915257], [57.0, 0.2905454113609136], [58.0, 0.2211640609892298], [59.0, -0.1385443642622117], [60.0, -0.865452388514833], [61.0, -0.8484957022382477], [62.0, 1.6452187674504386], [63.0, -1.2205124800955025], [64.0, -1.061818873190968], [65.0, 0.16548542773009878], [66.0, 1.845824476095236], [67.0, -0.16266197992738174], [68.0, -1.479204980292071], [69.0, -0.9526513814072377], [70.0, -1.0529565216397851], [71.0, 0.16788867336764665], [72.0, -0.5258197177860755], [73.0, -1.0795135299883767], [74.0, -0.25528036380519364], [75.0, -0.6996430570897162], [76.0, -1.1832461836688857], [77.0, 1.3075192389163588], [78.0, 1.8180494680003039], [79.0, 0.4551552600805424], [80.0, -1.011235044118869], [81.0, -0.3908849576963849], [82.0, -0.6795601571853394], [83.0, -0.28068807670271095], [84.0, -0.6445282355248384], [85.0, -0.07540134358047307], [86.0, 3.4416466580718743], [87.0, 0.29741592230727143], [88.0, -0.17595982563614226], [89.0, -1.143244683289376], [90.0, 1.2293703433692849], [91.0, -0.5947179059719575], [92.0, -1.1009083994713453], [93.0, -1.5223637930654317], [94.0, 1.2130767642907518], [95.0, 1.0616091878176834], [96.0, -0.5950847985748671], [97.0, -0.45019441271278166], [98.0, 0.030354919338790178], [99.0, 0.47130878344808447]]}, \"id\": \"el3804421401104\"});\n",
        "      });\n",
        "    });\n",
        "}else{\n",
        "    // require.js not available: dynamically load d3 & mpld3\n",
        "    mpld3_load_lib(\"https://mpld3.github.io/js/d3.v3.min.js\", function(){\n",
        "         mpld3_load_lib(\"https://mpld3.github.io/js/mpld3.v0.2.js\", function(){\n",
        "                 \n",
        "                 mpld3.draw_figure(\"fig_el38044214011044294776614\", {\"axes\": [{\"xlim\": [40.0, 80.0], \"yscale\": \"linear\", \"axesbg\": \"#FFFFFF\", \"texts\": [], \"zoomable\": true, \"images\": [], \"xdomain\": [40.0, 80.0], \"ylim\": [-2.0, 4.0], \"paths\": [], \"sharey\": [], \"sharex\": [], \"axesbgalpha\": null, \"axes\": [{\"scale\": \"linear\", \"tickformat\": null, \"grid\": {\"color\": \"#CCCCCC\", \"alpha\": 1.0, \"dasharray\": \"2,2\", \"gridOn\": true}, \"fontsize\": 10.0, \"position\": \"bottom\", \"nticks\": 9, \"tickvalues\": null}, {\"scale\": \"linear\", \"tickformat\": null, \"grid\": {\"color\": \"#CCCCCC\", \"alpha\": 1.0, \"dasharray\": \"2,2\", \"gridOn\": true}, \"fontsize\": 10.0, \"position\": \"left\", \"nticks\": 7, \"tickvalues\": null}], \"lines\": [{\"color\": \"#0000FF\", \"yindex\": 1, \"coordinates\": \"data\", \"dasharray\": \"10,0\", \"zorder\": 2, \"alpha\": 1, \"xindex\": 0, \"linewidth\": 2, \"data\": \"data01\", \"id\": \"el3804423656656\"}], \"markers\": [], \"id\": \"el3804419441040\", \"ydomain\": [-2.0, 4.0], \"collections\": [], \"xscale\": \"linear\", \"bbox\": [0.125, 0.125, 0.77500000000000002, 0.77500000000000002]}], \"height\": 320.0, \"width\": 640.0, \"plugins\": [{\"type\": \"reset\"}, {\"enabled\": false, \"button\": true, \"type\": \"zoom\"}, {\"enabled\": false, \"button\": true, \"type\": \"boxzoom\"}, {\"fontsize\": 16, \"fmt\": \".3g\", \"type\": \"mouseposition\"}], \"data\": {\"data01\": [[0.0, 1.7622048749486254], [1.0, -0.3832671431313509], [2.0, -0.09517273988952041], [3.0, 0.08957926017755055], [4.0, 1.3248400815362], [5.0, -0.5550295769852125], [6.0, -0.32977555804122494], [7.0, -1.2403863898016037], [8.0, -1.54033596920356], [9.0, 0.8619227520796233], [10.0, 0.37474148056652967], [11.0, 0.3492325200898253], [12.0, 1.3409037238218477], [13.0, -0.666179673239147], [14.0, 1.1496942430815265], [15.0, 1.056629167601399], [16.0, 0.6533743074759544], [17.0, 0.41422824153602034], [18.0, 0.3308549367119851], [19.0, 0.202524654584133], [20.0, 0.1607155272619572], [21.0, -0.20513724157818636], [22.0, -0.6130332913053137], [23.0, 0.3981442864898153], [24.0, -0.8272917569291506], [25.0, -1.2302885754299842], [26.0, 1.1268546851582955], [27.0, 1.2362899980389028], [28.0, -1.9306569424169255], [29.0, 0.9197841673387931], [30.0, 0.7184560062078189], [31.0, -0.6156079519606183], [32.0, -0.9336165654730958], [33.0, -1.493566277745062], [34.0, 1.264946806420277], [35.0, -1.5362129711036754], [36.0, 1.3577993939763742], [37.0, 0.3240784428754454], [38.0, -0.1355813875494825], [39.0, 0.2228488055512723], [40.0, 0.1333787173590744], [41.0, -1.8313550521325108], [42.0, 0.8090401055444207], [43.0, -1.3929438933318128], [44.0, 0.05469833741344987], [45.0, -1.8677175406194133], [46.0, 0.8006682807363504], [47.0, 0.7820174334034689], [48.0, -0.9127763750250074], [49.0, -0.40629184667383905], [50.0, 1.3639923287251738], [51.0, -0.6331262291426667], [52.0, -0.16828695515667447], [53.0, 1.0916266823606084], [54.0, -0.2567823460965169], [55.0, -0.575202785840744], [56.0, 0.30618902700915257], [57.0, 0.2905454113609136], [58.0, 0.2211640609892298], [59.0, -0.1385443642622117], [60.0, -0.865452388514833], [61.0, -0.8484957022382477], [62.0, 1.6452187674504386], [63.0, -1.2205124800955025], [64.0, -1.061818873190968], [65.0, 0.16548542773009878], [66.0, 1.845824476095236], [67.0, -0.16266197992738174], [68.0, -1.479204980292071], [69.0, -0.9526513814072377], [70.0, -1.0529565216397851], [71.0, 0.16788867336764665], [72.0, -0.5258197177860755], [73.0, -1.0795135299883767], [74.0, -0.25528036380519364], [75.0, -0.6996430570897162], [76.0, -1.1832461836688857], [77.0, 1.3075192389163588], [78.0, 1.8180494680003039], [79.0, 0.4551552600805424], [80.0, -1.011235044118869], [81.0, -0.3908849576963849], [82.0, -0.6795601571853394], [83.0, -0.28068807670271095], [84.0, -0.6445282355248384], [85.0, -0.07540134358047307], [86.0, 3.4416466580718743], [87.0, 0.29741592230727143], [88.0, -0.17595982563614226], [89.0, -1.143244683289376], [90.0, 1.2293703433692849], [91.0, -0.5947179059719575], [92.0, -1.1009083994713453], [93.0, -1.5223637930654317], [94.0, 1.2130767642907518], [95.0, 1.0616091878176834], [96.0, -0.5950847985748671], [97.0, -0.45019441271278166], [98.0, 0.030354919338790178], [99.0, 0.47130878344808447]]}, \"id\": \"el3804421401104\"});\n",
        "            })\n",
        "         });\n",
        "}\n",
        "</script>"
       ],
       "metadata": {},
       "output_type": "display_data",
       "png": "[encoded data removed]",
       "text": [
        "<matplotlib.figure.Figure at 0x107893a10>"
       ]
      }
     ],
     "prompt_number": 9
    },
    {
     "cell_type": "code",
     "collapsed": false,
     "input": [
      "mpld3.save_html(f, './mpld3_figure.html')"
     ],
     "language": "python",
     "metadata": {},
     "outputs": [],
     "prompt_number": 10
    },
    {
     "cell_type": "markdown",
     "metadata": {},
     "source": [
      "+ [open in a new tab](./mpld3_figure.html)\n",
      "\n",
      "+ [some more examples](http://mpld3.github.io/examples/index.html) from the mpld3 gallery"
     ]
    },
    {
     "cell_type": "markdown",
     "metadata": {},
     "source": [
      "<hr size = 6>\n",
      "\n",
      "## BOKEH"
     ]
    },
    {
     "cell_type": "markdown",
     "metadata": {},
     "source": [
      "[bokeh](http://bokeh.pydata.org/) is a library developed by [continuum analytics](http://continuum.io)  \n",
      "\n",
      "from their website:\n",
      "\n",
      "*Bokeh is a Python interactive visualization library that targets modern web browsers for presentation. Its goal is to provide elegant, concise construction of novel graphics in the style of D3.js, but also deliver this capability with high-performance interactivity over very large or streaming datasets. Bokeh can help anyone who would like to quickly and easily create interactive plots, dashboards, and data applications.*"
     ]
    },
    {
     "cell_type": "code",
     "collapsed": false,
     "input": [
      "from bokeh import plotting as bplt"
     ],
     "language": "python",
     "metadata": {},
     "outputs": [],
     "prompt_number": 11
    },
    {
     "cell_type": "code",
     "collapsed": false,
     "input": [
      "bokehplot = './bokeh_plot.html'"
     ],
     "language": "python",
     "metadata": {},
     "outputs": [],
     "prompt_number": 12
    },
    {
     "cell_type": "code",
     "collapsed": false,
     "input": [
      "if os.path.exists(bokehplot): \n",
      "    os.remove(bokehplot)"
     ],
     "language": "python",
     "metadata": {},
     "outputs": [],
     "prompt_number": 13
    },
    {
     "cell_type": "code",
     "collapsed": false,
     "input": [
      "bplt.output_file(bokehplot, title='bokeh plot', autosave=False)"
     ],
     "language": "python",
     "metadata": {},
     "outputs": [],
     "prompt_number": 14
    },
    {
     "cell_type": "code",
     "collapsed": false,
     "input": [
      "bplt.figure()\n",
      "b = bplt.line(xdf.index, xdf['A'])\n",
      "bplt.show()"
     ],
     "language": "python",
     "metadata": {},
     "outputs": [],
     "prompt_number": 15
    },
    {
     "cell_type": "markdown",
     "metadata": {},
     "source": [
      "To know more about bokeh: \n",
      "    \n",
      "[http://bokeh.pydata.org/](http://bokeh.pydata.org/)"
     ]
    },
    {
     "cell_type": "markdown",
     "metadata": {},
     "source": [
      "if you use the [anaconda python distribution](), all the bokeh examples are saved in \n",
      "\n",
      "    ${anaconda}/Examples/bokeh "
     ]
    },
    {
     "cell_type": "markdown",
     "metadata": {},
     "source": [
      "<hr size=6> "
     ]
    },
    {
     "cell_type": "heading",
     "level": 2,
     "metadata": {},
     "source": [
      "BEARCART"
     ]
    },
    {
     "cell_type": "markdown",
     "metadata": {},
     "source": [
      "[bearcart](https://github.com/wrobstory/bearcart) has been developed by [Rob Story](http://wrobstory.github.io/) and provides an interface to the \n",
      "[rickshaw](http://code.shutterstock.com/rickshaw/) JavaScript library. It does one thing really, which is to plot **time series**, but it does it (amazingly) well !\n",
      "<br>\n",
      "<br>"
     ]
    },
    {
     "cell_type": "code",
     "collapsed": false,
     "input": [
      "import bearcart \n",
      "from datetime import datetime"
     ],
     "language": "python",
     "metadata": {},
     "outputs": [],
     "prompt_number": 143
    },
    {
     "cell_type": "code",
     "collapsed": false,
     "input": [
      "xdf = pd.DataFrame(np.cumsum(np.random.normal(size=(365,3)), axis=0), columns=['A','B','C'], \\\n",
      "                   index=pd.date_range(datetime(1998,1,1,0,0,0), periods=365))"
     ],
     "language": "python",
     "metadata": {},
     "outputs": [],
     "prompt_number": 144
    },
    {
     "cell_type": "code",
     "collapsed": false,
     "input": [
      "vis = bearcart.Chart(xdf, height=500, width=750, colors={'A':'#FF0000', 'B':'#0066FF', 'C':'#33CC33'})"
     ],
     "language": "python",
     "metadata": {},
     "outputs": [],
     "prompt_number": 145
    },
    {
     "cell_type": "code",
     "collapsed": false,
     "input": [
      "html_path = r'bearcart.html'\n",
      "data_path = r'data.json'\n",
      "js_path = r'rickshaw.min.js'\n",
      "css_path = r'rickshaw.min.css'"
     ],
     "language": "python",
     "metadata": {},
     "outputs": [],
     "prompt_number": 146
    },
    {
     "cell_type": "code",
     "collapsed": false,
     "input": [
      "vis.create_chart(html_path=html_path, data_path=data_path, js_path=js_path, css_path=css_path)"
     ],
     "language": "python",
     "metadata": {},
     "outputs": [],
     "prompt_number": 147
    },
    {
     "cell_type": "markdown",
     "metadata": {},
     "source": [
      "Open the url [here](./bearcart.html)"
     ]
    },
    {
     "cell_type": "markdown",
     "metadata": {},
     "source": [
      "<hr size = 6>"
     ]
    },
    {
     "cell_type": "heading",
     "level": 2,
     "metadata": {},
     "source": [
      "FOLIUM"
     ]
    },
    {
     "cell_type": "markdown",
     "metadata": {},
     "source": [
      "[folium](https://github.com/wrobstory/folium)  has been also been developed by [Rob Story](http://wrobstory.github.io/) to provide an interface to the [leaflet.js](http://leafletjs.com/) JavaScript mapping library"
     ]
    },
    {
     "cell_type": "code",
     "collapsed": false,
     "input": [
      "import folium"
     ],
     "language": "python",
     "metadata": {},
     "outputs": [],
     "prompt_number": 30
    },
    {
     "cell_type": "code",
     "collapsed": false,
     "input": [
      "x = np.random.randn(100)\n",
      "\n",
      "fout = './figure.png'\n",
      "res = 80\n",
      "w, h = 4, 2\n",
      "\n",
      "f, ax = plt.subplots(figsize=(w, h))\n",
      "ax.fill_between(np.arange(len(x)), 0, x, where=(x>=0), color='b', interpolate=True)\n",
      "ax.fill_between(np.arange(len(x)), 0, x, where=(x<0), color='r', interpolate=True)\n",
      "ax.grid(color='.8')\n",
      "f.savefig('./figure.png', dpi = res)\n",
      "\n",
      "textpop = \"\"\"<div align='center'> \\\n",
      "<img src='{}' alt='imaginary temperature anomaly' width='{}' height='{}'> </div>\"\"\".format(fout, w*res, h*res)"
     ],
     "language": "python",
     "metadata": {},
     "outputs": [
      {
       "metadata": {},
       "output_type": "display_data",
       "png": "[encoded data removed]",
       "text": [
        "<matplotlib.figure.Figure at 0x10771f190>"
       ]
      }
     ],
     "prompt_number": 32
    },
    {
     "cell_type": "code",
     "collapsed": false,
     "input": [
      "from map_notebook import * # local functions"
     ],
     "language": "python",
     "metadata": {},
     "outputs": [],
     "prompt_number": 34
    },
    {
     "cell_type": "code",
     "collapsed": false,
     "input": [
      "map = folium.Map(location=[-13.8333, -171.7500], zoom_start=10, tiles='Mapbox', API_key='nicolasf.ic0ebom5')"
     ],
     "language": "python",
     "metadata": {},
     "outputs": [],
     "prompt_number": 26
    },
    {
     "cell_type": "code",
     "collapsed": false,
     "input": [
      "map.circle_marker(location=[-13.8333, -171.7500], popup=textpop, fill_color='#FF0000', line_color=None, radius=3000)\n",
      "map.circle_marker(location=[-13.9, -171.7400], popup=textpop, fill_color='#FF0000', line_color=None, radius=2000)"
     ],
     "language": "python",
     "metadata": {},
     "outputs": [],
     "prompt_number": 27
    },
    {
     "cell_type": "code",
     "collapsed": false,
     "input": [
      "inline_map(map)"
     ],
     "language": "python",
     "metadata": {},
     "outputs": [
      {
       "html": [
        "<iframe srcdoc=\"<!DOCTYPE html>\n",
        "<head>\n",
        "   <link rel=&quot;stylesheet&quot; href=&quot;http://cdn.leafletjs.com/leaflet-0.5/leaflet.css&quot; />\n",
        "   <script src=&quot;http://cdn.leafletjs.com/leaflet-0.5/leaflet.js&quot;></script>\n",
        "   \n",
        "   \n",
        "   \n",
        "   \n",
        "\n",
        "\n",
        "<style>\n",
        "\n",
        "#map {\n",
        "  position:absolute;\n",
        "  top:0;\n",
        "  bottom:0;\n",
        "  right:0;\n",
        "  left:0;\n",
        "}\n",
        "\n",
        "</style>\n",
        "</head>\n",
        "<body>\n",
        "\n",
        "        <div id=&quot;map&quot; style=&quot;width: 960px; height: 500px&quot;></div>\n",
        "\n",
        "<script>\n",
        "\n",
        "\n",
        "\n",
        "var map = L.map('map').setView([-13.8333, -171.75], 10);\n",
        "\n",
        "L.tileLayer('http://{s}.tiles.mapbox.com/v3/nicolasf.ic0ebom5/{z}/{x}/{y}.png', {\n",
        "    maxZoom: 18,\n",
        "    attribution: 'Map tiles by <a href=&quot;http://www.mapbox.com/m&quot;>Mapbox</a> Data by <a href=&quot;http://openstreetmap.org&quot;>OpenStreetMap</a>, under <a href=&quot;http://creativecommons.org/licenses/by-sa/3.0&quot;>CC BY SA</a>.'\n",
        "}).addTo(map);\n",
        "\n",
        "\n",
        "var circle_1 = L.circle([-13.8333, -171.75], 3000, {\n",
        "                            color: 'None',\n",
        "                            fillColor: '#FF0000',\n",
        "                            fillOpacity: 0.6\n",
        "                            });\n",
        "circle_1.bindPopup(&quot;<div align='center'> <img src='./figure.png' alt='imaginary temperature anomaly' width='320' height='160'> </div>&quot;);\n",
        "map.addLayer(circle_1)\n",
        "\n",
        "var circle_2 = L.circle([-13.9, -171.74], 2000, {\n",
        "                            color: 'None',\n",
        "                            fillColor: '#FF0000',\n",
        "                            fillOpacity: 0.6\n",
        "                            });\n",
        "circle_2.bindPopup(&quot;<div align='center'> <img src='./figure.png' alt='imaginary temperature anomaly' width='320' height='160'> </div>&quot;);\n",
        "map.addLayer(circle_2)\n",
        "\n",
        "\n",
        "\n",
        "\n",
        "\n",
        "\n",
        "</script>\n",
        "\n",
        "</body>\" style=\"width: 100%; height: 510px; border: none\"></iframe>"
       ],
       "metadata": {},
       "output_type": "pyout",
       "prompt_number": 28,
       "text": [
        "<IPython.core.display.HTML at 0x1077d2390>"
       ]
      }
     ],
     "prompt_number": 28
    }
   ],
   "metadata": {}
  }
 ]
}