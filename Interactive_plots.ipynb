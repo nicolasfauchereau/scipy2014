{
 "metadata": {
  "name": "",
  "signature": "sha256:07770b4a0344387541e1201d1500ac3cbf0c71f0abfa659386496b34a2caa5b8"
 },
 "nbformat": 3,
 "nbformat_minor": 0,
 "worksheets": [
  {
   "cells": [
    {
     "cell_type": "code",
     "collapsed": false,
     "input": [
      "%load_ext load_style\n",
      "%load_style talk.css"
     ],
     "language": "python",
     "metadata": {},
     "outputs": []
    },
    {
     "cell_type": "heading",
     "level": 1,
     "metadata": {},
     "source": [
      "Interactive visualisations in the browser with Python"
     ]
    },
    {
     "cell_type": "markdown",
     "metadata": {},
     "source": [
      "In the past few years, the python (scientific) ecosystem has seen intense development of solutions aimed at bringing interactive data visualisation in the browser, through a set of libraries which basically interface with powerful JavaScript visualisations libraries such as `D3.js`, `rickshaw.js`, `leaflet.js` etc. \n",
      "\n",
      "In this demo we will see: \n",
      "\n",
      "+ [MPLd3](http://mpld3.github.io/)\n",
      "+ [bokeh](http://bokeh.pydata.org/)\n",
      "+ [bearcart](https://github.com/wrobstory/bearcart)\n",
      "+ [folium](https://github.com/wrobstory/folium)"
     ]
    },
    {
     "cell_type": "code",
     "collapsed": false,
     "input": [
      "import os, sys\n",
      "import pandas as pd\n",
      "import numpy as np\n",
      "from numpy import ma\n",
      "import matplotlib.pyplot as plt"
     ],
     "language": "python",
     "metadata": {},
     "outputs": []
    },
    {
     "cell_type": "code",
     "collapsed": false,
     "input": [
      "%matplotlib inline"
     ],
     "language": "python",
     "metadata": {},
     "outputs": []
    },
    {
     "cell_type": "markdown",
     "metadata": {},
     "source": [
      "<hr size=6>"
     ]
    },
    {
     "cell_type": "heading",
     "level": 2,
     "metadata": {},
     "source": [
      "MPLD3"
     ]
    },
    {
     "cell_type": "markdown",
     "metadata": {},
     "source": [
      "[MPLd3](http://mpld3.github.io/) is developed by [Jake VanderPlas](http://www.astro.washington.edu/users/vanderplas/)  \n",
      "\n",
      "MPLD3 provides a simple API for exporting [matplotlib](http://matplotlib.org) graphics to HTML code which can be used within the browser, within standard web pages, blogs, or tools such as the IPython notebook."
     ]
    },
    {
     "cell_type": "code",
     "collapsed": false,
     "input": [
      "import mpld3\n",
      "from mpld3 import plugins\n",
      "mpld3.enable_notebook()"
     ],
     "language": "python",
     "metadata": {},
     "outputs": []
    },
    {
     "cell_type": "code",
     "collapsed": false,
     "input": [
      "xdf = pd.DataFrame(np.random.normal(size=(100)), columns=['A'])"
     ],
     "language": "python",
     "metadata": {},
     "outputs": []
    },
    {
     "cell_type": "code",
     "collapsed": false,
     "input": [
      "f, ax= plt.subplots(figsize=(8,4)); \n",
      "ax.plot(xdf.index, xdf['A'], lw=2, color='b');\n",
      "ax.set_xlim(40,80)\n",
      "ax.grid(color='0.8')"
     ],
     "language": "python",
     "metadata": {},
     "outputs": []
    },
    {
     "cell_type": "heading",
     "level": 3,
     "metadata": {},
     "source": [
      "you can connect ```plugins``` to the figure"
     ]
    },
    {
     "cell_type": "code",
     "collapsed": false,
     "input": [
      "f, ax= plt.subplots(figsize=(8,4)); \n",
      "plt.plot(xdf.index, xdf['A'], lw=2, color='b');\n",
      "ax.set_xlim(40,80)\n",
      "ax.grid(color='0.8')\n",
      "plugins.connect(f, plugins.MousePosition(fontsize=16))"
     ],
     "language": "python",
     "metadata": {},
     "outputs": []
    },
    {
     "cell_type": "code",
     "collapsed": false,
     "input": [
      "mpld3.save_html(f, './mpld3_figure.html')"
     ],
     "language": "python",
     "metadata": {},
     "outputs": []
    },
    {
     "cell_type": "markdown",
     "metadata": {},
     "source": [
      "+ [open in a new tab](./mpld3_figure.html)\n",
      "\n",
      "+ [some more examples](http://mpld3.github.io/examples/index.html) from the mpld3 gallery"
     ]
    },
    {
     "cell_type": "markdown",
     "metadata": {},
     "source": [
      "<hr size = 6>\n",
      "\n",
      "## BOKEH"
     ]
    },
    {
     "cell_type": "markdown",
     "metadata": {},
     "source": [
      "[bokeh](http://bokeh.pydata.org/) is a library developed by [continuum analytics](http://continuum.io)  \n",
      "\n",
      "from their website:\n",
      "\n",
      "*Bokeh is a Python interactive visualization library that targets modern web browsers for presentation. Its goal is to provide elegant, concise construction of novel graphics in the style of D3.js, but also deliver this capability with high-performance interactivity over very large or streaming datasets. Bokeh can help anyone who would like to quickly and easily create interactive plots, dashboards, and data applications.*"
     ]
    },
    {
     "cell_type": "code",
     "collapsed": false,
     "input": [
      "from bokeh import plotting as bplt"
     ],
     "language": "python",
     "metadata": {},
     "outputs": []
    },
    {
     "cell_type": "code",
     "collapsed": false,
     "input": [
      "bokehplot = './bokeh_plot.html'"
     ],
     "language": "python",
     "metadata": {},
     "outputs": []
    },
    {
     "cell_type": "code",
     "collapsed": false,
     "input": [
      "if os.path.exists(bokehplot): \n",
      "    os.remove(bokehplot)"
     ],
     "language": "python",
     "metadata": {},
     "outputs": []
    },
    {
     "cell_type": "code",
     "collapsed": false,
     "input": [
      "bplt.output_file(bokehplot, title='bokeh plot', autosave=False)"
     ],
     "language": "python",
     "metadata": {},
     "outputs": []
    },
    {
     "cell_type": "code",
     "collapsed": false,
     "input": [
      "bplt.figure()\n",
      "b = bplt.line(xdf.index, xdf['A'])\n",
      "bplt.show()"
     ],
     "language": "python",
     "metadata": {},
     "outputs": []
    },
    {
     "cell_type": "markdown",
     "metadata": {},
     "source": [
      "To know more about bokeh: \n",
      "    \n",
      "[http://bokeh.pydata.org/](http://bokeh.pydata.org/)"
     ]
    },
    {
     "cell_type": "markdown",
     "metadata": {},
     "source": [
      "if you use the [anaconda python distribution](), all the bokeh examples are saved in \n",
      "\n",
      "    ${anaconda}/Examples/bokeh "
     ]
    },
    {
     "cell_type": "markdown",
     "metadata": {},
     "source": [
      "<hr size=6> "
     ]
    },
    {
     "cell_type": "heading",
     "level": 2,
     "metadata": {},
     "source": [
      "BEARCART"
     ]
    },
    {
     "cell_type": "markdown",
     "metadata": {},
     "source": [
      "[bearcart](https://github.com/wrobstory/bearcart) has been developed by [Rob Story](http://wrobstory.github.io/) and provides an interface to the \n",
      "[rickshaw](http://code.shutterstock.com/rickshaw/) JavaScript library. It does one thing really, which is to plot **time series**, but it does it (amazingly) well !\n",
      "<br>\n",
      "<br>"
     ]
    },
    {
     "cell_type": "code",
     "collapsed": false,
     "input": [
      "import bearcart \n",
      "from datetime import datetime"
     ],
     "language": "python",
     "metadata": {},
     "outputs": []
    },
    {
     "cell_type": "code",
     "collapsed": false,
     "input": [
      "xdf = pd.DataFrame(np.cumsum(np.random.normal(size=(365,3)), axis=0), columns=['A','B','C'], \\\n",
      "                   index=pd.date_range(datetime(1998,1,1,0,0,0), periods=365))"
     ],
     "language": "python",
     "metadata": {},
     "outputs": []
    },
    {
     "cell_type": "code",
     "collapsed": false,
     "input": [
      "vis = bearcart.Chart(xdf, height=500, width=750, colors={'A':'#FF0000', 'B':'#0066FF', 'C':'#33CC33'})"
     ],
     "language": "python",
     "metadata": {},
     "outputs": []
    },
    {
     "cell_type": "code",
     "collapsed": false,
     "input": [
      "html_path = r'bearcart.html'\n",
      "data_path = r'data.json'\n",
      "js_path = r'rickshaw.min.js'\n",
      "css_path = r'rickshaw.min.css'"
     ],
     "language": "python",
     "metadata": {},
     "outputs": []
    },
    {
     "cell_type": "code",
     "collapsed": false,
     "input": [
      "vis.create_chart(html_path=html_path, data_path=data_path, js_path=js_path, css_path=css_path)"
     ],
     "language": "python",
     "metadata": {},
     "outputs": []
    },
    {
     "cell_type": "markdown",
     "metadata": {},
     "source": [
      "Open the url [here](./bearcart.html)"
     ]
    },
    {
     "cell_type": "markdown",
     "metadata": {},
     "source": [
      "<hr size = 6>"
     ]
    },
    {
     "cell_type": "heading",
     "level": 2,
     "metadata": {},
     "source": [
      "FOLIUM"
     ]
    },
    {
     "cell_type": "markdown",
     "metadata": {},
     "source": [
      "[folium](https://github.com/wrobstory/folium)  has been also been developed by [Rob Story](http://wrobstory.github.io/) to provide an interface to the [leaflet.js](http://leafletjs.com/) JavaScript mapping library"
     ]
    },
    {
     "cell_type": "code",
     "collapsed": false,
     "input": [
      "import folium"
     ],
     "language": "python",
     "metadata": {},
     "outputs": []
    },
    {
     "cell_type": "code",
     "collapsed": false,
     "input": [
      "x = np.random.randn(100)\n",
      "\n",
      "fout = './figure.png'\n",
      "res = 80\n",
      "w, h = 4, 2\n",
      "\n",
      "f, ax = plt.subplots(figsize=(w, h))\n",
      "ax.fill_between(np.arange(len(x)), 0, x, where=(x>=0), color='b', interpolate=True)\n",
      "ax.fill_between(np.arange(len(x)), 0, x, where=(x<0), color='r', interpolate=True)\n",
      "ax.grid(color='.8')\n",
      "f.savefig('./figure.png', dpi = res)\n",
      "\n",
      "textpop = \"\"\"<div align='center'> \\\n",
      "<img src='{}' alt='imaginary temperature anomaly' width='{}' height='{}'> </div>\"\"\".format(fout, w*res, h*res)"
     ],
     "language": "python",
     "metadata": {},
     "outputs": []
    },
    {
     "cell_type": "code",
     "collapsed": false,
     "input": [
      "from map_notebook import * # local functions"
     ],
     "language": "python",
     "metadata": {},
     "outputs": []
    },
    {
     "cell_type": "code",
     "collapsed": false,
     "input": [
      "map = folium.Map(location=[-13.8333, -171.7500], zoom_start=10, tiles='Mapbox', API_key='nicolasf.ic0ebom5')"
     ],
     "language": "python",
     "metadata": {},
     "outputs": []
    },
    {
     "cell_type": "code",
     "collapsed": false,
     "input": [
      "map.circle_marker(location=[-13.8333, -171.7500], popup=textpop, fill_color='#FF0000', line_color=None, radius=3000)\n",
      "map.circle_marker(location=[-13.9, -171.7400], popup=textpop, fill_color='#FF0000', line_color=None, radius=2000)"
     ],
     "language": "python",
     "metadata": {},
     "outputs": []
    },
    {
     "cell_type": "code",
     "collapsed": false,
     "input": [
      "inline_map(map)"
     ],
     "language": "python",
     "metadata": {},
     "outputs": []
    }
   ],
   "metadata": {}
  }
 ]
}