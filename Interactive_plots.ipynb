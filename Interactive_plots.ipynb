{
 "metadata": {
  "name": "",
  "signature": "sha256:a9a9154da3be7e85ac5133efe0d7a0bd4b6ac60f343731577df5096be5f54e17"
 },
 "nbformat": 3,
 "nbformat_minor": 0,
 "worksheets": [
  {
   "cells": [
    {
     "cell_type": "code",
     "collapsed": false,
     "input": [
      "%load_ext load_style\n",
      "%load_style talk.css"
     ],
     "language": "python",
     "metadata": {},
     "outputs": [
      {
       "html": [
        "<style>\n",
        "\n",
        ".rendered_html {\n",
        "    font-family: \"proxima-nova\", helvetica;\n",
        "    font-size: 130%;\n",
        "    line-height: 1.5;\n",
        "}\n",
        "\n",
        ".rendered_html h1 {\n",
        "    margin: 0.25em 0em 0.5em;\n",
        "    color: #015C9C;\n",
        "    text-align: center;\n",
        "    line-height: 1.2; \n",
        "    page-break-before: always;\n",
        "}\n",
        "\n",
        ".rendered_html h2 {\n",
        "    margin: 1.1em 0em 0.5em;\n",
        "    color: #26465D;\n",
        "    line-height: 1.2;\n",
        "}\n",
        "\n",
        ".rendered_html h3 {\n",
        "    margin: 1.1em 0em 0.5em;\n",
        "    color: #002845;\n",
        "    line-height: 1.2;\n",
        "}\n",
        "\n",
        ".rendered_html li {\n",
        "    line-height: 1.5; \n",
        "}\n",
        "\n",
        "/*.prompt {\n",
        "    font-size: 120%; \n",
        "}*/\n",
        "\n",
        ".CodeMirror-lines {\n",
        "    font-size: 110%; \n",
        "}\n",
        "\n",
        "/*.output_area {\n",
        "    font-size: 120%; \n",
        "}*/\n",
        "\n",
        "/*#notebook {\n",
        "    background-image: url('files/images/witewall_3.png');\n",
        "}*/\n",
        "\n",
        "h1.bigtitle {\n",
        "    margin: 4cm 1cm 4cm 1cm;\n",
        "    font-size: 300%;\n",
        "}\n",
        "\n",
        "h3.point {\n",
        "    font-size: 200%;\n",
        "    text-align: center;\n",
        "    margin: 2em 0em 2em 0em;\n",
        "    #26465D\n",
        "}\n",
        "\n",
        ".logo {\n",
        "    margin: 20px 0 20px 0;\n",
        "}\n",
        "\n",
        "a.anchor-link {\n",
        "    display: none;\n",
        "}\n",
        "\n",
        "h1.title { \n",
        "    font-size: 250%;\n",
        "}\n",
        "\n",
        "</style>"
       ],
       "metadata": {},
       "output_type": "display_data",
       "text": [
        "<IPython.core.display.HTML at 0x10359dc10>"
       ]
      }
     ],
     "prompt_number": 1
    },
    {
     "cell_type": "heading",
     "level": 1,
     "metadata": {},
     "source": [
      "Interactive visualisations in the browser with Python"
     ]
    },
    {
     "cell_type": "markdown",
     "metadata": {},
     "source": [
      "In the past few years, the python (scientific) ecosystem has seen intense development of solutions aimed at bringing interactive data visualisation in the browser, through a set of libraries which basically interface with powerful JavaScript visualisations libraries such as `D3.js`, `rickshaw.js`, `leaflet.js` etc. \n",
      "\n",
      "In this demo we will see: \n",
      "\n",
      "+ [MPLd3](http://mpld3.github.io/)\n",
      "+ [bokeh](http://bokeh.pydata.org/)\n",
      "+ [bearcart](https://github.com/wrobstory/bearcart)\n",
      "+ [folium](https://github.com/wrobstory/folium)"
     ]
    },
    {
     "cell_type": "code",
     "collapsed": false,
     "input": [
      "import os, sys\n",
      "import pandas as pd\n",
      "import numpy as np\n",
      "from numpy import ma\n",
      "import matplotlib.pyplot as plt"
     ],
     "language": "python",
     "metadata": {},
     "outputs": [],
     "prompt_number": 2
    },
    {
     "cell_type": "code",
     "collapsed": false,
     "input": [
      "%matplotlib inline"
     ],
     "language": "python",
     "metadata": {},
     "outputs": [],
     "prompt_number": 3
    },
    {
     "cell_type": "markdown",
     "metadata": {},
     "source": [
      "<hr size=6>"
     ]
    },
    {
     "cell_type": "heading",
     "level": 2,
     "metadata": {},
     "source": [
      "MPLD3"
     ]
    },
    {
     "cell_type": "markdown",
     "metadata": {},
     "source": [
      "[MPLd3](http://mpld3.github.io/) is developed by [Jake VanderPlas](http://www.astro.washington.edu/users/vanderplas/)  \n",
      "\n",
      "MPLD3 provides a simple API for exporting [matplotlib](http://matplotlib.org) graphics to HTML code which can be used within the browser, within standard web pages, blogs, or tools such as the IPython notebook."
     ]
    },
    {
     "cell_type": "code",
     "collapsed": false,
     "input": [
      "import mpld3\n",
      "from mpld3 import plugins\n",
      "mpld3.enable_notebook()"
     ],
     "language": "python",
     "metadata": {},
     "outputs": [],
     "prompt_number": 4
    },
    {
     "cell_type": "code",
     "collapsed": false,
     "input": [
      "xdf = pd.DataFrame(np.random.normal(size=(100)), columns=['A'])"
     ],
     "language": "python",
     "metadata": {},
     "outputs": [],
     "prompt_number": 5
    },
    {
     "cell_type": "code",
     "collapsed": false,
     "input": [
      "f, ax= plt.subplots(figsize=(8,4)); \n",
      "ax.plot(xdf.index, xdf['A'], lw=2, color='b');\n",
      "ax.set_xlim(40,80)\n",
      "ax.grid(color='0.8')"
     ],
     "language": "python",
     "metadata": {},
     "outputs": [
      {
       "html": [
        "\n",
        "\n",
        "<style>\n",
        "\n",
        "</style>\n",
        "\n",
        "<div id=\"fig_el66344213951528518502671\"></div>\n",
        "<script>\n",
        "function mpld3_load_lib(url, callback){\n",
        "  var s = document.createElement('script');\n",
        "  s.src = url;\n",
        "  s.async = true;\n",
        "  s.onreadystatechange = s.onload = callback;\n",
        "  s.onerror = function(){console.warn(\"failed to load library \" + url);};\n",
        "  document.getElementsByTagName(\"head\")[0].appendChild(s);\n",
        "}\n",
        "\n",
        "if(typeof(mpld3) !== \"undefined\" && mpld3._mpld3IsLoaded){\n",
        "   // already loaded: just create the figure\n",
        "   !function(mpld3){\n",
        "       \n",
        "       mpld3.draw_figure(\"fig_el66344213951528518502671\", {\"axes\": [{\"xlim\": [40.0, 80.0], \"yscale\": \"linear\", \"axesbg\": \"#FFFFFF\", \"texts\": [], \"zoomable\": true, \"images\": [], \"xdomain\": [40.0, 80.0], \"ylim\": [-2.0, 3.0], \"paths\": [], \"sharey\": [], \"sharex\": [], \"axesbgalpha\": null, \"axes\": [{\"scale\": \"linear\", \"tickformat\": null, \"grid\": {\"color\": \"#CCCCCC\", \"alpha\": 1.0, \"dasharray\": \"2,2\", \"gridOn\": true}, \"fontsize\": 10.0, \"position\": \"bottom\", \"nticks\": 9, \"tickvalues\": null}, {\"scale\": \"linear\", \"tickformat\": null, \"grid\": {\"color\": \"#CCCCCC\", \"alpha\": 1.0, \"dasharray\": \"2,2\", \"gridOn\": true}, \"fontsize\": 10.0, \"position\": \"left\", \"nticks\": 6, \"tickvalues\": null}], \"lines\": [{\"color\": \"#0000FF\", \"yindex\": 1, \"coordinates\": \"data\", \"dasharray\": \"10,0\", \"zorder\": 2, \"alpha\": 1, \"xindex\": 0, \"linewidth\": 2, \"data\": \"data01\", \"id\": \"el6634422021712\"}], \"markers\": [], \"id\": \"el6634421396688\", \"ydomain\": [-2.0, 3.0], \"collections\": [], \"xscale\": \"linear\", \"bbox\": [0.125, 0.125, 0.77500000000000002, 0.77500000000000002]}], \"height\": 320.0, \"width\": 640.0, \"plugins\": [{\"type\": \"reset\"}, {\"enabled\": false, \"button\": true, \"type\": \"zoom\"}, {\"enabled\": false, \"button\": true, \"type\": \"boxzoom\"}], \"data\": {\"data01\": [[0.0, -0.9526423305032199], [1.0, 0.2124277133479617], [2.0, 0.20901646909635013], [3.0, -0.06611644812845148], [4.0, 1.0456110064347037], [5.0, -1.7651903504385549], [6.0, 0.042149914140724706], [7.0, -0.054037620445298834], [8.0, 0.6103071024754683], [9.0, -0.4612070118420045], [10.0, 0.5266469786940299], [11.0, 0.08372102110409277], [12.0, 0.7824778161799808], [13.0, 0.9114354215688645], [14.0, 1.5156331751314083], [15.0, -0.4389955438014572], [16.0, -0.23842822612570144], [17.0, 0.504550544216523], [18.0, 0.42058219093111304], [19.0, 0.22728755984128426], [20.0, -1.4928317892983174], [21.0, -1.1533019310667296], [22.0, 0.6339059917420646], [23.0, 0.8002325323163488], [24.0, 1.674664452289314], [25.0, 2.6015407858944375], [26.0, -1.5266067789555269], [27.0, -0.09509739615742367], [28.0, -0.22173406992097963], [29.0, 1.4301116425513012], [30.0, 0.18532086041139464], [31.0, 0.16455757177050995], [32.0, 0.518516519431635], [33.0, 0.8602549786289317], [34.0, -0.36695886895517016], [35.0, 0.680107325297045], [36.0, 0.46282826188365755], [37.0, -0.834015932828413], [38.0, 0.2121070485559357], [39.0, -0.6415705808395623], [40.0, -0.5837977443067964], [41.0, -1.109201905267594], [42.0, -0.4949192779237757], [43.0, -0.677455347003207], [44.0, -0.8570983574998992], [45.0, -0.5891035015978635], [46.0, -1.02670604950426], [47.0, 1.578013298516515], [48.0, 0.6303406272749428], [49.0, -0.12296573230567971], [50.0, -0.7824853818952133], [51.0, 1.2641420237859609], [52.0, -0.0437544542125892], [53.0, -1.4645386904999282], [54.0, 0.565533575166416], [55.0, 0.3031115426141692], [56.0, -0.6971180192011646], [57.0, 2.1315653713482625], [58.0, 0.17655487786394172], [59.0, 0.3852982145261221], [60.0, -0.5312655785900703], [61.0, 0.1200240396392293], [62.0, 0.930912552084727], [63.0, 0.3187311080066607], [64.0, 2.2500132414137637], [65.0, 0.9292662067448396], [66.0, -1.193728758722302], [67.0, -0.998152231001193], [68.0, -1.3715893668677157], [69.0, 1.0095485562981106], [70.0, 1.2986267332804213], [71.0, 0.20554887775634798], [72.0, -0.9607143968693047], [73.0, 0.269665130392763], [74.0, 0.866216014982224], [75.0, 0.5840341387488026], [76.0, -0.39874914913071163], [77.0, -0.4270154474734034], [78.0, 1.9359726593174307], [79.0, -0.16918528418881879], [80.0, -0.42033397388048155], [81.0, 1.0593515004971705], [82.0, -1.4009642238894113], [83.0, 1.8322216805695521], [84.0, 0.21595630501948268], [85.0, -1.3156549793654182], [86.0, -0.21104929280300175], [87.0, -1.3906324291805336], [88.0, 0.2686547194873073], [89.0, -1.698415507538313], [90.0, -0.8784284647293119], [91.0, -0.7518443675798101], [92.0, -1.5254406782503258], [93.0, -0.19119380854781087], [94.0, -1.1742810201290022], [95.0, 0.1773306592219518], [96.0, -0.8930068661831155], [97.0, 0.623855383455609], [98.0, -1.8191008725562323], [99.0, 0.0726600783144095]]}, \"id\": \"el6634421395152\"});\n",
        "   }(mpld3);\n",
        "}else if(typeof define === \"function\" && define.amd){\n",
        "   // require.js is available: use it to load d3/mpld3\n",
        "   require.config({paths: {d3: \"https://mpld3.github.io/js/d3.v3.min\"}});\n",
        "   require([\"d3\"], function(d3){\n",
        "      window.d3 = d3;\n",
        "      mpld3_load_lib(\"https://mpld3.github.io/js/mpld3.v0.2.js\", function(){\n",
        "         \n",
        "         mpld3.draw_figure(\"fig_el66344213951528518502671\", {\"axes\": [{\"xlim\": [40.0, 80.0], \"yscale\": \"linear\", \"axesbg\": \"#FFFFFF\", \"texts\": [], \"zoomable\": true, \"images\": [], \"xdomain\": [40.0, 80.0], \"ylim\": [-2.0, 3.0], \"paths\": [], \"sharey\": [], \"sharex\": [], \"axesbgalpha\": null, \"axes\": [{\"scale\": \"linear\", \"tickformat\": null, \"grid\": {\"color\": \"#CCCCCC\", \"alpha\": 1.0, \"dasharray\": \"2,2\", \"gridOn\": true}, \"fontsize\": 10.0, \"position\": \"bottom\", \"nticks\": 9, \"tickvalues\": null}, {\"scale\": \"linear\", \"tickformat\": null, \"grid\": {\"color\": \"#CCCCCC\", \"alpha\": 1.0, \"dasharray\": \"2,2\", \"gridOn\": true}, \"fontsize\": 10.0, \"position\": \"left\", \"nticks\": 6, \"tickvalues\": null}], \"lines\": [{\"color\": \"#0000FF\", \"yindex\": 1, \"coordinates\": \"data\", \"dasharray\": \"10,0\", \"zorder\": 2, \"alpha\": 1, \"xindex\": 0, \"linewidth\": 2, \"data\": \"data01\", \"id\": \"el6634422021712\"}], \"markers\": [], \"id\": \"el6634421396688\", \"ydomain\": [-2.0, 3.0], \"collections\": [], \"xscale\": \"linear\", \"bbox\": [0.125, 0.125, 0.77500000000000002, 0.77500000000000002]}], \"height\": 320.0, \"width\": 640.0, \"plugins\": [{\"type\": \"reset\"}, {\"enabled\": false, \"button\": true, \"type\": \"zoom\"}, {\"enabled\": false, \"button\": true, \"type\": \"boxzoom\"}], \"data\": {\"data01\": [[0.0, -0.9526423305032199], [1.0, 0.2124277133479617], [2.0, 0.20901646909635013], [3.0, -0.06611644812845148], [4.0, 1.0456110064347037], [5.0, -1.7651903504385549], [6.0, 0.042149914140724706], [7.0, -0.054037620445298834], [8.0, 0.6103071024754683], [9.0, -0.4612070118420045], [10.0, 0.5266469786940299], [11.0, 0.08372102110409277], [12.0, 0.7824778161799808], [13.0, 0.9114354215688645], [14.0, 1.5156331751314083], [15.0, -0.4389955438014572], [16.0, -0.23842822612570144], [17.0, 0.504550544216523], [18.0, 0.42058219093111304], [19.0, 0.22728755984128426], [20.0, -1.4928317892983174], [21.0, -1.1533019310667296], [22.0, 0.6339059917420646], [23.0, 0.8002325323163488], [24.0, 1.674664452289314], [25.0, 2.6015407858944375], [26.0, -1.5266067789555269], [27.0, -0.09509739615742367], [28.0, -0.22173406992097963], [29.0, 1.4301116425513012], [30.0, 0.18532086041139464], [31.0, 0.16455757177050995], [32.0, 0.518516519431635], [33.0, 0.8602549786289317], [34.0, -0.36695886895517016], [35.0, 0.680107325297045], [36.0, 0.46282826188365755], [37.0, -0.834015932828413], [38.0, 0.2121070485559357], [39.0, -0.6415705808395623], [40.0, -0.5837977443067964], [41.0, -1.109201905267594], [42.0, -0.4949192779237757], [43.0, -0.677455347003207], [44.0, -0.8570983574998992], [45.0, -0.5891035015978635], [46.0, -1.02670604950426], [47.0, 1.578013298516515], [48.0, 0.6303406272749428], [49.0, -0.12296573230567971], [50.0, -0.7824853818952133], [51.0, 1.2641420237859609], [52.0, -0.0437544542125892], [53.0, -1.4645386904999282], [54.0, 0.565533575166416], [55.0, 0.3031115426141692], [56.0, -0.6971180192011646], [57.0, 2.1315653713482625], [58.0, 0.17655487786394172], [59.0, 0.3852982145261221], [60.0, -0.5312655785900703], [61.0, 0.1200240396392293], [62.0, 0.930912552084727], [63.0, 0.3187311080066607], [64.0, 2.2500132414137637], [65.0, 0.9292662067448396], [66.0, -1.193728758722302], [67.0, -0.998152231001193], [68.0, -1.3715893668677157], [69.0, 1.0095485562981106], [70.0, 1.2986267332804213], [71.0, 0.20554887775634798], [72.0, -0.9607143968693047], [73.0, 0.269665130392763], [74.0, 0.866216014982224], [75.0, 0.5840341387488026], [76.0, -0.39874914913071163], [77.0, -0.4270154474734034], [78.0, 1.9359726593174307], [79.0, -0.16918528418881879], [80.0, -0.42033397388048155], [81.0, 1.0593515004971705], [82.0, -1.4009642238894113], [83.0, 1.8322216805695521], [84.0, 0.21595630501948268], [85.0, -1.3156549793654182], [86.0, -0.21104929280300175], [87.0, -1.3906324291805336], [88.0, 0.2686547194873073], [89.0, -1.698415507538313], [90.0, -0.8784284647293119], [91.0, -0.7518443675798101], [92.0, -1.5254406782503258], [93.0, -0.19119380854781087], [94.0, -1.1742810201290022], [95.0, 0.1773306592219518], [96.0, -0.8930068661831155], [97.0, 0.623855383455609], [98.0, -1.8191008725562323], [99.0, 0.0726600783144095]]}, \"id\": \"el6634421395152\"});\n",
        "      });\n",
        "    });\n",
        "}else{\n",
        "    // require.js not available: dynamically load d3 & mpld3\n",
        "    mpld3_load_lib(\"https://mpld3.github.io/js/d3.v3.min.js\", function(){\n",
        "         mpld3_load_lib(\"https://mpld3.github.io/js/mpld3.v0.2.js\", function(){\n",
        "                 \n",
        "                 mpld3.draw_figure(\"fig_el66344213951528518502671\", {\"axes\": [{\"xlim\": [40.0, 80.0], \"yscale\": \"linear\", \"axesbg\": \"#FFFFFF\", \"texts\": [], \"zoomable\": true, \"images\": [], \"xdomain\": [40.0, 80.0], \"ylim\": [-2.0, 3.0], \"paths\": [], \"sharey\": [], \"sharex\": [], \"axesbgalpha\": null, \"axes\": [{\"scale\": \"linear\", \"tickformat\": null, \"grid\": {\"color\": \"#CCCCCC\", \"alpha\": 1.0, \"dasharray\": \"2,2\", \"gridOn\": true}, \"fontsize\": 10.0, \"position\": \"bottom\", \"nticks\": 9, \"tickvalues\": null}, {\"scale\": \"linear\", \"tickformat\": null, \"grid\": {\"color\": \"#CCCCCC\", \"alpha\": 1.0, \"dasharray\": \"2,2\", \"gridOn\": true}, \"fontsize\": 10.0, \"position\": \"left\", \"nticks\": 6, \"tickvalues\": null}], \"lines\": [{\"color\": \"#0000FF\", \"yindex\": 1, \"coordinates\": \"data\", \"dasharray\": \"10,0\", \"zorder\": 2, \"alpha\": 1, \"xindex\": 0, \"linewidth\": 2, \"data\": \"data01\", \"id\": \"el6634422021712\"}], \"markers\": [], \"id\": \"el6634421396688\", \"ydomain\": [-2.0, 3.0], \"collections\": [], \"xscale\": \"linear\", \"bbox\": [0.125, 0.125, 0.77500000000000002, 0.77500000000000002]}], \"height\": 320.0, \"width\": 640.0, \"plugins\": [{\"type\": \"reset\"}, {\"enabled\": false, \"button\": true, \"type\": \"zoom\"}, {\"enabled\": false, \"button\": true, \"type\": \"boxzoom\"}], \"data\": {\"data01\": [[0.0, -0.9526423305032199], [1.0, 0.2124277133479617], [2.0, 0.20901646909635013], [3.0, -0.06611644812845148], [4.0, 1.0456110064347037], [5.0, -1.7651903504385549], [6.0, 0.042149914140724706], [7.0, -0.054037620445298834], [8.0, 0.6103071024754683], [9.0, -0.4612070118420045], [10.0, 0.5266469786940299], [11.0, 0.08372102110409277], [12.0, 0.7824778161799808], [13.0, 0.9114354215688645], [14.0, 1.5156331751314083], [15.0, -0.4389955438014572], [16.0, -0.23842822612570144], [17.0, 0.504550544216523], [18.0, 0.42058219093111304], [19.0, 0.22728755984128426], [20.0, -1.4928317892983174], [21.0, -1.1533019310667296], [22.0, 0.6339059917420646], [23.0, 0.8002325323163488], [24.0, 1.674664452289314], [25.0, 2.6015407858944375], [26.0, -1.5266067789555269], [27.0, -0.09509739615742367], [28.0, -0.22173406992097963], [29.0, 1.4301116425513012], [30.0, 0.18532086041139464], [31.0, 0.16455757177050995], [32.0, 0.518516519431635], [33.0, 0.8602549786289317], [34.0, -0.36695886895517016], [35.0, 0.680107325297045], [36.0, 0.46282826188365755], [37.0, -0.834015932828413], [38.0, 0.2121070485559357], [39.0, -0.6415705808395623], [40.0, -0.5837977443067964], [41.0, -1.109201905267594], [42.0, -0.4949192779237757], [43.0, -0.677455347003207], [44.0, -0.8570983574998992], [45.0, -0.5891035015978635], [46.0, -1.02670604950426], [47.0, 1.578013298516515], [48.0, 0.6303406272749428], [49.0, -0.12296573230567971], [50.0, -0.7824853818952133], [51.0, 1.2641420237859609], [52.0, -0.0437544542125892], [53.0, -1.4645386904999282], [54.0, 0.565533575166416], [55.0, 0.3031115426141692], [56.0, -0.6971180192011646], [57.0, 2.1315653713482625], [58.0, 0.17655487786394172], [59.0, 0.3852982145261221], [60.0, -0.5312655785900703], [61.0, 0.1200240396392293], [62.0, 0.930912552084727], [63.0, 0.3187311080066607], [64.0, 2.2500132414137637], [65.0, 0.9292662067448396], [66.0, -1.193728758722302], [67.0, -0.998152231001193], [68.0, -1.3715893668677157], [69.0, 1.0095485562981106], [70.0, 1.2986267332804213], [71.0, 0.20554887775634798], [72.0, -0.9607143968693047], [73.0, 0.269665130392763], [74.0, 0.866216014982224], [75.0, 0.5840341387488026], [76.0, -0.39874914913071163], [77.0, -0.4270154474734034], [78.0, 1.9359726593174307], [79.0, -0.16918528418881879], [80.0, -0.42033397388048155], [81.0, 1.0593515004971705], [82.0, -1.4009642238894113], [83.0, 1.8322216805695521], [84.0, 0.21595630501948268], [85.0, -1.3156549793654182], [86.0, -0.21104929280300175], [87.0, -1.3906324291805336], [88.0, 0.2686547194873073], [89.0, -1.698415507538313], [90.0, -0.8784284647293119], [91.0, -0.7518443675798101], [92.0, -1.5254406782503258], [93.0, -0.19119380854781087], [94.0, -1.1742810201290022], [95.0, 0.1773306592219518], [96.0, -0.8930068661831155], [97.0, 0.623855383455609], [98.0, -1.8191008725562323], [99.0, 0.0726600783144095]]}, \"id\": \"el6634421395152\"});\n",
        "            })\n",
        "         });\n",
        "}\n",
        "</script>"
       ],
       "metadata": {},
       "output_type": "display_data",
       "png": "[encoded data removed]",
       "text": [
        "<matplotlib.figure.Figure at 0x1078922d0>"
       ]
      }
     ],
     "prompt_number": 6
    },
    {
     "cell_type": "heading",
     "level": 3,
     "metadata": {},
     "source": [
      "you can connect ```plugins``` to the figure"
     ]
    },
    {
     "cell_type": "code",
     "collapsed": false,
     "input": [
      "f, ax= plt.subplots(figsize=(8,4)); \n",
      "plt.plot(xdf.index, xdf['A'], lw=2, color='b');\n",
      "ax.set_xlim(40,80)\n",
      "ax.grid(color='0.8')\n",
      "plugins.connect(f, plugins.MousePosition(fontsize=16))"
     ],
     "language": "python",
     "metadata": {},
     "outputs": [
      {
       "html": [
        "\n",
        "\n",
        "<style>\n",
        "\n",
        "</style>\n",
        "\n",
        "<div id=\"fig_el66344212667688782782250\"></div>\n",
        "<script>\n",
        "function mpld3_load_lib(url, callback){\n",
        "  var s = document.createElement('script');\n",
        "  s.src = url;\n",
        "  s.async = true;\n",
        "  s.onreadystatechange = s.onload = callback;\n",
        "  s.onerror = function(){console.warn(\"failed to load library \" + url);};\n",
        "  document.getElementsByTagName(\"head\")[0].appendChild(s);\n",
        "}\n",
        "\n",
        "if(typeof(mpld3) !== \"undefined\" && mpld3._mpld3IsLoaded){\n",
        "   // already loaded: just create the figure\n",
        "   !function(mpld3){\n",
        "       \n",
        "       mpld3.draw_figure(\"fig_el66344212667688782782250\", {\"axes\": [{\"xlim\": [40.0, 80.0], \"yscale\": \"linear\", \"axesbg\": \"#FFFFFF\", \"texts\": [], \"zoomable\": true, \"images\": [], \"xdomain\": [40.0, 80.0], \"ylim\": [-2.0, 3.0], \"paths\": [], \"sharey\": [], \"sharex\": [], \"axesbgalpha\": null, \"axes\": [{\"scale\": \"linear\", \"tickformat\": null, \"grid\": {\"color\": \"#CCCCCC\", \"alpha\": 1.0, \"dasharray\": \"2,2\", \"gridOn\": true}, \"fontsize\": 10.0, \"position\": \"bottom\", \"nticks\": 9, \"tickvalues\": null}, {\"scale\": \"linear\", \"tickformat\": null, \"grid\": {\"color\": \"#CCCCCC\", \"alpha\": 1.0, \"dasharray\": \"2,2\", \"gridOn\": true}, \"fontsize\": 10.0, \"position\": \"left\", \"nticks\": 6, \"tickvalues\": null}], \"lines\": [{\"color\": \"#0000FF\", \"yindex\": 1, \"coordinates\": \"data\", \"dasharray\": \"10,0\", \"zorder\": 2, \"alpha\": 1, \"xindex\": 0, \"linewidth\": 2, \"data\": \"data01\", \"id\": \"el6634423608912\"}], \"markers\": [], \"id\": \"el6634421715664\", \"ydomain\": [-2.0, 3.0], \"collections\": [], \"xscale\": \"linear\", \"bbox\": [0.125, 0.125, 0.77500000000000002, 0.77500000000000002]}], \"height\": 320.0, \"width\": 640.0, \"plugins\": [{\"type\": \"reset\"}, {\"enabled\": false, \"button\": true, \"type\": \"zoom\"}, {\"enabled\": false, \"button\": true, \"type\": \"boxzoom\"}, {\"fontsize\": 16, \"fmt\": \".3g\", \"type\": \"mouseposition\"}], \"data\": {\"data01\": [[0.0, -0.9526423305032199], [1.0, 0.2124277133479617], [2.0, 0.20901646909635013], [3.0, -0.06611644812845148], [4.0, 1.0456110064347037], [5.0, -1.7651903504385549], [6.0, 0.042149914140724706], [7.0, -0.054037620445298834], [8.0, 0.6103071024754683], [9.0, -0.4612070118420045], [10.0, 0.5266469786940299], [11.0, 0.08372102110409277], [12.0, 0.7824778161799808], [13.0, 0.9114354215688645], [14.0, 1.5156331751314083], [15.0, -0.4389955438014572], [16.0, -0.23842822612570144], [17.0, 0.504550544216523], [18.0, 0.42058219093111304], [19.0, 0.22728755984128426], [20.0, -1.4928317892983174], [21.0, -1.1533019310667296], [22.0, 0.6339059917420646], [23.0, 0.8002325323163488], [24.0, 1.674664452289314], [25.0, 2.6015407858944375], [26.0, -1.5266067789555269], [27.0, -0.09509739615742367], [28.0, -0.22173406992097963], [29.0, 1.4301116425513012], [30.0, 0.18532086041139464], [31.0, 0.16455757177050995], [32.0, 0.518516519431635], [33.0, 0.8602549786289317], [34.0, -0.36695886895517016], [35.0, 0.680107325297045], [36.0, 0.46282826188365755], [37.0, -0.834015932828413], [38.0, 0.2121070485559357], [39.0, -0.6415705808395623], [40.0, -0.5837977443067964], [41.0, -1.109201905267594], [42.0, -0.4949192779237757], [43.0, -0.677455347003207], [44.0, -0.8570983574998992], [45.0, -0.5891035015978635], [46.0, -1.02670604950426], [47.0, 1.578013298516515], [48.0, 0.6303406272749428], [49.0, -0.12296573230567971], [50.0, -0.7824853818952133], [51.0, 1.2641420237859609], [52.0, -0.0437544542125892], [53.0, -1.4645386904999282], [54.0, 0.565533575166416], [55.0, 0.3031115426141692], [56.0, -0.6971180192011646], [57.0, 2.1315653713482625], [58.0, 0.17655487786394172], [59.0, 0.3852982145261221], [60.0, -0.5312655785900703], [61.0, 0.1200240396392293], [62.0, 0.930912552084727], [63.0, 0.3187311080066607], [64.0, 2.2500132414137637], [65.0, 0.9292662067448396], [66.0, -1.193728758722302], [67.0, -0.998152231001193], [68.0, -1.3715893668677157], [69.0, 1.0095485562981106], [70.0, 1.2986267332804213], [71.0, 0.20554887775634798], [72.0, -0.9607143968693047], [73.0, 0.269665130392763], [74.0, 0.866216014982224], [75.0, 0.5840341387488026], [76.0, -0.39874914913071163], [77.0, -0.4270154474734034], [78.0, 1.9359726593174307], [79.0, -0.16918528418881879], [80.0, -0.42033397388048155], [81.0, 1.0593515004971705], [82.0, -1.4009642238894113], [83.0, 1.8322216805695521], [84.0, 0.21595630501948268], [85.0, -1.3156549793654182], [86.0, -0.21104929280300175], [87.0, -1.3906324291805336], [88.0, 0.2686547194873073], [89.0, -1.698415507538313], [90.0, -0.8784284647293119], [91.0, -0.7518443675798101], [92.0, -1.5254406782503258], [93.0, -0.19119380854781087], [94.0, -1.1742810201290022], [95.0, 0.1773306592219518], [96.0, -0.8930068661831155], [97.0, 0.623855383455609], [98.0, -1.8191008725562323], [99.0, 0.0726600783144095]]}, \"id\": \"el6634421266768\"});\n",
        "   }(mpld3);\n",
        "}else if(typeof define === \"function\" && define.amd){\n",
        "   // require.js is available: use it to load d3/mpld3\n",
        "   require.config({paths: {d3: \"https://mpld3.github.io/js/d3.v3.min\"}});\n",
        "   require([\"d3\"], function(d3){\n",
        "      window.d3 = d3;\n",
        "      mpld3_load_lib(\"https://mpld3.github.io/js/mpld3.v0.2.js\", function(){\n",
        "         \n",
        "         mpld3.draw_figure(\"fig_el66344212667688782782250\", {\"axes\": [{\"xlim\": [40.0, 80.0], \"yscale\": \"linear\", \"axesbg\": \"#FFFFFF\", \"texts\": [], \"zoomable\": true, \"images\": [], \"xdomain\": [40.0, 80.0], \"ylim\": [-2.0, 3.0], \"paths\": [], \"sharey\": [], \"sharex\": [], \"axesbgalpha\": null, \"axes\": [{\"scale\": \"linear\", \"tickformat\": null, \"grid\": {\"color\": \"#CCCCCC\", \"alpha\": 1.0, \"dasharray\": \"2,2\", \"gridOn\": true}, \"fontsize\": 10.0, \"position\": \"bottom\", \"nticks\": 9, \"tickvalues\": null}, {\"scale\": \"linear\", \"tickformat\": null, \"grid\": {\"color\": \"#CCCCCC\", \"alpha\": 1.0, \"dasharray\": \"2,2\", \"gridOn\": true}, \"fontsize\": 10.0, \"position\": \"left\", \"nticks\": 6, \"tickvalues\": null}], \"lines\": [{\"color\": \"#0000FF\", \"yindex\": 1, \"coordinates\": \"data\", \"dasharray\": \"10,0\", \"zorder\": 2, \"alpha\": 1, \"xindex\": 0, \"linewidth\": 2, \"data\": \"data01\", \"id\": \"el6634423608912\"}], \"markers\": [], \"id\": \"el6634421715664\", \"ydomain\": [-2.0, 3.0], \"collections\": [], \"xscale\": \"linear\", \"bbox\": [0.125, 0.125, 0.77500000000000002, 0.77500000000000002]}], \"height\": 320.0, \"width\": 640.0, \"plugins\": [{\"type\": \"reset\"}, {\"enabled\": false, \"button\": true, \"type\": \"zoom\"}, {\"enabled\": false, \"button\": true, \"type\": \"boxzoom\"}, {\"fontsize\": 16, \"fmt\": \".3g\", \"type\": \"mouseposition\"}], \"data\": {\"data01\": [[0.0, -0.9526423305032199], [1.0, 0.2124277133479617], [2.0, 0.20901646909635013], [3.0, -0.06611644812845148], [4.0, 1.0456110064347037], [5.0, -1.7651903504385549], [6.0, 0.042149914140724706], [7.0, -0.054037620445298834], [8.0, 0.6103071024754683], [9.0, -0.4612070118420045], [10.0, 0.5266469786940299], [11.0, 0.08372102110409277], [12.0, 0.7824778161799808], [13.0, 0.9114354215688645], [14.0, 1.5156331751314083], [15.0, -0.4389955438014572], [16.0, -0.23842822612570144], [17.0, 0.504550544216523], [18.0, 0.42058219093111304], [19.0, 0.22728755984128426], [20.0, -1.4928317892983174], [21.0, -1.1533019310667296], [22.0, 0.6339059917420646], [23.0, 0.8002325323163488], [24.0, 1.674664452289314], [25.0, 2.6015407858944375], [26.0, -1.5266067789555269], [27.0, -0.09509739615742367], [28.0, -0.22173406992097963], [29.0, 1.4301116425513012], [30.0, 0.18532086041139464], [31.0, 0.16455757177050995], [32.0, 0.518516519431635], [33.0, 0.8602549786289317], [34.0, -0.36695886895517016], [35.0, 0.680107325297045], [36.0, 0.46282826188365755], [37.0, -0.834015932828413], [38.0, 0.2121070485559357], [39.0, -0.6415705808395623], [40.0, -0.5837977443067964], [41.0, -1.109201905267594], [42.0, -0.4949192779237757], [43.0, -0.677455347003207], [44.0, -0.8570983574998992], [45.0, -0.5891035015978635], [46.0, -1.02670604950426], [47.0, 1.578013298516515], [48.0, 0.6303406272749428], [49.0, -0.12296573230567971], [50.0, -0.7824853818952133], [51.0, 1.2641420237859609], [52.0, -0.0437544542125892], [53.0, -1.4645386904999282], [54.0, 0.565533575166416], [55.0, 0.3031115426141692], [56.0, -0.6971180192011646], [57.0, 2.1315653713482625], [58.0, 0.17655487786394172], [59.0, 0.3852982145261221], [60.0, -0.5312655785900703], [61.0, 0.1200240396392293], [62.0, 0.930912552084727], [63.0, 0.3187311080066607], [64.0, 2.2500132414137637], [65.0, 0.9292662067448396], [66.0, -1.193728758722302], [67.0, -0.998152231001193], [68.0, -1.3715893668677157], [69.0, 1.0095485562981106], [70.0, 1.2986267332804213], [71.0, 0.20554887775634798], [72.0, -0.9607143968693047], [73.0, 0.269665130392763], [74.0, 0.866216014982224], [75.0, 0.5840341387488026], [76.0, -0.39874914913071163], [77.0, -0.4270154474734034], [78.0, 1.9359726593174307], [79.0, -0.16918528418881879], [80.0, -0.42033397388048155], [81.0, 1.0593515004971705], [82.0, -1.4009642238894113], [83.0, 1.8322216805695521], [84.0, 0.21595630501948268], [85.0, -1.3156549793654182], [86.0, -0.21104929280300175], [87.0, -1.3906324291805336], [88.0, 0.2686547194873073], [89.0, -1.698415507538313], [90.0, -0.8784284647293119], [91.0, -0.7518443675798101], [92.0, -1.5254406782503258], [93.0, -0.19119380854781087], [94.0, -1.1742810201290022], [95.0, 0.1773306592219518], [96.0, -0.8930068661831155], [97.0, 0.623855383455609], [98.0, -1.8191008725562323], [99.0, 0.0726600783144095]]}, \"id\": \"el6634421266768\"});\n",
        "      });\n",
        "    });\n",
        "}else{\n",
        "    // require.js not available: dynamically load d3 & mpld3\n",
        "    mpld3_load_lib(\"https://mpld3.github.io/js/d3.v3.min.js\", function(){\n",
        "         mpld3_load_lib(\"https://mpld3.github.io/js/mpld3.v0.2.js\", function(){\n",
        "                 \n",
        "                 mpld3.draw_figure(\"fig_el66344212667688782782250\", {\"axes\": [{\"xlim\": [40.0, 80.0], \"yscale\": \"linear\", \"axesbg\": \"#FFFFFF\", \"texts\": [], \"zoomable\": true, \"images\": [], \"xdomain\": [40.0, 80.0], \"ylim\": [-2.0, 3.0], \"paths\": [], \"sharey\": [], \"sharex\": [], \"axesbgalpha\": null, \"axes\": [{\"scale\": \"linear\", \"tickformat\": null, \"grid\": {\"color\": \"#CCCCCC\", \"alpha\": 1.0, \"dasharray\": \"2,2\", \"gridOn\": true}, \"fontsize\": 10.0, \"position\": \"bottom\", \"nticks\": 9, \"tickvalues\": null}, {\"scale\": \"linear\", \"tickformat\": null, \"grid\": {\"color\": \"#CCCCCC\", \"alpha\": 1.0, \"dasharray\": \"2,2\", \"gridOn\": true}, \"fontsize\": 10.0, \"position\": \"left\", \"nticks\": 6, \"tickvalues\": null}], \"lines\": [{\"color\": \"#0000FF\", \"yindex\": 1, \"coordinates\": \"data\", \"dasharray\": \"10,0\", \"zorder\": 2, \"alpha\": 1, \"xindex\": 0, \"linewidth\": 2, \"data\": \"data01\", \"id\": \"el6634423608912\"}], \"markers\": [], \"id\": \"el6634421715664\", \"ydomain\": [-2.0, 3.0], \"collections\": [], \"xscale\": \"linear\", \"bbox\": [0.125, 0.125, 0.77500000000000002, 0.77500000000000002]}], \"height\": 320.0, \"width\": 640.0, \"plugins\": [{\"type\": \"reset\"}, {\"enabled\": false, \"button\": true, \"type\": \"zoom\"}, {\"enabled\": false, \"button\": true, \"type\": \"boxzoom\"}, {\"fontsize\": 16, \"fmt\": \".3g\", \"type\": \"mouseposition\"}], \"data\": {\"data01\": [[0.0, -0.9526423305032199], [1.0, 0.2124277133479617], [2.0, 0.20901646909635013], [3.0, -0.06611644812845148], [4.0, 1.0456110064347037], [5.0, -1.7651903504385549], [6.0, 0.042149914140724706], [7.0, -0.054037620445298834], [8.0, 0.6103071024754683], [9.0, -0.4612070118420045], [10.0, 0.5266469786940299], [11.0, 0.08372102110409277], [12.0, 0.7824778161799808], [13.0, 0.9114354215688645], [14.0, 1.5156331751314083], [15.0, -0.4389955438014572], [16.0, -0.23842822612570144], [17.0, 0.504550544216523], [18.0, 0.42058219093111304], [19.0, 0.22728755984128426], [20.0, -1.4928317892983174], [21.0, -1.1533019310667296], [22.0, 0.6339059917420646], [23.0, 0.8002325323163488], [24.0, 1.674664452289314], [25.0, 2.6015407858944375], [26.0, -1.5266067789555269], [27.0, -0.09509739615742367], [28.0, -0.22173406992097963], [29.0, 1.4301116425513012], [30.0, 0.18532086041139464], [31.0, 0.16455757177050995], [32.0, 0.518516519431635], [33.0, 0.8602549786289317], [34.0, -0.36695886895517016], [35.0, 0.680107325297045], [36.0, 0.46282826188365755], [37.0, -0.834015932828413], [38.0, 0.2121070485559357], [39.0, -0.6415705808395623], [40.0, -0.5837977443067964], [41.0, -1.109201905267594], [42.0, -0.4949192779237757], [43.0, -0.677455347003207], [44.0, -0.8570983574998992], [45.0, -0.5891035015978635], [46.0, -1.02670604950426], [47.0, 1.578013298516515], [48.0, 0.6303406272749428], [49.0, -0.12296573230567971], [50.0, -0.7824853818952133], [51.0, 1.2641420237859609], [52.0, -0.0437544542125892], [53.0, -1.4645386904999282], [54.0, 0.565533575166416], [55.0, 0.3031115426141692], [56.0, -0.6971180192011646], [57.0, 2.1315653713482625], [58.0, 0.17655487786394172], [59.0, 0.3852982145261221], [60.0, -0.5312655785900703], [61.0, 0.1200240396392293], [62.0, 0.930912552084727], [63.0, 0.3187311080066607], [64.0, 2.2500132414137637], [65.0, 0.9292662067448396], [66.0, -1.193728758722302], [67.0, -0.998152231001193], [68.0, -1.3715893668677157], [69.0, 1.0095485562981106], [70.0, 1.2986267332804213], [71.0, 0.20554887775634798], [72.0, -0.9607143968693047], [73.0, 0.269665130392763], [74.0, 0.866216014982224], [75.0, 0.5840341387488026], [76.0, -0.39874914913071163], [77.0, -0.4270154474734034], [78.0, 1.9359726593174307], [79.0, -0.16918528418881879], [80.0, -0.42033397388048155], [81.0, 1.0593515004971705], [82.0, -1.4009642238894113], [83.0, 1.8322216805695521], [84.0, 0.21595630501948268], [85.0, -1.3156549793654182], [86.0, -0.21104929280300175], [87.0, -1.3906324291805336], [88.0, 0.2686547194873073], [89.0, -1.698415507538313], [90.0, -0.8784284647293119], [91.0, -0.7518443675798101], [92.0, -1.5254406782503258], [93.0, -0.19119380854781087], [94.0, -1.1742810201290022], [95.0, 0.1773306592219518], [96.0, -0.8930068661831155], [97.0, 0.623855383455609], [98.0, -1.8191008725562323], [99.0, 0.0726600783144095]]}, \"id\": \"el6634421266768\"});\n",
        "            })\n",
        "         });\n",
        "}\n",
        "</script>"
       ],
       "metadata": {},
       "output_type": "display_data",
       "png": "[encoded data removed]",
       "text": [
        "<matplotlib.figure.Figure at 0x107872d50>"
       ]
      }
     ],
     "prompt_number": 7
    },
    {
     "cell_type": "code",
     "collapsed": false,
     "input": [
      "mpld3.save_html(f, './mpld3_figure.html')"
     ],
     "language": "python",
     "metadata": {},
     "outputs": [],
     "prompt_number": 14
    },
    {
     "cell_type": "markdown",
     "metadata": {},
     "source": [
      "+ [open in a new tab](./mpld3_figure.html)\n",
      "\n",
      "+ [some more examples](http://mpld3.github.io/examples/index.html) from the mpld3 gallery"
     ]
    },
    {
     "cell_type": "markdown",
     "metadata": {},
     "source": [
      "<hr size = 6>\n",
      "\n",
      "## BOKEH"
     ]
    },
    {
     "cell_type": "markdown",
     "metadata": {},
     "source": [
      "[bokeh](http://bokeh.pydata.org/) is a library developed by [continuum analytics](http://continuum.io)  \n",
      "\n",
      "from their website:\n",
      "\n",
      "*Bokeh is a Python interactive visualization library that targets modern web browsers for presentation. Its goal is to provide elegant, concise construction of novel graphics in the style of D3.js, but also deliver this capability with high-performance interactivity over very large or streaming datasets. Bokeh can help anyone who would like to quickly and easily create interactive plots, dashboards, and data applications.*"
     ]
    },
    {
     "cell_type": "code",
     "collapsed": false,
     "input": [
      "from bokeh import plotting as bplt"
     ],
     "language": "python",
     "metadata": {},
     "outputs": [],
     "prompt_number": 9
    },
    {
     "cell_type": "code",
     "collapsed": false,
     "input": [
      "bokehplot = './bokeh_plot.html'"
     ],
     "language": "python",
     "metadata": {},
     "outputs": [],
     "prompt_number": 10
    },
    {
     "cell_type": "code",
     "collapsed": false,
     "input": [
      "if os.path.exists(bokehplot): \n",
      "    os.remove(bokehplot)"
     ],
     "language": "python",
     "metadata": {},
     "outputs": [],
     "prompt_number": 11
    },
    {
     "cell_type": "code",
     "collapsed": false,
     "input": [
      "bplt.output_file(bokehplot, title='bokeh plot', autosave=False)"
     ],
     "language": "python",
     "metadata": {},
     "outputs": [],
     "prompt_number": 12
    },
    {
     "cell_type": "code",
     "collapsed": false,
     "input": [
      "bplt.figure()\n",
      "b = bplt.line(xdf.index, xdf['A'])\n",
      "bplt.show()"
     ],
     "language": "python",
     "metadata": {},
     "outputs": [],
     "prompt_number": 13
    },
    {
     "cell_type": "markdown",
     "metadata": {},
     "source": [
      "To know more about bokeh: \n",
      "    \n",
      "[http://bokeh.pydata.org/](http://bokeh.pydata.org/)"
     ]
    },
    {
     "cell_type": "markdown",
     "metadata": {},
     "source": [
      "if you use the [anaconda python distribution](), all the bokeh examples are saved in \n",
      "\n",
      "    ${anaconda}/Examples/bokeh "
     ]
    },
    {
     "cell_type": "markdown",
     "metadata": {},
     "source": [
      "<hr size=6> "
     ]
    },
    {
     "cell_type": "heading",
     "level": 2,
     "metadata": {},
     "source": [
      "BEARCART"
     ]
    },
    {
     "cell_type": "markdown",
     "metadata": {},
     "source": [
      "[bearcart](https://github.com/wrobstory/bearcart) has been developed by [Rob Story](http://wrobstory.github.io/) and provides an interface to the \n",
      "[rickshaw](http://code.shutterstock.com/rickshaw/) JavaScript library. It does one thing really, which is to plot **time series**, but it does it (amazingly) well !\n",
      "<br>\n",
      "<br>"
     ]
    },
    {
     "cell_type": "code",
     "collapsed": false,
     "input": [
      "import bearcart \n",
      "from datetime import datetime"
     ],
     "language": "python",
     "metadata": {},
     "outputs": [],
     "prompt_number": 15
    },
    {
     "cell_type": "code",
     "collapsed": false,
     "input": [
      "xdf = pd.DataFrame(np.cumsum(np.random.normal(size=(365,3)), axis=0), columns=['A','B','C'], \\\n",
      "                   index=pd.date_range(datetime(1998,1,1,0,0,0), periods=365))"
     ],
     "language": "python",
     "metadata": {},
     "outputs": [],
     "prompt_number": 16
    },
    {
     "cell_type": "code",
     "collapsed": false,
     "input": [
      "vis = bearcart.Chart(xdf, height=500, width=750, colors={'A':'#FF0000', 'B':'#0066FF', 'C':'#33CC33'})"
     ],
     "language": "python",
     "metadata": {},
     "outputs": [],
     "prompt_number": 17
    },
    {
     "cell_type": "code",
     "collapsed": false,
     "input": [
      "html_path = r'bearcart.html'\n",
      "data_path = r'data.json'\n",
      "js_path = r'rickshaw.min.js'\n",
      "css_path = r'rickshaw.min.css'"
     ],
     "language": "python",
     "metadata": {},
     "outputs": [],
     "prompt_number": 19
    },
    {
     "cell_type": "code",
     "collapsed": false,
     "input": [
      "vis.create_chart(html_path=html_path, data_path=data_path, js_path=js_path, css_path=css_path)"
     ],
     "language": "python",
     "metadata": {},
     "outputs": [],
     "prompt_number": 20
    },
    {
     "cell_type": "markdown",
     "metadata": {},
     "source": [
      "Open the url [here](./bearcart.html)"
     ]
    },
    {
     "cell_type": "markdown",
     "metadata": {},
     "source": [
      "<hr size = 6>"
     ]
    },
    {
     "cell_type": "heading",
     "level": 2,
     "metadata": {},
     "source": [
      "FOLIUM"
     ]
    },
    {
     "cell_type": "markdown",
     "metadata": {},
     "source": [
      "[folium](https://github.com/wrobstory/folium)  has been also been developed by [Rob Story](http://wrobstory.github.io/) to provide an interface to the [leaflet.js](http://leafletjs.com/) JavaScript mapping library"
     ]
    },
    {
     "cell_type": "code",
     "collapsed": false,
     "input": [
      "import folium"
     ],
     "language": "python",
     "metadata": {},
     "outputs": [],
     "prompt_number": 21
    },
    {
     "cell_type": "code",
     "collapsed": false,
     "input": [
      "x = np.random.randn(100)\n",
      "\n",
      "fout = './figure.png'\n",
      "res = 80\n",
      "w, h = 4, 2\n",
      "\n",
      "f, ax = plt.subplots(figsize=(w, h))\n",
      "ax.fill_between(np.arange(len(x)), 0, x, where=(x>=0), color='r', interpolate=True)\n",
      "ax.fill_between(np.arange(len(x)), 0, x, where=(x<0), color='b', interpolate=True)\n",
      "ax.grid(color='.8')\n",
      "f.savefig('./figure.png', dpi = res)\n",
      "\n",
      "textpop = \"\"\"<div align='center'> here's a image <br>\\\n",
      "<img src='{}' alt='imaginary temperature anomaly' width='{}' height='{}'> </div>\"\"\".format(fout, w*res, h*res)"
     ],
     "language": "python",
     "metadata": {},
     "outputs": [
      {
       "html": [
        "\n",
        "\n",
        "<style>\n",
        "\n",
        "</style>\n",
        "\n",
        "<div id=\"fig_el66344235559849882101887\"></div>\n",
        "<script>\n",
        "function mpld3_load_lib(url, callback){\n",
        "  var s = document.createElement('script');\n",
        "  s.src = url;\n",
        "  s.async = true;\n",
        "  s.onreadystatechange = s.onload = callback;\n",
        "  s.onerror = function(){console.warn(\"failed to load library \" + url);};\n",
        "  document.getElementsByTagName(\"head\")[0].appendChild(s);\n",
        "}\n",
        "\n",
        "if(typeof(mpld3) !== \"undefined\" && mpld3._mpld3IsLoaded){\n",
        "   // already loaded: just create the figure\n",
        "   !function(mpld3){\n",
        "       \n",
        "       mpld3.draw_figure(\"fig_el66344235559849882101887\", {\"axes\": [{\"xlim\": [0.0, 100.0], \"yscale\": \"linear\", \"axesbg\": \"#FFFFFF\", \"texts\": [], \"zoomable\": true, \"images\": [], \"xdomain\": [0.0, 100.0], \"ylim\": [-3.0, 3.0], \"paths\": [], \"sharey\": [], \"sharex\": [], \"axesbgalpha\": null, \"axes\": [{\"scale\": \"linear\", \"tickformat\": null, \"grid\": {\"color\": \"#CCCCCC\", \"alpha\": 1.0, \"dasharray\": \"2,2\", \"gridOn\": true}, \"fontsize\": 10.0, \"position\": \"bottom\", \"nticks\": 6, \"tickvalues\": null}, {\"scale\": \"linear\", \"tickformat\": null, \"grid\": {\"color\": \"#CCCCCC\", \"alpha\": 1.0, \"dasharray\": \"2,2\", \"gridOn\": true}, \"fontsize\": 10.0, \"position\": \"left\", \"nticks\": 7, \"tickvalues\": null}], \"lines\": [], \"markers\": [], \"id\": \"el6634463514256\", \"ydomain\": [-3.0, 3.0], \"collections\": [{\"paths\": [[[[0.0, 0.0], [0.0, 0.0], [0.1417418767798247, 0.0], [0.0, 0.12432189355076287]], [\"M\", \"L\", \"L\", \"L\", \"Z\"]], [[[3.281478173278611, 0.0], [4.0, 0.0], [5.0, 0.0], [6.0, 0.0], [6.991999175022087, 0.0], [6.0, 0.8428482654470376], [5.0, 0.06736633801437335], [4.0, 0.7819196161096963]], [\"M\", \"L\", \"L\", \"L\", \"L\", \"L\", \"L\", \"L\", \"Z\"]], [[[7.2934792564632795, 0.0], [8.0, 0.0], [9.0, 0.0], [10.0, 0.0], [11.0, 0.0], [12.0, 0.0], [12.04182546518904, 0.0], [12.0, 0.06419625618268021], [11.0, 0.958141463335931], [10.0, 0.44308192678232006], [9.0, 0.5444819085723895], [8.0, 0.016365164069973966]], [\"M\", \"L\", \"L\", \"L\", \"L\", \"L\", \"L\", \"L\", \"L\", \"L\", \"L\", \"L\", \"Z\"]], [[[15.076708936938305, 0.0], [16.0, 0.0], [16.765237276181455, 0.0], [16.0, 1.5973885013332259]], [\"M\", \"L\", \"L\", \"L\", \"Z\"]], [[[18.516522525300783, 0.0], [19.0, 0.0], [20.0, 0.0], [21.0, 0.0], [22.0, 0.0], [22.559876785126228, 0.0], [22.0, 1.3876241050568412], [21.0, 0.5972976254748109], [20.0, 0.06354063703989027], [19.0, 0.12031376913722974]], [\"M\", \"L\", \"L\", \"L\", \"L\", \"L\", \"L\", \"L\", \"L\", \"L\", \"Z\"]], [[[24.368898623389263, 0.0], [25.0, 0.0], [26.0, 0.0], [26.641781872508826, 0.0], [26.0, 0.9434026515218386], [25.0, 2.628100352959789]], [\"M\", \"L\", \"L\", \"L\", \"L\", \"L\", \"Z\"]], [[[27.901582944807856, 0.0], [28.0, 0.0], [29.0, 0.0], [29.09724381857177, 0.0], [29.0, 0.00880782213715159], [28.0, 0.05748067829392829]], [\"M\", \"L\", \"L\", \"L\", \"L\", \"L\", \"Z\"]], [[[30.176660429229077, 0.0], [31.0, 0.0], [32.0, 0.0], [33.0, 0.0], [33.52125608809718, 0.0], [33.0, 1.0306431017855548], [32.0, 0.22807236984338033], [31.0, 0.38108048550963813]], [\"M\", \"L\", \"L\", \"L\", \"L\", \"L\", \"L\", \"L\", \"Z\"]], [[[34.790935675271406, 0.0], [35.0, 0.0], [36.0, 0.0], [37.0, 0.0], [37.55364579068516, 0.0], [37.0, 1.1235817867781834], [36.0, 0.712281030205534], [35.0, 0.25020684673516336]], [\"M\", \"L\", \"L\", \"L\", \"L\", \"L\", \"L\", \"L\", \"Z\"]], [[[39.85420075010011, 0.0], [40.0, 0.0], [41.0, 0.0], [41.161481830014395, 0.0], [41.0, 0.0930257042421745], [40.0, 0.1638093371883068]], [\"M\", \"L\", \"L\", \"L\", \"L\", \"L\", \"Z\"]], [[[42.468767087906464, 0.0], [43.0, 0.0], [43.65826100793128, 0.0], [43.0, 0.5474187178230814]], [\"M\", \"L\", \"L\", \"L\", \"Z\"]], [[[46.811678654507, 0.0], [47.0, 0.0], [48.0, 0.0], [48.74236568385579, 0.0], [48.0, 1.2489049839640813], [47.0, 0.21026123767193874]], [\"M\", \"L\", \"L\", \"L\", \"L\", \"L\", \"Z\"]], [[[49.67760206803512, 0.0], [50.0, 0.0], [50.591599140479005, 0.0], [50.0, 0.20622093155693608]], [\"M\", \"L\", \"L\", \"L\", \"Z\"]], [[[52.52831999570406, 0.0], [53.0, 0.0], [53.493060600217554, 0.0], [53.0, 1.072199417674239]], [\"M\", \"L\", \"L\", \"L\", \"Z\"]], [[[54.39176127121026, 0.0], [55.0, 0.0], [56.0, 0.0], [56.530186376923815, 0.0], [56.0, 0.28925423716178483], [55.0, 1.7115275049786598]], [\"M\", \"L\", \"L\", \"L\", \"L\", \"L\", \"Z\"]], [[[58.27467076425809, 0.0], [59.0, 0.0], [60.0, 0.0], [61.0, 0.0], [61.73633660930044, 0.0], [61.0, 0.20295133209781763], [60.0, 0.6376795226578744], [59.0, 1.0976518795706436]], [\"M\", \"L\", \"L\", \"L\", \"L\", \"L\", \"L\", \"L\", \"Z\"]], [[[66.68411847774507, 0.0], [67.0, 0.0], [68.0, 0.0], [69.0, 0.0], [69.99935695509485, 0.0], [69.0, 2.1238406294143464], [68.0, 2.1686865190225983], [67.0, 0.5675927461618949]], [\"M\", \"L\", \"L\", \"L\", \"L\", \"L\", \"L\", \"L\", \"Z\"]], [[[71.40027509585985, 0.0], [72.0, 0.0], [72.40146664610947, 0.0], [72.0, 0.6355402393388799]], [\"M\", \"L\", \"L\", \"L\", \"Z\"]], [[[74.12175443001655, 0.0], [75.0, 0.0], [75.55776516749503, 0.0], [75.0, 0.8091865782558136]], [\"M\", \"L\", \"L\", \"L\", \"Z\"]], [[[79.09314649372394, 0.0], [80.0, 0.0], [81.0, 0.0], [81.33624553923492, 0.0], [81.0, 0.7455634422979317], [80.0, 0.38102856326779494]], [\"M\", \"L\", \"L\", \"L\", \"L\", \"L\", \"Z\"]], [[[87.680574553703, 0.0], [88.0, 0.0], [89.0, 0.0], [89.3360832937324, 0.0], [89.0, 1.0201544654309471], [88.0, 0.2846220551139183]], [\"M\", \"L\", \"L\", \"L\", \"L\", \"L\", \"Z\"]], [[[90.66481552753098, 0.0], [91.0, 0.0], [91.36475609906319, 0.0], [91.0, 1.016050618121657]], [\"M\", \"L\", \"L\", \"L\", \"Z\"]], [[[92.84199103229582, 0.0], [93.0, 0.0], [94.0, 0.0], [94.58119094525077, 0.0], [94.0, 1.300573503579166], [93.0, 0.33206840466711185]], [\"M\", \"L\", \"L\", \"L\", \"L\", \"L\", \"Z\"]], [[[96.84535235044794, 0.0], [97.0, 0.0], [98.0, 0.0], [98.73047902435445, 0.0], [98.0, 0.5353638429956596], [97.0, 0.20296660429092314]], [\"M\", \"L\", \"L\", \"L\", \"L\", \"L\", \"Z\"]]], \"edgecolors\": [\"#FF0000\"], \"edgewidths\": [1.0], \"offsets\": \"data01\", \"yindex\": 1, \"id\": \"el6634463560528\", \"pathtransforms\": [], \"pathcoordinates\": \"data\", \"offsetcoordinates\": \"display\", \"zorder\": 1, \"xindex\": 0, \"alphas\": [null], \"facecolors\": [\"#FF0000\"]}, {\"paths\": [[[[0.1417418767798247, 0.0], [1.0, 0.0], [2.0, 0.0], [3.0, 0.0], [3.281478173278611, 0.0], [3.0, -0.30631401442257394], [2.0, -1.2578316477347278], [1.0, -0.7527787655852719]], [\"M\", \"L\", \"L\", \"L\", \"L\", \"L\", \"L\", \"L\", \"Z\"]], [[[6.991999175022087, 0.0], [7.0, 0.0], [7.2934792564632795, 0.0], [7.0, -0.006797870023056053]], [\"M\", \"L\", \"L\", \"L\", \"Z\"]], [[[12.04182546518904, 0.0], [13.0, 0.0], [14.0, 0.0], [15.0, 0.0], [15.076708936938305, 0.0], [15.0, -0.13271435056288083], [14.0, -0.9929517206894625], [13.0, -1.4706642861335801]], [\"M\", \"L\", \"L\", \"L\", \"L\", \"L\", \"L\", \"L\", \"Z\"]], [[[16.765237276181455, 0.0], [17.0, 0.0], [18.0, 0.0], [18.516522525300783, 0.0], [18.0, -0.1285370572887173], [17.0, -0.49005359153530137]], [\"M\", \"L\", \"L\", \"L\", \"L\", \"L\", \"Z\"]], [[[22.559876785126228, 0.0], [23.0, 0.0], [24.0, 0.0], [24.368898623389263, 0.0], [24.0, -1.536207395937432], [23.0, -1.0908214063854598]], [\"M\", \"L\", \"L\", \"L\", \"L\", \"L\", \"Z\"]], [[[26.641781872508826, 0.0], [27.0, 0.0], [27.901582944807856, 0.0], [27.0, -0.5265713255148293]], [\"M\", \"L\", \"L\", \"L\", \"Z\"]], [[[29.09724381857177, 0.0], [30.0, 0.0], [30.176660429229077, 0.0], [30.0, -0.08176680015260554]], [\"M\", \"L\", \"L\", \"L\", \"Z\"]], [[[33.52125608809718, 0.0], [34.0, 0.0], [34.790935675271406, 0.0], [34.0, -0.9465867576255118]], [\"M\", \"L\", \"L\", \"L\", \"Z\"]], [[[37.55364579068516, 0.0], [38.0, 0.0], [39.0, 0.0], [39.85420075010011, 0.0], [39.0, -0.959717274236538], [38.0, -0.9058417285486503]], [\"M\", \"L\", \"L\", \"L\", \"L\", \"L\", \"Z\"]], [[[41.161481830014395, 0.0], [42.0, 0.0], [42.468767087906464, 0.0], [42.0, -0.48304966122700554]], [\"M\", \"L\", \"L\", \"L\", \"Z\"]], [[[43.65826100793128, 0.0], [44.0, 0.0], [45.0, 0.0], [46.0, 0.0], [46.811678654507, 0.0], [46.0, -0.9062411806891009], [45.0, -0.1697953726908923], [44.0, -0.28419474739409445]], [\"M\", \"L\", \"L\", \"L\", \"L\", \"L\", \"L\", \"L\", \"Z\"]], [[[48.74236568385579, 0.0], [49.0, 0.0], [49.67760206803512, 0.0], [49.0, -0.4334262594163583]], [\"M\", \"L\", \"L\", \"L\", \"Z\"]], [[[50.591599140479005, 0.0], [51.0, 0.0], [52.0, 0.0], [52.52831999570406, 0.0], [52.0, -1.2009506160539762], [51.0, -0.14236127123322367]], [\"M\", \"L\", \"L\", \"L\", \"L\", \"L\", \"Z\"]], [[[53.493060600217554, 0.0], [54.0, 0.0], [54.39176127121026, 0.0], [54.0, -1.1023799691215324]], [\"M\", \"L\", \"L\", \"L\", \"Z\"]], [[[56.530186376923815, 0.0], [57.0, 0.0], [58.0, 0.0], [58.27467076425809, 0.0], [58.0, -0.41566348879156195], [57.0, -0.25631662197658195]], [\"M\", \"L\", \"L\", \"L\", \"L\", \"L\", \"Z\"]], [[[61.73633660930044, 0.0], [62.0, 0.0], [63.0, 0.0], [64.0, 0.0], [65.0, 0.0], [66.0, 0.0], [66.68411847774507, 0.0], [66.0, -1.229260523729052], [65.0, -0.03193023384829847], [64.0, -0.23839879493052718], [63.0, -1.0779334700317658], [62.0, -0.07267170434285684]], [\"M\", \"L\", \"L\", \"L\", \"L\", \"L\", \"L\", \"L\", \"L\", \"L\", \"L\", \"L\", \"Z\"]], [[[69.99935695509485, 0.0], [70.0, 0.0], [71.0, 0.0], [71.40027509585985, 0.0], [71.0, -0.4241793670197692], [70.0, -0.0013666036836216752]], [\"M\", \"L\", \"L\", \"L\", \"L\", \"L\", \"Z\"]], [[[72.40146664610947, 0.0], [73.0, 0.0], [74.0, 0.0], [74.12175443001655, 0.0], [74.0, -0.11218052669987479], [73.0, -0.9475059377165804]], [\"M\", \"L\", \"L\", \"L\", \"L\", \"L\", \"Z\"]], [[[75.55776516749503, 0.0], [76.0, 0.0], [77.0, 0.0], [78.0, 0.0], [79.0, 0.0], [79.09314649372394, 0.0], [79.0, -0.039136943763725084], [78.0, -0.4275249518816976], [77.0, -0.3518241463920487], [76.0, -0.6415791299900666]], [\"M\", \"L\", \"L\", \"L\", \"L\", \"L\", \"L\", \"L\", \"L\", \"L\", \"Z\"]], [[[81.33624553923492, 0.0], [82.0, 0.0], [83.0, 0.0], [84.0, 0.0], [85.0, 0.0], [86.0, 0.0], [87.0, 0.0], [87.680574553703, 0.0], [87.0, -0.6064217186788474], [86.0, -1.3081348982038383], [85.0, -0.40411449963457824], [84.0, -0.8101207744589982], [83.0, -1.5209835218471952], [82.0, -1.4717550208535977]], [\"M\", \"L\", \"L\", \"L\", \"L\", \"L\", \"L\", \"L\", \"L\", \"L\", \"L\", \"L\", \"L\", \"L\", \"Z\"]], [[[89.3360832937324, 0.0], [90.0, 0.0], [90.66481552753098, 0.0], [90.0, -2.015267063861783]], [\"M\", \"L\", \"L\", \"L\", \"Z\"]], [[[91.36475609906319, 0.0], [92.0, 0.0], [92.84199103229582, 0.0], [92.0, -1.769511078396139]], [\"M\", \"L\", \"L\", \"L\", \"Z\"]], [[[94.58119094525077, 0.0], [95.0, 0.0], [96.0, 0.0], [96.84535235044794, 0.0], [96.0, -1.1094788475398947], [95.0, -0.9371996658187339]], [\"M\", \"L\", \"L\", \"L\", \"L\", \"L\", \"Z\"]], [[[98.73047902435445, 0.0], [99.0, 0.0], [99.0, 0.0], [99.0, -0.1975303608711482]], [\"M\", \"L\", \"L\", \"L\", \"Z\"]]], \"edgecolors\": [\"#0000FF\"], \"edgewidths\": [1.0], \"offsets\": \"data01\", \"yindex\": 0, \"id\": \"el6634463560400\", \"pathtransforms\": [], \"pathcoordinates\": \"data\", \"offsetcoordinates\": \"display\", \"zorder\": 1, \"xindex\": 0, \"alphas\": [null], \"facecolors\": [\"#0000FF\"]}], \"xscale\": \"linear\", \"bbox\": [0.125, 0.125, 0.77500000000000002, 0.77500000000000002]}], \"height\": 160.0, \"width\": 320.0, \"plugins\": [{\"type\": \"reset\"}, {\"enabled\": false, \"button\": true, \"type\": \"zoom\"}, {\"enabled\": false, \"button\": true, \"type\": \"boxzoom\"}], \"data\": {\"data01\": [[0.0, 0.0]]}, \"id\": \"el6634423555984\"});\n",
        "   }(mpld3);\n",
        "}else if(typeof define === \"function\" && define.amd){\n",
        "   // require.js is available: use it to load d3/mpld3\n",
        "   require.config({paths: {d3: \"https://mpld3.github.io/js/d3.v3.min\"}});\n",
        "   require([\"d3\"], function(d3){\n",
        "      window.d3 = d3;\n",
        "      mpld3_load_lib(\"https://mpld3.github.io/js/mpld3.v0.2.js\", function(){\n",
        "         \n",
        "         mpld3.draw_figure(\"fig_el66344235559849882101887\", {\"axes\": [{\"xlim\": [0.0, 100.0], \"yscale\": \"linear\", \"axesbg\": \"#FFFFFF\", \"texts\": [], \"zoomable\": true, \"images\": [], \"xdomain\": [0.0, 100.0], \"ylim\": [-3.0, 3.0], \"paths\": [], \"sharey\": [], \"sharex\": [], \"axesbgalpha\": null, \"axes\": [{\"scale\": \"linear\", \"tickformat\": null, \"grid\": {\"color\": \"#CCCCCC\", \"alpha\": 1.0, \"dasharray\": \"2,2\", \"gridOn\": true}, \"fontsize\": 10.0, \"position\": \"bottom\", \"nticks\": 6, \"tickvalues\": null}, {\"scale\": \"linear\", \"tickformat\": null, \"grid\": {\"color\": \"#CCCCCC\", \"alpha\": 1.0, \"dasharray\": \"2,2\", \"gridOn\": true}, \"fontsize\": 10.0, \"position\": \"left\", \"nticks\": 7, \"tickvalues\": null}], \"lines\": [], \"markers\": [], \"id\": \"el6634463514256\", \"ydomain\": [-3.0, 3.0], \"collections\": [{\"paths\": [[[[0.0, 0.0], [0.0, 0.0], [0.1417418767798247, 0.0], [0.0, 0.12432189355076287]], [\"M\", \"L\", \"L\", \"L\", \"Z\"]], [[[3.281478173278611, 0.0], [4.0, 0.0], [5.0, 0.0], [6.0, 0.0], [6.991999175022087, 0.0], [6.0, 0.8428482654470376], [5.0, 0.06736633801437335], [4.0, 0.7819196161096963]], [\"M\", \"L\", \"L\", \"L\", \"L\", \"L\", \"L\", \"L\", \"Z\"]], [[[7.2934792564632795, 0.0], [8.0, 0.0], [9.0, 0.0], [10.0, 0.0], [11.0, 0.0], [12.0, 0.0], [12.04182546518904, 0.0], [12.0, 0.06419625618268021], [11.0, 0.958141463335931], [10.0, 0.44308192678232006], [9.0, 0.5444819085723895], [8.0, 0.016365164069973966]], [\"M\", \"L\", \"L\", \"L\", \"L\", \"L\", \"L\", \"L\", \"L\", \"L\", \"L\", \"L\", \"Z\"]], [[[15.076708936938305, 0.0], [16.0, 0.0], [16.765237276181455, 0.0], [16.0, 1.5973885013332259]], [\"M\", \"L\", \"L\", \"L\", \"Z\"]], [[[18.516522525300783, 0.0], [19.0, 0.0], [20.0, 0.0], [21.0, 0.0], [22.0, 0.0], [22.559876785126228, 0.0], [22.0, 1.3876241050568412], [21.0, 0.5972976254748109], [20.0, 0.06354063703989027], [19.0, 0.12031376913722974]], [\"M\", \"L\", \"L\", \"L\", \"L\", \"L\", \"L\", \"L\", \"L\", \"L\", \"Z\"]], [[[24.368898623389263, 0.0], [25.0, 0.0], [26.0, 0.0], [26.641781872508826, 0.0], [26.0, 0.9434026515218386], [25.0, 2.628100352959789]], [\"M\", \"L\", \"L\", \"L\", \"L\", \"L\", \"Z\"]], [[[27.901582944807856, 0.0], [28.0, 0.0], [29.0, 0.0], [29.09724381857177, 0.0], [29.0, 0.00880782213715159], [28.0, 0.05748067829392829]], [\"M\", \"L\", \"L\", \"L\", \"L\", \"L\", \"Z\"]], [[[30.176660429229077, 0.0], [31.0, 0.0], [32.0, 0.0], [33.0, 0.0], [33.52125608809718, 0.0], [33.0, 1.0306431017855548], [32.0, 0.22807236984338033], [31.0, 0.38108048550963813]], [\"M\", \"L\", \"L\", \"L\", \"L\", \"L\", \"L\", \"L\", \"Z\"]], [[[34.790935675271406, 0.0], [35.0, 0.0], [36.0, 0.0], [37.0, 0.0], [37.55364579068516, 0.0], [37.0, 1.1235817867781834], [36.0, 0.712281030205534], [35.0, 0.25020684673516336]], [\"M\", \"L\", \"L\", \"L\", \"L\", \"L\", \"L\", \"L\", \"Z\"]], [[[39.85420075010011, 0.0], [40.0, 0.0], [41.0, 0.0], [41.161481830014395, 0.0], [41.0, 0.0930257042421745], [40.0, 0.1638093371883068]], [\"M\", \"L\", \"L\", \"L\", \"L\", \"L\", \"Z\"]], [[[42.468767087906464, 0.0], [43.0, 0.0], [43.65826100793128, 0.0], [43.0, 0.5474187178230814]], [\"M\", \"L\", \"L\", \"L\", \"Z\"]], [[[46.811678654507, 0.0], [47.0, 0.0], [48.0, 0.0], [48.74236568385579, 0.0], [48.0, 1.2489049839640813], [47.0, 0.21026123767193874]], [\"M\", \"L\", \"L\", \"L\", \"L\", \"L\", \"Z\"]], [[[49.67760206803512, 0.0], [50.0, 0.0], [50.591599140479005, 0.0], [50.0, 0.20622093155693608]], [\"M\", \"L\", \"L\", \"L\", \"Z\"]], [[[52.52831999570406, 0.0], [53.0, 0.0], [53.493060600217554, 0.0], [53.0, 1.072199417674239]], [\"M\", \"L\", \"L\", \"L\", \"Z\"]], [[[54.39176127121026, 0.0], [55.0, 0.0], [56.0, 0.0], [56.530186376923815, 0.0], [56.0, 0.28925423716178483], [55.0, 1.7115275049786598]], [\"M\", \"L\", \"L\", \"L\", \"L\", \"L\", \"Z\"]], [[[58.27467076425809, 0.0], [59.0, 0.0], [60.0, 0.0], [61.0, 0.0], [61.73633660930044, 0.0], [61.0, 0.20295133209781763], [60.0, 0.6376795226578744], [59.0, 1.0976518795706436]], [\"M\", \"L\", \"L\", \"L\", \"L\", \"L\", \"L\", \"L\", \"Z\"]], [[[66.68411847774507, 0.0], [67.0, 0.0], [68.0, 0.0], [69.0, 0.0], [69.99935695509485, 0.0], [69.0, 2.1238406294143464], [68.0, 2.1686865190225983], [67.0, 0.5675927461618949]], [\"M\", \"L\", \"L\", \"L\", \"L\", \"L\", \"L\", \"L\", \"Z\"]], [[[71.40027509585985, 0.0], [72.0, 0.0], [72.40146664610947, 0.0], [72.0, 0.6355402393388799]], [\"M\", \"L\", \"L\", \"L\", \"Z\"]], [[[74.12175443001655, 0.0], [75.0, 0.0], [75.55776516749503, 0.0], [75.0, 0.8091865782558136]], [\"M\", \"L\", \"L\", \"L\", \"Z\"]], [[[79.09314649372394, 0.0], [80.0, 0.0], [81.0, 0.0], [81.33624553923492, 0.0], [81.0, 0.7455634422979317], [80.0, 0.38102856326779494]], [\"M\", \"L\", \"L\", \"L\", \"L\", \"L\", \"Z\"]], [[[87.680574553703, 0.0], [88.0, 0.0], [89.0, 0.0], [89.3360832937324, 0.0], [89.0, 1.0201544654309471], [88.0, 0.2846220551139183]], [\"M\", \"L\", \"L\", \"L\", \"L\", \"L\", \"Z\"]], [[[90.66481552753098, 0.0], [91.0, 0.0], [91.36475609906319, 0.0], [91.0, 1.016050618121657]], [\"M\", \"L\", \"L\", \"L\", \"Z\"]], [[[92.84199103229582, 0.0], [93.0, 0.0], [94.0, 0.0], [94.58119094525077, 0.0], [94.0, 1.300573503579166], [93.0, 0.33206840466711185]], [\"M\", \"L\", \"L\", \"L\", \"L\", \"L\", \"Z\"]], [[[96.84535235044794, 0.0], [97.0, 0.0], [98.0, 0.0], [98.73047902435445, 0.0], [98.0, 0.5353638429956596], [97.0, 0.20296660429092314]], [\"M\", \"L\", \"L\", \"L\", \"L\", \"L\", \"Z\"]]], \"edgecolors\": [\"#FF0000\"], \"edgewidths\": [1.0], \"offsets\": \"data01\", \"yindex\": 1, \"id\": \"el6634463560528\", \"pathtransforms\": [], \"pathcoordinates\": \"data\", \"offsetcoordinates\": \"display\", \"zorder\": 1, \"xindex\": 0, \"alphas\": [null], \"facecolors\": [\"#FF0000\"]}, {\"paths\": [[[[0.1417418767798247, 0.0], [1.0, 0.0], [2.0, 0.0], [3.0, 0.0], [3.281478173278611, 0.0], [3.0, -0.30631401442257394], [2.0, -1.2578316477347278], [1.0, -0.7527787655852719]], [\"M\", \"L\", \"L\", \"L\", \"L\", \"L\", \"L\", \"L\", \"Z\"]], [[[6.991999175022087, 0.0], [7.0, 0.0], [7.2934792564632795, 0.0], [7.0, -0.006797870023056053]], [\"M\", \"L\", \"L\", \"L\", \"Z\"]], [[[12.04182546518904, 0.0], [13.0, 0.0], [14.0, 0.0], [15.0, 0.0], [15.076708936938305, 0.0], [15.0, -0.13271435056288083], [14.0, -0.9929517206894625], [13.0, -1.4706642861335801]], [\"M\", \"L\", \"L\", \"L\", \"L\", \"L\", \"L\", \"L\", \"Z\"]], [[[16.765237276181455, 0.0], [17.0, 0.0], [18.0, 0.0], [18.516522525300783, 0.0], [18.0, -0.1285370572887173], [17.0, -0.49005359153530137]], [\"M\", \"L\", \"L\", \"L\", \"L\", \"L\", \"Z\"]], [[[22.559876785126228, 0.0], [23.0, 0.0], [24.0, 0.0], [24.368898623389263, 0.0], [24.0, -1.536207395937432], [23.0, -1.0908214063854598]], [\"M\", \"L\", \"L\", \"L\", \"L\", \"L\", \"Z\"]], [[[26.641781872508826, 0.0], [27.0, 0.0], [27.901582944807856, 0.0], [27.0, -0.5265713255148293]], [\"M\", \"L\", \"L\", \"L\", \"Z\"]], [[[29.09724381857177, 0.0], [30.0, 0.0], [30.176660429229077, 0.0], [30.0, -0.08176680015260554]], [\"M\", \"L\", \"L\", \"L\", \"Z\"]], [[[33.52125608809718, 0.0], [34.0, 0.0], [34.790935675271406, 0.0], [34.0, -0.9465867576255118]], [\"M\", \"L\", \"L\", \"L\", \"Z\"]], [[[37.55364579068516, 0.0], [38.0, 0.0], [39.0, 0.0], [39.85420075010011, 0.0], [39.0, -0.959717274236538], [38.0, -0.9058417285486503]], [\"M\", \"L\", \"L\", \"L\", \"L\", \"L\", \"Z\"]], [[[41.161481830014395, 0.0], [42.0, 0.0], [42.468767087906464, 0.0], [42.0, -0.48304966122700554]], [\"M\", \"L\", \"L\", \"L\", \"Z\"]], [[[43.65826100793128, 0.0], [44.0, 0.0], [45.0, 0.0], [46.0, 0.0], [46.811678654507, 0.0], [46.0, -0.9062411806891009], [45.0, -0.1697953726908923], [44.0, -0.28419474739409445]], [\"M\", \"L\", \"L\", \"L\", \"L\", \"L\", \"L\", \"L\", \"Z\"]], [[[48.74236568385579, 0.0], [49.0, 0.0], [49.67760206803512, 0.0], [49.0, -0.4334262594163583]], [\"M\", \"L\", \"L\", \"L\", \"Z\"]], [[[50.591599140479005, 0.0], [51.0, 0.0], [52.0, 0.0], [52.52831999570406, 0.0], [52.0, -1.2009506160539762], [51.0, -0.14236127123322367]], [\"M\", \"L\", \"L\", \"L\", \"L\", \"L\", \"Z\"]], [[[53.493060600217554, 0.0], [54.0, 0.0], [54.39176127121026, 0.0], [54.0, -1.1023799691215324]], [\"M\", \"L\", \"L\", \"L\", \"Z\"]], [[[56.530186376923815, 0.0], [57.0, 0.0], [58.0, 0.0], [58.27467076425809, 0.0], [58.0, -0.41566348879156195], [57.0, -0.25631662197658195]], [\"M\", \"L\", \"L\", \"L\", \"L\", \"L\", \"Z\"]], [[[61.73633660930044, 0.0], [62.0, 0.0], [63.0, 0.0], [64.0, 0.0], [65.0, 0.0], [66.0, 0.0], [66.68411847774507, 0.0], [66.0, -1.229260523729052], [65.0, -0.03193023384829847], [64.0, -0.23839879493052718], [63.0, -1.0779334700317658], [62.0, -0.07267170434285684]], [\"M\", \"L\", \"L\", \"L\", \"L\", \"L\", \"L\", \"L\", \"L\", \"L\", \"L\", \"L\", \"Z\"]], [[[69.99935695509485, 0.0], [70.0, 0.0], [71.0, 0.0], [71.40027509585985, 0.0], [71.0, -0.4241793670197692], [70.0, -0.0013666036836216752]], [\"M\", \"L\", \"L\", \"L\", \"L\", \"L\", \"Z\"]], [[[72.40146664610947, 0.0], [73.0, 0.0], [74.0, 0.0], [74.12175443001655, 0.0], [74.0, -0.11218052669987479], [73.0, -0.9475059377165804]], [\"M\", \"L\", \"L\", \"L\", \"L\", \"L\", \"Z\"]], [[[75.55776516749503, 0.0], [76.0, 0.0], [77.0, 0.0], [78.0, 0.0], [79.0, 0.0], [79.09314649372394, 0.0], [79.0, -0.039136943763725084], [78.0, -0.4275249518816976], [77.0, -0.3518241463920487], [76.0, -0.6415791299900666]], [\"M\", \"L\", \"L\", \"L\", \"L\", \"L\", \"L\", \"L\", \"L\", \"L\", \"Z\"]], [[[81.33624553923492, 0.0], [82.0, 0.0], [83.0, 0.0], [84.0, 0.0], [85.0, 0.0], [86.0, 0.0], [87.0, 0.0], [87.680574553703, 0.0], [87.0, -0.6064217186788474], [86.0, -1.3081348982038383], [85.0, -0.40411449963457824], [84.0, -0.8101207744589982], [83.0, -1.5209835218471952], [82.0, -1.4717550208535977]], [\"M\", \"L\", \"L\", \"L\", \"L\", \"L\", \"L\", \"L\", \"L\", \"L\", \"L\", \"L\", \"L\", \"L\", \"Z\"]], [[[89.3360832937324, 0.0], [90.0, 0.0], [90.66481552753098, 0.0], [90.0, -2.015267063861783]], [\"M\", \"L\", \"L\", \"L\", \"Z\"]], [[[91.36475609906319, 0.0], [92.0, 0.0], [92.84199103229582, 0.0], [92.0, -1.769511078396139]], [\"M\", \"L\", \"L\", \"L\", \"Z\"]], [[[94.58119094525077, 0.0], [95.0, 0.0], [96.0, 0.0], [96.84535235044794, 0.0], [96.0, -1.1094788475398947], [95.0, -0.9371996658187339]], [\"M\", \"L\", \"L\", \"L\", \"L\", \"L\", \"Z\"]], [[[98.73047902435445, 0.0], [99.0, 0.0], [99.0, 0.0], [99.0, -0.1975303608711482]], [\"M\", \"L\", \"L\", \"L\", \"Z\"]]], \"edgecolors\": [\"#0000FF\"], \"edgewidths\": [1.0], \"offsets\": \"data01\", \"yindex\": 0, \"id\": \"el6634463560400\", \"pathtransforms\": [], \"pathcoordinates\": \"data\", \"offsetcoordinates\": \"display\", \"zorder\": 1, \"xindex\": 0, \"alphas\": [null], \"facecolors\": [\"#0000FF\"]}], \"xscale\": \"linear\", \"bbox\": [0.125, 0.125, 0.77500000000000002, 0.77500000000000002]}], \"height\": 160.0, \"width\": 320.0, \"plugins\": [{\"type\": \"reset\"}, {\"enabled\": false, \"button\": true, \"type\": \"zoom\"}, {\"enabled\": false, \"button\": true, \"type\": \"boxzoom\"}], \"data\": {\"data01\": [[0.0, 0.0]]}, \"id\": \"el6634423555984\"});\n",
        "      });\n",
        "    });\n",
        "}else{\n",
        "    // require.js not available: dynamically load d3 & mpld3\n",
        "    mpld3_load_lib(\"https://mpld3.github.io/js/d3.v3.min.js\", function(){\n",
        "         mpld3_load_lib(\"https://mpld3.github.io/js/mpld3.v0.2.js\", function(){\n",
        "                 \n",
        "                 mpld3.draw_figure(\"fig_el66344235559849882101887\", {\"axes\": [{\"xlim\": [0.0, 100.0], \"yscale\": \"linear\", \"axesbg\": \"#FFFFFF\", \"texts\": [], \"zoomable\": true, \"images\": [], \"xdomain\": [0.0, 100.0], \"ylim\": [-3.0, 3.0], \"paths\": [], \"sharey\": [], \"sharex\": [], \"axesbgalpha\": null, \"axes\": [{\"scale\": \"linear\", \"tickformat\": null, \"grid\": {\"color\": \"#CCCCCC\", \"alpha\": 1.0, \"dasharray\": \"2,2\", \"gridOn\": true}, \"fontsize\": 10.0, \"position\": \"bottom\", \"nticks\": 6, \"tickvalues\": null}, {\"scale\": \"linear\", \"tickformat\": null, \"grid\": {\"color\": \"#CCCCCC\", \"alpha\": 1.0, \"dasharray\": \"2,2\", \"gridOn\": true}, \"fontsize\": 10.0, \"position\": \"left\", \"nticks\": 7, \"tickvalues\": null}], \"lines\": [], \"markers\": [], \"id\": \"el6634463514256\", \"ydomain\": [-3.0, 3.0], \"collections\": [{\"paths\": [[[[0.0, 0.0], [0.0, 0.0], [0.1417418767798247, 0.0], [0.0, 0.12432189355076287]], [\"M\", \"L\", \"L\", \"L\", \"Z\"]], [[[3.281478173278611, 0.0], [4.0, 0.0], [5.0, 0.0], [6.0, 0.0], [6.991999175022087, 0.0], [6.0, 0.8428482654470376], [5.0, 0.06736633801437335], [4.0, 0.7819196161096963]], [\"M\", \"L\", \"L\", \"L\", \"L\", \"L\", \"L\", \"L\", \"Z\"]], [[[7.2934792564632795, 0.0], [8.0, 0.0], [9.0, 0.0], [10.0, 0.0], [11.0, 0.0], [12.0, 0.0], [12.04182546518904, 0.0], [12.0, 0.06419625618268021], [11.0, 0.958141463335931], [10.0, 0.44308192678232006], [9.0, 0.5444819085723895], [8.0, 0.016365164069973966]], [\"M\", \"L\", \"L\", \"L\", \"L\", \"L\", \"L\", \"L\", \"L\", \"L\", \"L\", \"L\", \"Z\"]], [[[15.076708936938305, 0.0], [16.0, 0.0], [16.765237276181455, 0.0], [16.0, 1.5973885013332259]], [\"M\", \"L\", \"L\", \"L\", \"Z\"]], [[[18.516522525300783, 0.0], [19.0, 0.0], [20.0, 0.0], [21.0, 0.0], [22.0, 0.0], [22.559876785126228, 0.0], [22.0, 1.3876241050568412], [21.0, 0.5972976254748109], [20.0, 0.06354063703989027], [19.0, 0.12031376913722974]], [\"M\", \"L\", \"L\", \"L\", \"L\", \"L\", \"L\", \"L\", \"L\", \"L\", \"Z\"]], [[[24.368898623389263, 0.0], [25.0, 0.0], [26.0, 0.0], [26.641781872508826, 0.0], [26.0, 0.9434026515218386], [25.0, 2.628100352959789]], [\"M\", \"L\", \"L\", \"L\", \"L\", \"L\", \"Z\"]], [[[27.901582944807856, 0.0], [28.0, 0.0], [29.0, 0.0], [29.09724381857177, 0.0], [29.0, 0.00880782213715159], [28.0, 0.05748067829392829]], [\"M\", \"L\", \"L\", \"L\", \"L\", \"L\", \"Z\"]], [[[30.176660429229077, 0.0], [31.0, 0.0], [32.0, 0.0], [33.0, 0.0], [33.52125608809718, 0.0], [33.0, 1.0306431017855548], [32.0, 0.22807236984338033], [31.0, 0.38108048550963813]], [\"M\", \"L\", \"L\", \"L\", \"L\", \"L\", \"L\", \"L\", \"Z\"]], [[[34.790935675271406, 0.0], [35.0, 0.0], [36.0, 0.0], [37.0, 0.0], [37.55364579068516, 0.0], [37.0, 1.1235817867781834], [36.0, 0.712281030205534], [35.0, 0.25020684673516336]], [\"M\", \"L\", \"L\", \"L\", \"L\", \"L\", \"L\", \"L\", \"Z\"]], [[[39.85420075010011, 0.0], [40.0, 0.0], [41.0, 0.0], [41.161481830014395, 0.0], [41.0, 0.0930257042421745], [40.0, 0.1638093371883068]], [\"M\", \"L\", \"L\", \"L\", \"L\", \"L\", \"Z\"]], [[[42.468767087906464, 0.0], [43.0, 0.0], [43.65826100793128, 0.0], [43.0, 0.5474187178230814]], [\"M\", \"L\", \"L\", \"L\", \"Z\"]], [[[46.811678654507, 0.0], [47.0, 0.0], [48.0, 0.0], [48.74236568385579, 0.0], [48.0, 1.2489049839640813], [47.0, 0.21026123767193874]], [\"M\", \"L\", \"L\", \"L\", \"L\", \"L\", \"Z\"]], [[[49.67760206803512, 0.0], [50.0, 0.0], [50.591599140479005, 0.0], [50.0, 0.20622093155693608]], [\"M\", \"L\", \"L\", \"L\", \"Z\"]], [[[52.52831999570406, 0.0], [53.0, 0.0], [53.493060600217554, 0.0], [53.0, 1.072199417674239]], [\"M\", \"L\", \"L\", \"L\", \"Z\"]], [[[54.39176127121026, 0.0], [55.0, 0.0], [56.0, 0.0], [56.530186376923815, 0.0], [56.0, 0.28925423716178483], [55.0, 1.7115275049786598]], [\"M\", \"L\", \"L\", \"L\", \"L\", \"L\", \"Z\"]], [[[58.27467076425809, 0.0], [59.0, 0.0], [60.0, 0.0], [61.0, 0.0], [61.73633660930044, 0.0], [61.0, 0.20295133209781763], [60.0, 0.6376795226578744], [59.0, 1.0976518795706436]], [\"M\", \"L\", \"L\", \"L\", \"L\", \"L\", \"L\", \"L\", \"Z\"]], [[[66.68411847774507, 0.0], [67.0, 0.0], [68.0, 0.0], [69.0, 0.0], [69.99935695509485, 0.0], [69.0, 2.1238406294143464], [68.0, 2.1686865190225983], [67.0, 0.5675927461618949]], [\"M\", \"L\", \"L\", \"L\", \"L\", \"L\", \"L\", \"L\", \"Z\"]], [[[71.40027509585985, 0.0], [72.0, 0.0], [72.40146664610947, 0.0], [72.0, 0.6355402393388799]], [\"M\", \"L\", \"L\", \"L\", \"Z\"]], [[[74.12175443001655, 0.0], [75.0, 0.0], [75.55776516749503, 0.0], [75.0, 0.8091865782558136]], [\"M\", \"L\", \"L\", \"L\", \"Z\"]], [[[79.09314649372394, 0.0], [80.0, 0.0], [81.0, 0.0], [81.33624553923492, 0.0], [81.0, 0.7455634422979317], [80.0, 0.38102856326779494]], [\"M\", \"L\", \"L\", \"L\", \"L\", \"L\", \"Z\"]], [[[87.680574553703, 0.0], [88.0, 0.0], [89.0, 0.0], [89.3360832937324, 0.0], [89.0, 1.0201544654309471], [88.0, 0.2846220551139183]], [\"M\", \"L\", \"L\", \"L\", \"L\", \"L\", \"Z\"]], [[[90.66481552753098, 0.0], [91.0, 0.0], [91.36475609906319, 0.0], [91.0, 1.016050618121657]], [\"M\", \"L\", \"L\", \"L\", \"Z\"]], [[[92.84199103229582, 0.0], [93.0, 0.0], [94.0, 0.0], [94.58119094525077, 0.0], [94.0, 1.300573503579166], [93.0, 0.33206840466711185]], [\"M\", \"L\", \"L\", \"L\", \"L\", \"L\", \"Z\"]], [[[96.84535235044794, 0.0], [97.0, 0.0], [98.0, 0.0], [98.73047902435445, 0.0], [98.0, 0.5353638429956596], [97.0, 0.20296660429092314]], [\"M\", \"L\", \"L\", \"L\", \"L\", \"L\", \"Z\"]]], \"edgecolors\": [\"#FF0000\"], \"edgewidths\": [1.0], \"offsets\": \"data01\", \"yindex\": 1, \"id\": \"el6634463560528\", \"pathtransforms\": [], \"pathcoordinates\": \"data\", \"offsetcoordinates\": \"display\", \"zorder\": 1, \"xindex\": 0, \"alphas\": [null], \"facecolors\": [\"#FF0000\"]}, {\"paths\": [[[[0.1417418767798247, 0.0], [1.0, 0.0], [2.0, 0.0], [3.0, 0.0], [3.281478173278611, 0.0], [3.0, -0.30631401442257394], [2.0, -1.2578316477347278], [1.0, -0.7527787655852719]], [\"M\", \"L\", \"L\", \"L\", \"L\", \"L\", \"L\", \"L\", \"Z\"]], [[[6.991999175022087, 0.0], [7.0, 0.0], [7.2934792564632795, 0.0], [7.0, -0.006797870023056053]], [\"M\", \"L\", \"L\", \"L\", \"Z\"]], [[[12.04182546518904, 0.0], [13.0, 0.0], [14.0, 0.0], [15.0, 0.0], [15.076708936938305, 0.0], [15.0, -0.13271435056288083], [14.0, -0.9929517206894625], [13.0, -1.4706642861335801]], [\"M\", \"L\", \"L\", \"L\", \"L\", \"L\", \"L\", \"L\", \"Z\"]], [[[16.765237276181455, 0.0], [17.0, 0.0], [18.0, 0.0], [18.516522525300783, 0.0], [18.0, -0.1285370572887173], [17.0, -0.49005359153530137]], [\"M\", \"L\", \"L\", \"L\", \"L\", \"L\", \"Z\"]], [[[22.559876785126228, 0.0], [23.0, 0.0], [24.0, 0.0], [24.368898623389263, 0.0], [24.0, -1.536207395937432], [23.0, -1.0908214063854598]], [\"M\", \"L\", \"L\", \"L\", \"L\", \"L\", \"Z\"]], [[[26.641781872508826, 0.0], [27.0, 0.0], [27.901582944807856, 0.0], [27.0, -0.5265713255148293]], [\"M\", \"L\", \"L\", \"L\", \"Z\"]], [[[29.09724381857177, 0.0], [30.0, 0.0], [30.176660429229077, 0.0], [30.0, -0.08176680015260554]], [\"M\", \"L\", \"L\", \"L\", \"Z\"]], [[[33.52125608809718, 0.0], [34.0, 0.0], [34.790935675271406, 0.0], [34.0, -0.9465867576255118]], [\"M\", \"L\", \"L\", \"L\", \"Z\"]], [[[37.55364579068516, 0.0], [38.0, 0.0], [39.0, 0.0], [39.85420075010011, 0.0], [39.0, -0.959717274236538], [38.0, -0.9058417285486503]], [\"M\", \"L\", \"L\", \"L\", \"L\", \"L\", \"Z\"]], [[[41.161481830014395, 0.0], [42.0, 0.0], [42.468767087906464, 0.0], [42.0, -0.48304966122700554]], [\"M\", \"L\", \"L\", \"L\", \"Z\"]], [[[43.65826100793128, 0.0], [44.0, 0.0], [45.0, 0.0], [46.0, 0.0], [46.811678654507, 0.0], [46.0, -0.9062411806891009], [45.0, -0.1697953726908923], [44.0, -0.28419474739409445]], [\"M\", \"L\", \"L\", \"L\", \"L\", \"L\", \"L\", \"L\", \"Z\"]], [[[48.74236568385579, 0.0], [49.0, 0.0], [49.67760206803512, 0.0], [49.0, -0.4334262594163583]], [\"M\", \"L\", \"L\", \"L\", \"Z\"]], [[[50.591599140479005, 0.0], [51.0, 0.0], [52.0, 0.0], [52.52831999570406, 0.0], [52.0, -1.2009506160539762], [51.0, -0.14236127123322367]], [\"M\", \"L\", \"L\", \"L\", \"L\", \"L\", \"Z\"]], [[[53.493060600217554, 0.0], [54.0, 0.0], [54.39176127121026, 0.0], [54.0, -1.1023799691215324]], [\"M\", \"L\", \"L\", \"L\", \"Z\"]], [[[56.530186376923815, 0.0], [57.0, 0.0], [58.0, 0.0], [58.27467076425809, 0.0], [58.0, -0.41566348879156195], [57.0, -0.25631662197658195]], [\"M\", \"L\", \"L\", \"L\", \"L\", \"L\", \"Z\"]], [[[61.73633660930044, 0.0], [62.0, 0.0], [63.0, 0.0], [64.0, 0.0], [65.0, 0.0], [66.0, 0.0], [66.68411847774507, 0.0], [66.0, -1.229260523729052], [65.0, -0.03193023384829847], [64.0, -0.23839879493052718], [63.0, -1.0779334700317658], [62.0, -0.07267170434285684]], [\"M\", \"L\", \"L\", \"L\", \"L\", \"L\", \"L\", \"L\", \"L\", \"L\", \"L\", \"L\", \"Z\"]], [[[69.99935695509485, 0.0], [70.0, 0.0], [71.0, 0.0], [71.40027509585985, 0.0], [71.0, -0.4241793670197692], [70.0, -0.0013666036836216752]], [\"M\", \"L\", \"L\", \"L\", \"L\", \"L\", \"Z\"]], [[[72.40146664610947, 0.0], [73.0, 0.0], [74.0, 0.0], [74.12175443001655, 0.0], [74.0, -0.11218052669987479], [73.0, -0.9475059377165804]], [\"M\", \"L\", \"L\", \"L\", \"L\", \"L\", \"Z\"]], [[[75.55776516749503, 0.0], [76.0, 0.0], [77.0, 0.0], [78.0, 0.0], [79.0, 0.0], [79.09314649372394, 0.0], [79.0, -0.039136943763725084], [78.0, -0.4275249518816976], [77.0, -0.3518241463920487], [76.0, -0.6415791299900666]], [\"M\", \"L\", \"L\", \"L\", \"L\", \"L\", \"L\", \"L\", \"L\", \"L\", \"Z\"]], [[[81.33624553923492, 0.0], [82.0, 0.0], [83.0, 0.0], [84.0, 0.0], [85.0, 0.0], [86.0, 0.0], [87.0, 0.0], [87.680574553703, 0.0], [87.0, -0.6064217186788474], [86.0, -1.3081348982038383], [85.0, -0.40411449963457824], [84.0, -0.8101207744589982], [83.0, -1.5209835218471952], [82.0, -1.4717550208535977]], [\"M\", \"L\", \"L\", \"L\", \"L\", \"L\", \"L\", \"L\", \"L\", \"L\", \"L\", \"L\", \"L\", \"L\", \"Z\"]], [[[89.3360832937324, 0.0], [90.0, 0.0], [90.66481552753098, 0.0], [90.0, -2.015267063861783]], [\"M\", \"L\", \"L\", \"L\", \"Z\"]], [[[91.36475609906319, 0.0], [92.0, 0.0], [92.84199103229582, 0.0], [92.0, -1.769511078396139]], [\"M\", \"L\", \"L\", \"L\", \"Z\"]], [[[94.58119094525077, 0.0], [95.0, 0.0], [96.0, 0.0], [96.84535235044794, 0.0], [96.0, -1.1094788475398947], [95.0, -0.9371996658187339]], [\"M\", \"L\", \"L\", \"L\", \"L\", \"L\", \"Z\"]], [[[98.73047902435445, 0.0], [99.0, 0.0], [99.0, 0.0], [99.0, -0.1975303608711482]], [\"M\", \"L\", \"L\", \"L\", \"Z\"]]], \"edgecolors\": [\"#0000FF\"], \"edgewidths\": [1.0], \"offsets\": \"data01\", \"yindex\": 0, \"id\": \"el6634463560400\", \"pathtransforms\": [], \"pathcoordinates\": \"data\", \"offsetcoordinates\": \"display\", \"zorder\": 1, \"xindex\": 0, \"alphas\": [null], \"facecolors\": [\"#0000FF\"]}], \"xscale\": \"linear\", \"bbox\": [0.125, 0.125, 0.77500000000000002, 0.77500000000000002]}], \"height\": 160.0, \"width\": 320.0, \"plugins\": [{\"type\": \"reset\"}, {\"enabled\": false, \"button\": true, \"type\": \"zoom\"}, {\"enabled\": false, \"button\": true, \"type\": \"boxzoom\"}], \"data\": {\"data01\": [[0.0, 0.0]]}, \"id\": \"el6634423555984\"});\n",
        "            })\n",
        "         });\n",
        "}\n",
        "</script>"
       ],
       "metadata": {},
       "output_type": "display_data",
       "png": "[encoded data removed]",
       "text": [
        "<matplotlib.figure.Figure at 0x107aa1b90>"
       ]
      }
     ],
     "prompt_number": 28
    },
    {
     "cell_type": "code",
     "collapsed": false,
     "input": [
      "from map_notebook import * # local functions"
     ],
     "language": "python",
     "metadata": {},
     "outputs": [],
     "prompt_number": 24
    },
    {
     "cell_type": "code",
     "collapsed": false,
     "input": [
      "map = folium.Map(location=[-13.8333, -171.7500], zoom_start=10, tiles='Mapbox', API_key='nicolasf.ic0ebom5')"
     ],
     "language": "python",
     "metadata": {},
     "outputs": [],
     "prompt_number": 25
    },
    {
     "cell_type": "code",
     "collapsed": false,
     "input": [
      "map.circle_marker(location=[-13.8333, -171.7500], popup=textpop, fill_color='#FF0000', line_color=None, radius=3000)\n",
      "map.circle_marker(location=[-13.9, -171.7400], popup=textpop, fill_color='#FF0000', line_color=None, radius=2000)"
     ],
     "language": "python",
     "metadata": {},
     "outputs": [],
     "prompt_number": 26
    },
    {
     "cell_type": "code",
     "collapsed": false,
     "input": [
      "inline_map(map)"
     ],
     "language": "python",
     "metadata": {},
     "outputs": [
      {
       "html": [
        "<iframe srcdoc=\"<!DOCTYPE html>\n",
        "<head>\n",
        "   <link rel=&quot;stylesheet&quot; href=&quot;http://cdn.leafletjs.com/leaflet-0.5/leaflet.css&quot; />\n",
        "   <script src=&quot;http://cdn.leafletjs.com/leaflet-0.5/leaflet.js&quot;></script>\n",
        "   \n",
        "   \n",
        "   \n",
        "   \n",
        "\n",
        "\n",
        "<style>\n",
        "\n",
        "#map {\n",
        "  position:absolute;\n",
        "  top:0;\n",
        "  bottom:0;\n",
        "  right:0;\n",
        "  left:0;\n",
        "}\n",
        "\n",
        "</style>\n",
        "</head>\n",
        "<body>\n",
        "\n",
        "        <div id=&quot;map&quot; style=&quot;width: 960px; height: 500px&quot;></div>\n",
        "\n",
        "<script>\n",
        "\n",
        "\n",
        "\n",
        "var map = L.map('map').setView([-13.8333, -171.75], 10);\n",
        "\n",
        "L.tileLayer('http://{s}.tiles.mapbox.com/v3/nicolasf.ic0ebom5/{z}/{x}/{y}.png', {\n",
        "    maxZoom: 18,\n",
        "    attribution: 'Map tiles by <a href=&quot;http://www.mapbox.com/m&quot;>Mapbox</a> Data by <a href=&quot;http://openstreetmap.org&quot;>OpenStreetMap</a>, under <a href=&quot;http://creativecommons.org/licenses/by-sa/3.0&quot;>CC BY SA</a>.'\n",
        "}).addTo(map);\n",
        "\n",
        "\n",
        "var circle_1 = L.circle([-13.8333, -171.75], 3000, {\n",
        "                            color: 'None',\n",
        "                            fillColor: '#FF0000',\n",
        "                            fillOpacity: 0.6\n",
        "                            });\n",
        "circle_1.bindPopup(&quot;<div align='center'> <img src='./figure.png' alt='imaginary temperature anomaly' width='320' height='160'> </div>&quot;);\n",
        "map.addLayer(circle_1)\n",
        "\n",
        "var circle_2 = L.circle([-13.9, -171.74], 2000, {\n",
        "                            color: 'None',\n",
        "                            fillColor: '#FF0000',\n",
        "                            fillOpacity: 0.6\n",
        "                            });\n",
        "circle_2.bindPopup(&quot;<div align='center'> <img src='./figure.png' alt='imaginary temperature anomaly' width='320' height='160'> </div>&quot;);\n",
        "map.addLayer(circle_2)\n",
        "\n",
        "\n",
        "\n",
        "\n",
        "\n",
        "\n",
        "</script>\n",
        "\n",
        "</body>\" style=\"width: 100%; height: 510px; border: none\"></iframe>"
       ],
       "metadata": {},
       "output_type": "pyout",
       "prompt_number": 27,
       "text": [
        "<IPython.core.display.HTML at 0x10794d090>"
       ]
      }
     ],
     "prompt_number": 27
    },
    {
     "cell_type": "code",
     "collapsed": false,
     "input": [],
     "language": "python",
     "metadata": {},
     "outputs": []
    }
   ],
   "metadata": {}
  }
 ]
}