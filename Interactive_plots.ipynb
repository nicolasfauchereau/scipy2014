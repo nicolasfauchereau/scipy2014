{
 "metadata": {
  "name": "",
  "signature": "sha256:d0029528302357097524eec91b986e416c5afc3ca90d75dd51eda50b5a52625b"
 },
 "nbformat": 3,
 "nbformat_minor": 0,
 "worksheets": [
  {
   "cells": [
    {
     "cell_type": "heading",
     "level": 1,
     "metadata": {},
     "source": [
      "Interactive visualisations in the browser with Python"
     ]
    },
    {
     "cell_type": "markdown",
     "metadata": {},
     "source": [
      "In the past few years, the python (scientific) ecosystem has seen intense development of solutions aimed at bringing interactive data visualisation in the browser, through a set of libraries which basically interface with powerful JavaScript visualisations libraries such as `D3.js`, `rickshaw.js`, `leaflet.js` etc. \n",
      "\n",
      "In this demo we will see: \n",
      "\n",
      "+ [MPLd3](http://mpld3.github.io/)\n",
      "+ [bokeh](http://bokeh.pydata.org/)\n",
      "+ [bearcart](https://github.com/wrobstory/bearcart)\n",
      "+ [folium](https://github.com/wrobstory/folium)"
     ]
    },
    {
     "cell_type": "code",
     "collapsed": false,
     "input": [
      "import os, sys\n",
      "import pandas as pd\n",
      "import numpy as np\n",
      "from numpy import ma\n",
      "import matplotlib.pyplot as plt"
     ],
     "language": "python",
     "metadata": {},
     "outputs": [],
     "prompt_number": 14
    },
    {
     "cell_type": "code",
     "collapsed": false,
     "input": [
      "%matplotlib inline"
     ],
     "language": "python",
     "metadata": {},
     "outputs": [],
     "prompt_number": 15
    },
    {
     "cell_type": "markdown",
     "metadata": {},
     "source": [
      "<hr size=6>"
     ]
    },
    {
     "cell_type": "heading",
     "level": 2,
     "metadata": {},
     "source": [
      "MPLD3"
     ]
    },
    {
     "cell_type": "markdown",
     "metadata": {},
     "source": [
      "[MPLd3](http://mpld3.github.io/) is developed by [Jake VanderPlas](http://www.astro.washington.edu/users/vanderplas/)  \n",
      "\n",
      "MPLD3 provides a simple API for exporting [matplotlib](http://matplotlib.org) graphics to HTML code which can be used within the browser, within standard web pages, blogs, or tools such as the IPython notebook."
     ]
    },
    {
     "cell_type": "code",
     "collapsed": false,
     "input": [
      "import mpld3\n",
      "from mpld3 import plugins\n",
      "mpld3.enable_notebook()"
     ],
     "language": "python",
     "metadata": {},
     "outputs": [],
     "prompt_number": 132
    },
    {
     "cell_type": "code",
     "collapsed": false,
     "input": [
      "xdf = pd.DataFrame(np.random.normal(size=(100)), columns=['A'])"
     ],
     "language": "python",
     "metadata": {},
     "outputs": [],
     "prompt_number": 133
    },
    {
     "cell_type": "code",
     "collapsed": false,
     "input": [
      "f, ax= plt.subplots(figsize=(8,4)); \n",
      "ax.plot(xdf.index, xdf['A'], lw=2, color='b');\n",
      "ax.set_xlim(40,80)\n",
      "ax.grid(color='0.8')"
     ],
     "language": "python",
     "metadata": {},
     "outputs": [
      {
       "html": [
        "\n",
        "\n",
        "<style>\n",
        "\n",
        "</style>\n",
        "\n",
        "<div id=\"fig_el33844309909287839239770\"></div>\n",
        "<script>\n",
        "function mpld3_load_lib(url, callback){\n",
        "  var s = document.createElement('script');\n",
        "  s.src = url;\n",
        "  s.async = true;\n",
        "  s.onreadystatechange = s.onload = callback;\n",
        "  s.onerror = function(){console.warn(\"failed to load library \" + url);};\n",
        "  document.getElementsByTagName(\"head\")[0].appendChild(s);\n",
        "}\n",
        "\n",
        "if(typeof(mpld3) !== \"undefined\" && mpld3._mpld3IsLoaded){\n",
        "   // already loaded: just create the figure\n",
        "   !function(mpld3){\n",
        "       \n",
        "       mpld3.draw_figure(\"fig_el33844309909287839239770\", {\"axes\": [{\"xlim\": [40.0, 80.0], \"yscale\": \"linear\", \"axesbg\": \"#FFFFFF\", \"texts\": [], \"zoomable\": true, \"images\": [], \"xdomain\": [40.0, 80.0], \"ylim\": [-3.0, 3.0], \"paths\": [], \"sharey\": [], \"sharex\": [], \"axesbgalpha\": null, \"axes\": [{\"scale\": \"linear\", \"tickformat\": null, \"grid\": {\"color\": \"#CCCCCC\", \"alpha\": 1.0, \"dasharray\": \"2,2\", \"gridOn\": true}, \"fontsize\": 10.0, \"position\": \"bottom\", \"nticks\": 9, \"tickvalues\": null}, {\"scale\": \"linear\", \"tickformat\": null, \"grid\": {\"color\": \"#CCCCCC\", \"alpha\": 1.0, \"dasharray\": \"2,2\", \"gridOn\": true}, \"fontsize\": 10.0, \"position\": \"left\", \"nticks\": 7, \"tickvalues\": null}], \"lines\": [{\"color\": \"#0000FF\", \"yindex\": 1, \"coordinates\": \"data\", \"dasharray\": \"10,0\", \"zorder\": 2, \"alpha\": 1, \"xindex\": 0, \"linewidth\": 2, \"data\": \"data01\", \"id\": \"el3384432922064\"}], \"markers\": [], \"id\": \"el3384430990032\", \"ydomain\": [-3.0, 3.0], \"collections\": [], \"xscale\": \"linear\", \"bbox\": [0.125, 0.125, 0.77500000000000002, 0.77500000000000002]}], \"height\": 320.0, \"width\": 640.0, \"plugins\": [{\"type\": \"reset\"}, {\"enabled\": false, \"button\": true, \"type\": \"zoom\"}, {\"enabled\": false, \"button\": true, \"type\": \"boxzoom\"}], \"data\": {\"data01\": [[0.0, 0.44907078622450697], [1.0, -0.9921264405516561], [2.0, 0.26787849182594836], [3.0, 2.3467579868990125], [4.0, -1.5956670277175382], [5.0, 1.4464214956162147], [6.0, 0.9931141534946006], [7.0, 0.996427652790569], [8.0, -0.8161769479467339], [9.0, -0.7604901401240599], [10.0, 0.0732574498357521], [11.0, -0.6851213954623604], [12.0, 0.11943463342575919], [13.0, 0.7902214360238747], [14.0, 0.5689516041317602], [15.0, 0.1443466099103401], [16.0, -0.8745595575885718], [17.0, -0.27175805383227364], [18.0, -1.3192511550390085], [19.0, -1.0182089254142888], [20.0, -1.443068120539704], [21.0, -0.04969515159897952], [22.0, -0.07170959247345779], [23.0, -1.0495839422087052], [24.0, 2.4004539186295193], [25.0, -0.14973278023401068], [26.0, -1.2695415241698569], [27.0, -0.6044574884569395], [28.0, 0.6724821806666416], [29.0, 0.01457693418869614], [30.0, -1.10256579637455], [31.0, -0.6619968307570946], [32.0, 1.1060162712871247], [33.0, -1.677221440339461], [34.0, -0.8334867611464662], [35.0, -0.041865393002394155], [36.0, 0.3323964884358932], [37.0, -0.36918556686071247], [38.0, 2.2514209653539625], [39.0, 0.7455619205724447], [40.0, 0.6350467039882371], [41.0, 2.5576056479715295], [42.0, 1.990078872462924], [43.0, 0.9378582613890752], [44.0, 1.8776640492784016], [45.0, -2.6332852621162623], [46.0, -0.7245330070678192], [47.0, -0.3864123308463711], [48.0, -1.03580745836127], [49.0, 0.9071757676203386], [50.0, 1.5694886978288927], [51.0, -1.3062024066379325], [52.0, 0.13290733168130006], [53.0, 1.5646422530702688], [54.0, 1.078302849682979], [55.0, -0.0193751002860105], [56.0, 2.0510434719092236], [57.0, 1.1256113560518046], [58.0, 0.49986473806655624], [59.0, -0.7168667647629703], [60.0, -0.622546090093498], [61.0, -1.2460711432920064], [62.0, 1.8934792118255745], [63.0, 0.58329701576622], [64.0, 0.7413762510106013], [65.0, -0.477248308263028], [66.0, 0.7283910494745969], [67.0, 0.8410447746749018], [68.0, 0.040061693598687276], [69.0, 0.7261422550574129], [70.0, -2.585433410731293], [71.0, 1.1229108459648616], [72.0, 0.4024532084685683], [73.0, 1.025396637981767], [74.0, 0.09439234218796436], [75.0, 0.5126477161748365], [76.0, -0.532439163188407], [77.0, 0.6119511663972682], [78.0, 0.26915962084313133], [79.0, -0.6338549618986631], [80.0, -0.7394411967659515], [81.0, 0.8063918949902212], [82.0, -0.272774403102693], [83.0, -1.5694623570406234], [84.0, 0.6207231948619552], [85.0, -0.6396705674194062], [86.0, -1.4107631986815767], [87.0, -0.24028210724414206], [88.0, 1.725251021487705], [89.0, -1.0106198123829617], [90.0, -1.076537296888362], [91.0, 0.0914323286810725], [92.0, -0.5310766861139391], [93.0, 0.23314750482409272], [94.0, -0.7732894936217898], [95.0, -0.6551976241031058], [96.0, 1.5766629880746132], [97.0, 1.1243140243483167], [98.0, 0.5704451540534482], [99.0, -1.1547689727840296]]}, \"id\": \"el3384430990928\"});\n",
        "   }(mpld3);\n",
        "}else if(typeof define === \"function\" && define.amd){\n",
        "   // require.js is available: use it to load d3/mpld3\n",
        "   require.config({paths: {d3: \"https://mpld3.github.io/js/d3.v3.min\"}});\n",
        "   require([\"d3\"], function(d3){\n",
        "      window.d3 = d3;\n",
        "      mpld3_load_lib(\"https://mpld3.github.io/js/mpld3.v0.2.js\", function(){\n",
        "         \n",
        "         mpld3.draw_figure(\"fig_el33844309909287839239770\", {\"axes\": [{\"xlim\": [40.0, 80.0], \"yscale\": \"linear\", \"axesbg\": \"#FFFFFF\", \"texts\": [], \"zoomable\": true, \"images\": [], \"xdomain\": [40.0, 80.0], \"ylim\": [-3.0, 3.0], \"paths\": [], \"sharey\": [], \"sharex\": [], \"axesbgalpha\": null, \"axes\": [{\"scale\": \"linear\", \"tickformat\": null, \"grid\": {\"color\": \"#CCCCCC\", \"alpha\": 1.0, \"dasharray\": \"2,2\", \"gridOn\": true}, \"fontsize\": 10.0, \"position\": \"bottom\", \"nticks\": 9, \"tickvalues\": null}, {\"scale\": \"linear\", \"tickformat\": null, \"grid\": {\"color\": \"#CCCCCC\", \"alpha\": 1.0, \"dasharray\": \"2,2\", \"gridOn\": true}, \"fontsize\": 10.0, \"position\": \"left\", \"nticks\": 7, \"tickvalues\": null}], \"lines\": [{\"color\": \"#0000FF\", \"yindex\": 1, \"coordinates\": \"data\", \"dasharray\": \"10,0\", \"zorder\": 2, \"alpha\": 1, \"xindex\": 0, \"linewidth\": 2, \"data\": \"data01\", \"id\": \"el3384432922064\"}], \"markers\": [], \"id\": \"el3384430990032\", \"ydomain\": [-3.0, 3.0], \"collections\": [], \"xscale\": \"linear\", \"bbox\": [0.125, 0.125, 0.77500000000000002, 0.77500000000000002]}], \"height\": 320.0, \"width\": 640.0, \"plugins\": [{\"type\": \"reset\"}, {\"enabled\": false, \"button\": true, \"type\": \"zoom\"}, {\"enabled\": false, \"button\": true, \"type\": \"boxzoom\"}], \"data\": {\"data01\": [[0.0, 0.44907078622450697], [1.0, -0.9921264405516561], [2.0, 0.26787849182594836], [3.0, 2.3467579868990125], [4.0, -1.5956670277175382], [5.0, 1.4464214956162147], [6.0, 0.9931141534946006], [7.0, 0.996427652790569], [8.0, -0.8161769479467339], [9.0, -0.7604901401240599], [10.0, 0.0732574498357521], [11.0, -0.6851213954623604], [12.0, 0.11943463342575919], [13.0, 0.7902214360238747], [14.0, 0.5689516041317602], [15.0, 0.1443466099103401], [16.0, -0.8745595575885718], [17.0, -0.27175805383227364], [18.0, -1.3192511550390085], [19.0, -1.0182089254142888], [20.0, -1.443068120539704], [21.0, -0.04969515159897952], [22.0, -0.07170959247345779], [23.0, -1.0495839422087052], [24.0, 2.4004539186295193], [25.0, -0.14973278023401068], [26.0, -1.2695415241698569], [27.0, -0.6044574884569395], [28.0, 0.6724821806666416], [29.0, 0.01457693418869614], [30.0, -1.10256579637455], [31.0, -0.6619968307570946], [32.0, 1.1060162712871247], [33.0, -1.677221440339461], [34.0, -0.8334867611464662], [35.0, -0.041865393002394155], [36.0, 0.3323964884358932], [37.0, -0.36918556686071247], [38.0, 2.2514209653539625], [39.0, 0.7455619205724447], [40.0, 0.6350467039882371], [41.0, 2.5576056479715295], [42.0, 1.990078872462924], [43.0, 0.9378582613890752], [44.0, 1.8776640492784016], [45.0, -2.6332852621162623], [46.0, -0.7245330070678192], [47.0, -0.3864123308463711], [48.0, -1.03580745836127], [49.0, 0.9071757676203386], [50.0, 1.5694886978288927], [51.0, -1.3062024066379325], [52.0, 0.13290733168130006], [53.0, 1.5646422530702688], [54.0, 1.078302849682979], [55.0, -0.0193751002860105], [56.0, 2.0510434719092236], [57.0, 1.1256113560518046], [58.0, 0.49986473806655624], [59.0, -0.7168667647629703], [60.0, -0.622546090093498], [61.0, -1.2460711432920064], [62.0, 1.8934792118255745], [63.0, 0.58329701576622], [64.0, 0.7413762510106013], [65.0, -0.477248308263028], [66.0, 0.7283910494745969], [67.0, 0.8410447746749018], [68.0, 0.040061693598687276], [69.0, 0.7261422550574129], [70.0, -2.585433410731293], [71.0, 1.1229108459648616], [72.0, 0.4024532084685683], [73.0, 1.025396637981767], [74.0, 0.09439234218796436], [75.0, 0.5126477161748365], [76.0, -0.532439163188407], [77.0, 0.6119511663972682], [78.0, 0.26915962084313133], [79.0, -0.6338549618986631], [80.0, -0.7394411967659515], [81.0, 0.8063918949902212], [82.0, -0.272774403102693], [83.0, -1.5694623570406234], [84.0, 0.6207231948619552], [85.0, -0.6396705674194062], [86.0, -1.4107631986815767], [87.0, -0.24028210724414206], [88.0, 1.725251021487705], [89.0, -1.0106198123829617], [90.0, -1.076537296888362], [91.0, 0.0914323286810725], [92.0, -0.5310766861139391], [93.0, 0.23314750482409272], [94.0, -0.7732894936217898], [95.0, -0.6551976241031058], [96.0, 1.5766629880746132], [97.0, 1.1243140243483167], [98.0, 0.5704451540534482], [99.0, -1.1547689727840296]]}, \"id\": \"el3384430990928\"});\n",
        "      });\n",
        "    });\n",
        "}else{\n",
        "    // require.js not available: dynamically load d3 & mpld3\n",
        "    mpld3_load_lib(\"https://mpld3.github.io/js/d3.v3.min.js\", function(){\n",
        "         mpld3_load_lib(\"https://mpld3.github.io/js/mpld3.v0.2.js\", function(){\n",
        "                 \n",
        "                 mpld3.draw_figure(\"fig_el33844309909287839239770\", {\"axes\": [{\"xlim\": [40.0, 80.0], \"yscale\": \"linear\", \"axesbg\": \"#FFFFFF\", \"texts\": [], \"zoomable\": true, \"images\": [], \"xdomain\": [40.0, 80.0], \"ylim\": [-3.0, 3.0], \"paths\": [], \"sharey\": [], \"sharex\": [], \"axesbgalpha\": null, \"axes\": [{\"scale\": \"linear\", \"tickformat\": null, \"grid\": {\"color\": \"#CCCCCC\", \"alpha\": 1.0, \"dasharray\": \"2,2\", \"gridOn\": true}, \"fontsize\": 10.0, \"position\": \"bottom\", \"nticks\": 9, \"tickvalues\": null}, {\"scale\": \"linear\", \"tickformat\": null, \"grid\": {\"color\": \"#CCCCCC\", \"alpha\": 1.0, \"dasharray\": \"2,2\", \"gridOn\": true}, \"fontsize\": 10.0, \"position\": \"left\", \"nticks\": 7, \"tickvalues\": null}], \"lines\": [{\"color\": \"#0000FF\", \"yindex\": 1, \"coordinates\": \"data\", \"dasharray\": \"10,0\", \"zorder\": 2, \"alpha\": 1, \"xindex\": 0, \"linewidth\": 2, \"data\": \"data01\", \"id\": \"el3384432922064\"}], \"markers\": [], \"id\": \"el3384430990032\", \"ydomain\": [-3.0, 3.0], \"collections\": [], \"xscale\": \"linear\", \"bbox\": [0.125, 0.125, 0.77500000000000002, 0.77500000000000002]}], \"height\": 320.0, \"width\": 640.0, \"plugins\": [{\"type\": \"reset\"}, {\"enabled\": false, \"button\": true, \"type\": \"zoom\"}, {\"enabled\": false, \"button\": true, \"type\": \"boxzoom\"}], \"data\": {\"data01\": [[0.0, 0.44907078622450697], [1.0, -0.9921264405516561], [2.0, 0.26787849182594836], [3.0, 2.3467579868990125], [4.0, -1.5956670277175382], [5.0, 1.4464214956162147], [6.0, 0.9931141534946006], [7.0, 0.996427652790569], [8.0, -0.8161769479467339], [9.0, -0.7604901401240599], [10.0, 0.0732574498357521], [11.0, -0.6851213954623604], [12.0, 0.11943463342575919], [13.0, 0.7902214360238747], [14.0, 0.5689516041317602], [15.0, 0.1443466099103401], [16.0, -0.8745595575885718], [17.0, -0.27175805383227364], [18.0, -1.3192511550390085], [19.0, -1.0182089254142888], [20.0, -1.443068120539704], [21.0, -0.04969515159897952], [22.0, -0.07170959247345779], [23.0, -1.0495839422087052], [24.0, 2.4004539186295193], [25.0, -0.14973278023401068], [26.0, -1.2695415241698569], [27.0, -0.6044574884569395], [28.0, 0.6724821806666416], [29.0, 0.01457693418869614], [30.0, -1.10256579637455], [31.0, -0.6619968307570946], [32.0, 1.1060162712871247], [33.0, -1.677221440339461], [34.0, -0.8334867611464662], [35.0, -0.041865393002394155], [36.0, 0.3323964884358932], [37.0, -0.36918556686071247], [38.0, 2.2514209653539625], [39.0, 0.7455619205724447], [40.0, 0.6350467039882371], [41.0, 2.5576056479715295], [42.0, 1.990078872462924], [43.0, 0.9378582613890752], [44.0, 1.8776640492784016], [45.0, -2.6332852621162623], [46.0, -0.7245330070678192], [47.0, -0.3864123308463711], [48.0, -1.03580745836127], [49.0, 0.9071757676203386], [50.0, 1.5694886978288927], [51.0, -1.3062024066379325], [52.0, 0.13290733168130006], [53.0, 1.5646422530702688], [54.0, 1.078302849682979], [55.0, -0.0193751002860105], [56.0, 2.0510434719092236], [57.0, 1.1256113560518046], [58.0, 0.49986473806655624], [59.0, -0.7168667647629703], [60.0, -0.622546090093498], [61.0, -1.2460711432920064], [62.0, 1.8934792118255745], [63.0, 0.58329701576622], [64.0, 0.7413762510106013], [65.0, -0.477248308263028], [66.0, 0.7283910494745969], [67.0, 0.8410447746749018], [68.0, 0.040061693598687276], [69.0, 0.7261422550574129], [70.0, -2.585433410731293], [71.0, 1.1229108459648616], [72.0, 0.4024532084685683], [73.0, 1.025396637981767], [74.0, 0.09439234218796436], [75.0, 0.5126477161748365], [76.0, -0.532439163188407], [77.0, 0.6119511663972682], [78.0, 0.26915962084313133], [79.0, -0.6338549618986631], [80.0, -0.7394411967659515], [81.0, 0.8063918949902212], [82.0, -0.272774403102693], [83.0, -1.5694623570406234], [84.0, 0.6207231948619552], [85.0, -0.6396705674194062], [86.0, -1.4107631986815767], [87.0, -0.24028210724414206], [88.0, 1.725251021487705], [89.0, -1.0106198123829617], [90.0, -1.076537296888362], [91.0, 0.0914323286810725], [92.0, -0.5310766861139391], [93.0, 0.23314750482409272], [94.0, -0.7732894936217898], [95.0, -0.6551976241031058], [96.0, 1.5766629880746132], [97.0, 1.1243140243483167], [98.0, 0.5704451540534482], [99.0, -1.1547689727840296]]}, \"id\": \"el3384430990928\"});\n",
        "            })\n",
        "         });\n",
        "}\n",
        "</script>"
       ],
       "metadata": {},
       "output_type": "display_data",
       "png": "[encoded data removed]",
       "text": [
        "<matplotlib.figure.Figure at 0x1081b8e50>"
       ]
      }
     ],
     "prompt_number": 134
    },
    {
     "cell_type": "heading",
     "level": 3,
     "metadata": {},
     "source": [
      "you can connect ```plugins``` to the figure"
     ]
    },
    {
     "cell_type": "code",
     "collapsed": false,
     "input": [
      "f, ax= plt.subplots(figsize=(8,4)); \n",
      "plt.plot(xdf.index, xdf['A'], lw=2, color='b');\n",
      "ax.set_xlim(40,80)\n",
      "ax.grid(color='0.8')\n",
      "plugins.connect(f, plugins.MousePosition(fontsize=16))"
     ],
     "language": "python",
     "metadata": {},
     "outputs": [
      {
       "html": [
        "\n",
        "\n",
        "<style>\n",
        "\n",
        "</style>\n",
        "\n",
        "<div id=\"fig_el33844285470881195686491\"></div>\n",
        "<script>\n",
        "function mpld3_load_lib(url, callback){\n",
        "  var s = document.createElement('script');\n",
        "  s.src = url;\n",
        "  s.async = true;\n",
        "  s.onreadystatechange = s.onload = callback;\n",
        "  s.onerror = function(){console.warn(\"failed to load library \" + url);};\n",
        "  document.getElementsByTagName(\"head\")[0].appendChild(s);\n",
        "}\n",
        "\n",
        "if(typeof(mpld3) !== \"undefined\" && mpld3._mpld3IsLoaded){\n",
        "   // already loaded: just create the figure\n",
        "   !function(mpld3){\n",
        "       \n",
        "       mpld3.draw_figure(\"fig_el33844285470881195686491\", {\"axes\": [{\"xlim\": [40.0, 80.0], \"yscale\": \"linear\", \"axesbg\": \"#FFFFFF\", \"texts\": [], \"zoomable\": true, \"images\": [], \"xdomain\": [40.0, 80.0], \"ylim\": [-3.0, 3.0], \"paths\": [], \"sharey\": [], \"sharex\": [], \"axesbgalpha\": null, \"axes\": [{\"scale\": \"linear\", \"tickformat\": null, \"grid\": {\"color\": \"#CCCCCC\", \"alpha\": 1.0, \"dasharray\": \"2,2\", \"gridOn\": true}, \"fontsize\": 10.0, \"position\": \"bottom\", \"nticks\": 9, \"tickvalues\": null}, {\"scale\": \"linear\", \"tickformat\": null, \"grid\": {\"color\": \"#CCCCCC\", \"alpha\": 1.0, \"dasharray\": \"2,2\", \"gridOn\": true}, \"fontsize\": 10.0, \"position\": \"left\", \"nticks\": 7, \"tickvalues\": null}], \"lines\": [{\"color\": \"#0000FF\", \"yindex\": 1, \"coordinates\": \"data\", \"dasharray\": \"10,0\", \"zorder\": 2, \"alpha\": 1, \"xindex\": 0, \"linewidth\": 2, \"data\": \"data01\", \"id\": \"el3384434226640\"}], \"markers\": [], \"id\": \"el3384432674960\", \"ydomain\": [-3.0, 3.0], \"collections\": [], \"xscale\": \"linear\", \"bbox\": [0.125, 0.125, 0.77500000000000002, 0.77500000000000002]}], \"height\": 320.0, \"width\": 640.0, \"plugins\": [{\"type\": \"reset\"}, {\"enabled\": false, \"button\": true, \"type\": \"zoom\"}, {\"enabled\": false, \"button\": true, \"type\": \"boxzoom\"}, {\"fontsize\": 16, \"fmt\": \".3g\", \"type\": \"mouseposition\"}], \"data\": {\"data01\": [[0.0, 0.44907078622450697], [1.0, -0.9921264405516561], [2.0, 0.26787849182594836], [3.0, 2.3467579868990125], [4.0, -1.5956670277175382], [5.0, 1.4464214956162147], [6.0, 0.9931141534946006], [7.0, 0.996427652790569], [8.0, -0.8161769479467339], [9.0, -0.7604901401240599], [10.0, 0.0732574498357521], [11.0, -0.6851213954623604], [12.0, 0.11943463342575919], [13.0, 0.7902214360238747], [14.0, 0.5689516041317602], [15.0, 0.1443466099103401], [16.0, -0.8745595575885718], [17.0, -0.27175805383227364], [18.0, -1.3192511550390085], [19.0, -1.0182089254142888], [20.0, -1.443068120539704], [21.0, -0.04969515159897952], [22.0, -0.07170959247345779], [23.0, -1.0495839422087052], [24.0, 2.4004539186295193], [25.0, -0.14973278023401068], [26.0, -1.2695415241698569], [27.0, -0.6044574884569395], [28.0, 0.6724821806666416], [29.0, 0.01457693418869614], [30.0, -1.10256579637455], [31.0, -0.6619968307570946], [32.0, 1.1060162712871247], [33.0, -1.677221440339461], [34.0, -0.8334867611464662], [35.0, -0.041865393002394155], [36.0, 0.3323964884358932], [37.0, -0.36918556686071247], [38.0, 2.2514209653539625], [39.0, 0.7455619205724447], [40.0, 0.6350467039882371], [41.0, 2.5576056479715295], [42.0, 1.990078872462924], [43.0, 0.9378582613890752], [44.0, 1.8776640492784016], [45.0, -2.6332852621162623], [46.0, -0.7245330070678192], [47.0, -0.3864123308463711], [48.0, -1.03580745836127], [49.0, 0.9071757676203386], [50.0, 1.5694886978288927], [51.0, -1.3062024066379325], [52.0, 0.13290733168130006], [53.0, 1.5646422530702688], [54.0, 1.078302849682979], [55.0, -0.0193751002860105], [56.0, 2.0510434719092236], [57.0, 1.1256113560518046], [58.0, 0.49986473806655624], [59.0, -0.7168667647629703], [60.0, -0.622546090093498], [61.0, -1.2460711432920064], [62.0, 1.8934792118255745], [63.0, 0.58329701576622], [64.0, 0.7413762510106013], [65.0, -0.477248308263028], [66.0, 0.7283910494745969], [67.0, 0.8410447746749018], [68.0, 0.040061693598687276], [69.0, 0.7261422550574129], [70.0, -2.585433410731293], [71.0, 1.1229108459648616], [72.0, 0.4024532084685683], [73.0, 1.025396637981767], [74.0, 0.09439234218796436], [75.0, 0.5126477161748365], [76.0, -0.532439163188407], [77.0, 0.6119511663972682], [78.0, 0.26915962084313133], [79.0, -0.6338549618986631], [80.0, -0.7394411967659515], [81.0, 0.8063918949902212], [82.0, -0.272774403102693], [83.0, -1.5694623570406234], [84.0, 0.6207231948619552], [85.0, -0.6396705674194062], [86.0, -1.4107631986815767], [87.0, -0.24028210724414206], [88.0, 1.725251021487705], [89.0, -1.0106198123829617], [90.0, -1.076537296888362], [91.0, 0.0914323286810725], [92.0, -0.5310766861139391], [93.0, 0.23314750482409272], [94.0, -0.7732894936217898], [95.0, -0.6551976241031058], [96.0, 1.5766629880746132], [97.0, 1.1243140243483167], [98.0, 0.5704451540534482], [99.0, -1.1547689727840296]]}, \"id\": \"el3384428547088\"});\n",
        "   }(mpld3);\n",
        "}else if(typeof define === \"function\" && define.amd){\n",
        "   // require.js is available: use it to load d3/mpld3\n",
        "   require.config({paths: {d3: \"https://mpld3.github.io/js/d3.v3.min\"}});\n",
        "   require([\"d3\"], function(d3){\n",
        "      window.d3 = d3;\n",
        "      mpld3_load_lib(\"https://mpld3.github.io/js/mpld3.v0.2.js\", function(){\n",
        "         \n",
        "         mpld3.draw_figure(\"fig_el33844285470881195686491\", {\"axes\": [{\"xlim\": [40.0, 80.0], \"yscale\": \"linear\", \"axesbg\": \"#FFFFFF\", \"texts\": [], \"zoomable\": true, \"images\": [], \"xdomain\": [40.0, 80.0], \"ylim\": [-3.0, 3.0], \"paths\": [], \"sharey\": [], \"sharex\": [], \"axesbgalpha\": null, \"axes\": [{\"scale\": \"linear\", \"tickformat\": null, \"grid\": {\"color\": \"#CCCCCC\", \"alpha\": 1.0, \"dasharray\": \"2,2\", \"gridOn\": true}, \"fontsize\": 10.0, \"position\": \"bottom\", \"nticks\": 9, \"tickvalues\": null}, {\"scale\": \"linear\", \"tickformat\": null, \"grid\": {\"color\": \"#CCCCCC\", \"alpha\": 1.0, \"dasharray\": \"2,2\", \"gridOn\": true}, \"fontsize\": 10.0, \"position\": \"left\", \"nticks\": 7, \"tickvalues\": null}], \"lines\": [{\"color\": \"#0000FF\", \"yindex\": 1, \"coordinates\": \"data\", \"dasharray\": \"10,0\", \"zorder\": 2, \"alpha\": 1, \"xindex\": 0, \"linewidth\": 2, \"data\": \"data01\", \"id\": \"el3384434226640\"}], \"markers\": [], \"id\": \"el3384432674960\", \"ydomain\": [-3.0, 3.0], \"collections\": [], \"xscale\": \"linear\", \"bbox\": [0.125, 0.125, 0.77500000000000002, 0.77500000000000002]}], \"height\": 320.0, \"width\": 640.0, \"plugins\": [{\"type\": \"reset\"}, {\"enabled\": false, \"button\": true, \"type\": \"zoom\"}, {\"enabled\": false, \"button\": true, \"type\": \"boxzoom\"}, {\"fontsize\": 16, \"fmt\": \".3g\", \"type\": \"mouseposition\"}], \"data\": {\"data01\": [[0.0, 0.44907078622450697], [1.0, -0.9921264405516561], [2.0, 0.26787849182594836], [3.0, 2.3467579868990125], [4.0, -1.5956670277175382], [5.0, 1.4464214956162147], [6.0, 0.9931141534946006], [7.0, 0.996427652790569], [8.0, -0.8161769479467339], [9.0, -0.7604901401240599], [10.0, 0.0732574498357521], [11.0, -0.6851213954623604], [12.0, 0.11943463342575919], [13.0, 0.7902214360238747], [14.0, 0.5689516041317602], [15.0, 0.1443466099103401], [16.0, -0.8745595575885718], [17.0, -0.27175805383227364], [18.0, -1.3192511550390085], [19.0, -1.0182089254142888], [20.0, -1.443068120539704], [21.0, -0.04969515159897952], [22.0, -0.07170959247345779], [23.0, -1.0495839422087052], [24.0, 2.4004539186295193], [25.0, -0.14973278023401068], [26.0, -1.2695415241698569], [27.0, -0.6044574884569395], [28.0, 0.6724821806666416], [29.0, 0.01457693418869614], [30.0, -1.10256579637455], [31.0, -0.6619968307570946], [32.0, 1.1060162712871247], [33.0, -1.677221440339461], [34.0, -0.8334867611464662], [35.0, -0.041865393002394155], [36.0, 0.3323964884358932], [37.0, -0.36918556686071247], [38.0, 2.2514209653539625], [39.0, 0.7455619205724447], [40.0, 0.6350467039882371], [41.0, 2.5576056479715295], [42.0, 1.990078872462924], [43.0, 0.9378582613890752], [44.0, 1.8776640492784016], [45.0, -2.6332852621162623], [46.0, -0.7245330070678192], [47.0, -0.3864123308463711], [48.0, -1.03580745836127], [49.0, 0.9071757676203386], [50.0, 1.5694886978288927], [51.0, -1.3062024066379325], [52.0, 0.13290733168130006], [53.0, 1.5646422530702688], [54.0, 1.078302849682979], [55.0, -0.0193751002860105], [56.0, 2.0510434719092236], [57.0, 1.1256113560518046], [58.0, 0.49986473806655624], [59.0, -0.7168667647629703], [60.0, -0.622546090093498], [61.0, -1.2460711432920064], [62.0, 1.8934792118255745], [63.0, 0.58329701576622], [64.0, 0.7413762510106013], [65.0, -0.477248308263028], [66.0, 0.7283910494745969], [67.0, 0.8410447746749018], [68.0, 0.040061693598687276], [69.0, 0.7261422550574129], [70.0, -2.585433410731293], [71.0, 1.1229108459648616], [72.0, 0.4024532084685683], [73.0, 1.025396637981767], [74.0, 0.09439234218796436], [75.0, 0.5126477161748365], [76.0, -0.532439163188407], [77.0, 0.6119511663972682], [78.0, 0.26915962084313133], [79.0, -0.6338549618986631], [80.0, -0.7394411967659515], [81.0, 0.8063918949902212], [82.0, -0.272774403102693], [83.0, -1.5694623570406234], [84.0, 0.6207231948619552], [85.0, -0.6396705674194062], [86.0, -1.4107631986815767], [87.0, -0.24028210724414206], [88.0, 1.725251021487705], [89.0, -1.0106198123829617], [90.0, -1.076537296888362], [91.0, 0.0914323286810725], [92.0, -0.5310766861139391], [93.0, 0.23314750482409272], [94.0, -0.7732894936217898], [95.0, -0.6551976241031058], [96.0, 1.5766629880746132], [97.0, 1.1243140243483167], [98.0, 0.5704451540534482], [99.0, -1.1547689727840296]]}, \"id\": \"el3384428547088\"});\n",
        "      });\n",
        "    });\n",
        "}else{\n",
        "    // require.js not available: dynamically load d3 & mpld3\n",
        "    mpld3_load_lib(\"https://mpld3.github.io/js/d3.v3.min.js\", function(){\n",
        "         mpld3_load_lib(\"https://mpld3.github.io/js/mpld3.v0.2.js\", function(){\n",
        "                 \n",
        "                 mpld3.draw_figure(\"fig_el33844285470881195686491\", {\"axes\": [{\"xlim\": [40.0, 80.0], \"yscale\": \"linear\", \"axesbg\": \"#FFFFFF\", \"texts\": [], \"zoomable\": true, \"images\": [], \"xdomain\": [40.0, 80.0], \"ylim\": [-3.0, 3.0], \"paths\": [], \"sharey\": [], \"sharex\": [], \"axesbgalpha\": null, \"axes\": [{\"scale\": \"linear\", \"tickformat\": null, \"grid\": {\"color\": \"#CCCCCC\", \"alpha\": 1.0, \"dasharray\": \"2,2\", \"gridOn\": true}, \"fontsize\": 10.0, \"position\": \"bottom\", \"nticks\": 9, \"tickvalues\": null}, {\"scale\": \"linear\", \"tickformat\": null, \"grid\": {\"color\": \"#CCCCCC\", \"alpha\": 1.0, \"dasharray\": \"2,2\", \"gridOn\": true}, \"fontsize\": 10.0, \"position\": \"left\", \"nticks\": 7, \"tickvalues\": null}], \"lines\": [{\"color\": \"#0000FF\", \"yindex\": 1, \"coordinates\": \"data\", \"dasharray\": \"10,0\", \"zorder\": 2, \"alpha\": 1, \"xindex\": 0, \"linewidth\": 2, \"data\": \"data01\", \"id\": \"el3384434226640\"}], \"markers\": [], \"id\": \"el3384432674960\", \"ydomain\": [-3.0, 3.0], \"collections\": [], \"xscale\": \"linear\", \"bbox\": [0.125, 0.125, 0.77500000000000002, 0.77500000000000002]}], \"height\": 320.0, \"width\": 640.0, \"plugins\": [{\"type\": \"reset\"}, {\"enabled\": false, \"button\": true, \"type\": \"zoom\"}, {\"enabled\": false, \"button\": true, \"type\": \"boxzoom\"}, {\"fontsize\": 16, \"fmt\": \".3g\", \"type\": \"mouseposition\"}], \"data\": {\"data01\": [[0.0, 0.44907078622450697], [1.0, -0.9921264405516561], [2.0, 0.26787849182594836], [3.0, 2.3467579868990125], [4.0, -1.5956670277175382], [5.0, 1.4464214956162147], [6.0, 0.9931141534946006], [7.0, 0.996427652790569], [8.0, -0.8161769479467339], [9.0, -0.7604901401240599], [10.0, 0.0732574498357521], [11.0, -0.6851213954623604], [12.0, 0.11943463342575919], [13.0, 0.7902214360238747], [14.0, 0.5689516041317602], [15.0, 0.1443466099103401], [16.0, -0.8745595575885718], [17.0, -0.27175805383227364], [18.0, -1.3192511550390085], [19.0, -1.0182089254142888], [20.0, -1.443068120539704], [21.0, -0.04969515159897952], [22.0, -0.07170959247345779], [23.0, -1.0495839422087052], [24.0, 2.4004539186295193], [25.0, -0.14973278023401068], [26.0, -1.2695415241698569], [27.0, -0.6044574884569395], [28.0, 0.6724821806666416], [29.0, 0.01457693418869614], [30.0, -1.10256579637455], [31.0, -0.6619968307570946], [32.0, 1.1060162712871247], [33.0, -1.677221440339461], [34.0, -0.8334867611464662], [35.0, -0.041865393002394155], [36.0, 0.3323964884358932], [37.0, -0.36918556686071247], [38.0, 2.2514209653539625], [39.0, 0.7455619205724447], [40.0, 0.6350467039882371], [41.0, 2.5576056479715295], [42.0, 1.990078872462924], [43.0, 0.9378582613890752], [44.0, 1.8776640492784016], [45.0, -2.6332852621162623], [46.0, -0.7245330070678192], [47.0, -0.3864123308463711], [48.0, -1.03580745836127], [49.0, 0.9071757676203386], [50.0, 1.5694886978288927], [51.0, -1.3062024066379325], [52.0, 0.13290733168130006], [53.0, 1.5646422530702688], [54.0, 1.078302849682979], [55.0, -0.0193751002860105], [56.0, 2.0510434719092236], [57.0, 1.1256113560518046], [58.0, 0.49986473806655624], [59.0, -0.7168667647629703], [60.0, -0.622546090093498], [61.0, -1.2460711432920064], [62.0, 1.8934792118255745], [63.0, 0.58329701576622], [64.0, 0.7413762510106013], [65.0, -0.477248308263028], [66.0, 0.7283910494745969], [67.0, 0.8410447746749018], [68.0, 0.040061693598687276], [69.0, 0.7261422550574129], [70.0, -2.585433410731293], [71.0, 1.1229108459648616], [72.0, 0.4024532084685683], [73.0, 1.025396637981767], [74.0, 0.09439234218796436], [75.0, 0.5126477161748365], [76.0, -0.532439163188407], [77.0, 0.6119511663972682], [78.0, 0.26915962084313133], [79.0, -0.6338549618986631], [80.0, -0.7394411967659515], [81.0, 0.8063918949902212], [82.0, -0.272774403102693], [83.0, -1.5694623570406234], [84.0, 0.6207231948619552], [85.0, -0.6396705674194062], [86.0, -1.4107631986815767], [87.0, -0.24028210724414206], [88.0, 1.725251021487705], [89.0, -1.0106198123829617], [90.0, -1.076537296888362], [91.0, 0.0914323286810725], [92.0, -0.5310766861139391], [93.0, 0.23314750482409272], [94.0, -0.7732894936217898], [95.0, -0.6551976241031058], [96.0, 1.5766629880746132], [97.0, 1.1243140243483167], [98.0, 0.5704451540534482], [99.0, -1.1547689727840296]]}, \"id\": \"el3384428547088\"});\n",
        "            })\n",
        "         });\n",
        "}\n",
        "</script>"
       ],
       "metadata": {},
       "output_type": "display_data",
       "png": "[encoded data removed]",
       "text": [
        "<matplotlib.figure.Figure at 0x107f64410>"
       ]
      }
     ],
     "prompt_number": 135
    },
    {
     "cell_type": "code",
     "collapsed": false,
     "input": [
      "mpld3.save_html(f, './mpld3_figure.html')"
     ],
     "language": "python",
     "metadata": {},
     "outputs": [],
     "prompt_number": 136
    },
    {
     "cell_type": "markdown",
     "metadata": {},
     "source": [
      "+ [open in a new tab](./mpld3_figure.html)\n",
      "\n",
      "+ [some more examples](http://mpld3.github.io/examples/index.html) from the mpld3 gallery"
     ]
    },
    {
     "cell_type": "markdown",
     "metadata": {},
     "source": [
      "<hr size = 6>\n",
      "\n",
      "## BOKEH"
     ]
    },
    {
     "cell_type": "markdown",
     "metadata": {},
     "source": [
      "[bokeh](http://bokeh.pydata.org/) is a library developed by [continuum analytics](http://continuum.io)  \n",
      "\n",
      "from their website:\n",
      "\n",
      "*Bokeh is a Python interactive visualization library that targets modern web browsers for presentation. Its goal is to provide elegant, concise construction of novel graphics in the style of D3.js, but also deliver this capability with high-performance interactivity over very large or streaming datasets. Bokeh can help anyone who would like to quickly and easily create interactive plots, dashboards, and data applications.*"
     ]
    },
    {
     "cell_type": "code",
     "collapsed": false,
     "input": [
      "from bokeh import plotting as bplt"
     ],
     "language": "python",
     "metadata": {},
     "outputs": [],
     "prompt_number": 137
    },
    {
     "cell_type": "code",
     "collapsed": false,
     "input": [
      "bokehplot = './bokeh_plot.html'"
     ],
     "language": "python",
     "metadata": {},
     "outputs": [],
     "prompt_number": 138
    },
    {
     "cell_type": "code",
     "collapsed": false,
     "input": [
      "if os.path.exists(bokehplot): \n",
      "    os.remove(bokehplot)"
     ],
     "language": "python",
     "metadata": {},
     "outputs": [],
     "prompt_number": 142
    },
    {
     "cell_type": "code",
     "collapsed": false,
     "input": [
      "bplt.output_file(bokehplot, title='bokeh plot', autosave=False)"
     ],
     "language": "python",
     "metadata": {},
     "outputs": [],
     "prompt_number": 140
    },
    {
     "cell_type": "code",
     "collapsed": false,
     "input": [
      "bplt.figure()\n",
      "b = bplt.line(xdf.index, xdf['A'])\n",
      "bplt.show()"
     ],
     "language": "python",
     "metadata": {},
     "outputs": [],
     "prompt_number": 141
    },
    {
     "cell_type": "markdown",
     "metadata": {},
     "source": [
      "To know more about bokeh: \n",
      "    \n",
      "[http://bokeh.pydata.org/](http://bokeh.pydata.org/)"
     ]
    },
    {
     "cell_type": "markdown",
     "metadata": {},
     "source": [
      "if you use the [anaconda python distribution](), all the bokeh examples are saved in \n",
      "\n",
      "    ${anaconda}/Examples/bokeh "
     ]
    },
    {
     "cell_type": "markdown",
     "metadata": {},
     "source": [
      "<hr size=6> "
     ]
    },
    {
     "cell_type": "heading",
     "level": 2,
     "metadata": {},
     "source": [
      "BEARCART"
     ]
    },
    {
     "cell_type": "markdown",
     "metadata": {},
     "source": [
      "[bearcart](https://github.com/wrobstory/bearcart) has been developed by [Rob Story](http://wrobstory.github.io/) and provides an interface to the \n",
      "[rickshaw](http://code.shutterstock.com/rickshaw/) JavaScript library. It does one thing really, which is to plot **time series**, but it does it (amazingly) well !\n",
      "<br>\n",
      "<br>"
     ]
    },
    {
     "cell_type": "code",
     "collapsed": false,
     "input": [
      "import bearcart \n",
      "from datetime import datetime"
     ],
     "language": "python",
     "metadata": {},
     "outputs": [],
     "prompt_number": 143
    },
    {
     "cell_type": "code",
     "collapsed": false,
     "input": [
      "xdf = pd.DataFrame(np.cumsum(np.random.normal(size=(365,3)), axis=0), columns=['A','B','C'], \\\n",
      "                   index=pd.date_range(datetime(1998,1,1,0,0,0), periods=365))"
     ],
     "language": "python",
     "metadata": {},
     "outputs": [],
     "prompt_number": 144
    },
    {
     "cell_type": "code",
     "collapsed": false,
     "input": [
      "vis = bearcart.Chart(xdf, height=500, width=750, colors={'A':'#FF0000', 'B':'#0066FF', 'C':'#33CC33'})"
     ],
     "language": "python",
     "metadata": {},
     "outputs": [],
     "prompt_number": 145
    },
    {
     "cell_type": "code",
     "collapsed": false,
     "input": [
      "html_path = r'bearcart.html'\n",
      "data_path = r'data.json'\n",
      "js_path = r'rickshaw.min.js'\n",
      "css_path = r'rickshaw.min.css'"
     ],
     "language": "python",
     "metadata": {},
     "outputs": [],
     "prompt_number": 146
    },
    {
     "cell_type": "code",
     "collapsed": false,
     "input": [
      "vis.create_chart(html_path=html_path, data_path=data_path, js_path=js_path, css_path=css_path)"
     ],
     "language": "python",
     "metadata": {},
     "outputs": [],
     "prompt_number": 147
    },
    {
     "cell_type": "markdown",
     "metadata": {},
     "source": [
      "Open the url [here](./bearcart.html)"
     ]
    },
    {
     "cell_type": "markdown",
     "metadata": {},
     "source": [
      "<hr size = 6>"
     ]
    },
    {
     "cell_type": "heading",
     "level": 2,
     "metadata": {},
     "source": [
      "FOLIUM"
     ]
    },
    {
     "cell_type": "markdown",
     "metadata": {},
     "source": [
      "[folium](https://github.com/wrobstory/folium)  has been also been developed by [Rob Story](http://wrobstory.github.io/) to provide an interface to the [leaflet.js](http://leafletjs.com/) JavaScript mapping library"
     ]
    },
    {
     "cell_type": "code",
     "collapsed": false,
     "input": [
      "import folium"
     ],
     "language": "python",
     "metadata": {},
     "outputs": [],
     "prompt_number": 30
    },
    {
     "cell_type": "code",
     "collapsed": false,
     "input": [
      "x = np.random.randn(100)\n",
      "\n",
      "fout = './figure.png'\n",
      "res = 80\n",
      "w, h = 4, 2\n",
      "\n",
      "f, ax = plt.subplots(figsize=(w, h))\n",
      "ax.fill_between(np.arange(len(x)), 0, x, where=(x>=0), color='b', interpolate=True)\n",
      "ax.fill_between(np.arange(len(x)), 0, x, where=(x<0), color='r', interpolate=True)\n",
      "ax.grid(color='.8')\n",
      "f.savefig('./figure.png', dpi = res)\n",
      "\n",
      "textpop = \"\"\"<div align='center'> \\\n",
      "<img src='{}' alt='imaginary temperature anomaly' width='{}' height='{}'> </div>\"\"\".format(fout, w*res, h*res)"
     ],
     "language": "python",
     "metadata": {},
     "outputs": [
      {
       "metadata": {},
       "output_type": "display_data",
       "png": "[encoded data removed]",
       "text": [
        "<matplotlib.figure.Figure at 0x10771f190>"
       ]
      }
     ],
     "prompt_number": 32
    },
    {
     "cell_type": "code",
     "collapsed": false,
     "input": [
      "from map_notebook import * # local functions"
     ],
     "language": "python",
     "metadata": {},
     "outputs": [],
     "prompt_number": 34
    },
    {
     "cell_type": "code",
     "collapsed": false,
     "input": [
      "map = folium.Map(location=[-13.8333, -171.7500], zoom_start=10, tiles='Mapbox', API_key='nicolasf.ic0ebom5')"
     ],
     "language": "python",
     "metadata": {},
     "outputs": [],
     "prompt_number": 26
    },
    {
     "cell_type": "code",
     "collapsed": false,
     "input": [
      "map.circle_marker(location=[-13.8333, -171.7500], popup=textpop, fill_color='#FF0000', line_color=None, radius=3000)\n",
      "map.circle_marker(location=[-13.9, -171.7400], popup=textpop, fill_color='#FF0000', line_color=None, radius=2000)"
     ],
     "language": "python",
     "metadata": {},
     "outputs": [],
     "prompt_number": 27
    },
    {
     "cell_type": "code",
     "collapsed": false,
     "input": [
      "inline_map(map)"
     ],
     "language": "python",
     "metadata": {},
     "outputs": [
      {
       "html": [
        "<iframe srcdoc=\"<!DOCTYPE html>\n",
        "<head>\n",
        "   <link rel=&quot;stylesheet&quot; href=&quot;http://cdn.leafletjs.com/leaflet-0.5/leaflet.css&quot; />\n",
        "   <script src=&quot;http://cdn.leafletjs.com/leaflet-0.5/leaflet.js&quot;></script>\n",
        "   \n",
        "   \n",
        "   \n",
        "   \n",
        "\n",
        "\n",
        "<style>\n",
        "\n",
        "#map {\n",
        "  position:absolute;\n",
        "  top:0;\n",
        "  bottom:0;\n",
        "  right:0;\n",
        "  left:0;\n",
        "}\n",
        "\n",
        "</style>\n",
        "</head>\n",
        "<body>\n",
        "\n",
        "        <div id=&quot;map&quot; style=&quot;width: 960px; height: 500px&quot;></div>\n",
        "\n",
        "<script>\n",
        "\n",
        "\n",
        "\n",
        "var map = L.map('map').setView([-13.8333, -171.75], 10);\n",
        "\n",
        "L.tileLayer('http://{s}.tiles.mapbox.com/v3/nicolasf.ic0ebom5/{z}/{x}/{y}.png', {\n",
        "    maxZoom: 18,\n",
        "    attribution: 'Map tiles by <a href=&quot;http://www.mapbox.com/m&quot;>Mapbox</a> Data by <a href=&quot;http://openstreetmap.org&quot;>OpenStreetMap</a>, under <a href=&quot;http://creativecommons.org/licenses/by-sa/3.0&quot;>CC BY SA</a>.'\n",
        "}).addTo(map);\n",
        "\n",
        "\n",
        "var circle_1 = L.circle([-13.8333, -171.75], 3000, {\n",
        "                            color: 'None',\n",
        "                            fillColor: '#FF0000',\n",
        "                            fillOpacity: 0.6\n",
        "                            });\n",
        "circle_1.bindPopup(&quot;<div align='center'> <img src='./figure.png' alt='imaginary temperature anomaly' width='320' height='160'> </div>&quot;);\n",
        "map.addLayer(circle_1)\n",
        "\n",
        "var circle_2 = L.circle([-13.9, -171.74], 2000, {\n",
        "                            color: 'None',\n",
        "                            fillColor: '#FF0000',\n",
        "                            fillOpacity: 0.6\n",
        "                            });\n",
        "circle_2.bindPopup(&quot;<div align='center'> <img src='./figure.png' alt='imaginary temperature anomaly' width='320' height='160'> </div>&quot;);\n",
        "map.addLayer(circle_2)\n",
        "\n",
        "\n",
        "\n",
        "\n",
        "\n",
        "\n",
        "</script>\n",
        "\n",
        "</body>\" style=\"width: 100%; height: 510px; border: none\"></iframe>"
       ],
       "metadata": {},
       "output_type": "pyout",
       "prompt_number": 28,
       "text": [
        "<IPython.core.display.HTML at 0x1077d2390>"
       ]
      }
     ],
     "prompt_number": 28
    }
   ],
   "metadata": {}
  }
 ]
}